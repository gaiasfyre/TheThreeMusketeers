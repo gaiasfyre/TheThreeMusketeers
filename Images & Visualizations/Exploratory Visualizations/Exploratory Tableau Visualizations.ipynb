{
 "cells": [
  {
   "cell_type": "markdown",
   "id": "34245314",
   "metadata": {},
   "source": [
    "# Exploratory Tableau Visaulizations"
   ]
  },
  {
   "cell_type": "markdown",
   "id": "82b29227",
   "metadata": {},
   "source": [
    "## Autumn"
   ]
  },
  {
   "cell_type": "markdown",
   "id": "b1cde3af",
   "metadata": {},
   "source": [
    "Fixed Acidity: https://public.tableau.com/views/FixedAcidity_16534266598810/FixedAcidityDashboard?:language=en-US&publish=yes&:display_count=n&:origin=viz_share_link\n",
    "\n",
    "Residual Sugars: https://public.tableau.com/views/ResidualSugars/ResidualSugarsDashboard?:language=en-US&publish=yes&:display_count=n&:origin=viz_share_link\n",
    "\n",
    "Sulphates: https://public.tableau.com/views/Sulphates_16540901192300/SulphatesDashboard?:language=en-US&publish=yes&:display_count=n&:origin=viz_share_link    \n",
    "\n",
    "Citric Acid: https://public.tableau.com/views/CitricAcid/CitricAcidDashboard?:language=en-US&publish=yes&:display_count=n&:origin=viz_share_link \n",
    "\n",
    "pH: https://public.tableau.com/views/pH_16540954866930/pHDashboard?:language=en-US&publish=yes&:display_count=n&:origin=viz_share_link  \n",
    "\n",
    "Quality: https://public.tableau.com/views/Quality_16540951455320/QualityDashboard?:language=en-US&publish=yes&:display_count=n&:origin=viz_share_link"
   ]
  },
  {
   "cell_type": "markdown",
   "id": "ae71e246",
   "metadata": {},
   "source": [
    "## Erin"
   ]
  },
  {
   "cell_type": "markdown",
   "id": "768429e8",
   "metadata": {},
   "source": [
    "Chlorides: https://public.tableau.com/views/ChloridesDashboard/Dash-Chloride?:language=en-US&publish=yes&:display_count=n&:origin=viz_share_link\\\n",
    "\n",
    "Total Sulfur Dioxide: https://public.tableau.com/views/TotalSulfurDioxideDashboard/Dash-TotalSulfurDioxide?:language=en-US&:display_count=n&:origin=viz_share_link\\\n",
    "\n",
    "Free Sulfur Dioxide:https://public.tableau.com/views/FreeSulfurDioxideDashboard/DASH-FreeSulfurDioxide?:language=en-US&:display_count=n&:origin=viz_share_link\\\n",
    "\n",
    "Volatile Acidity: https://public.tableau.com/views/VolatileAcididtyDashboard/DASH-VolatileAcidity?:language=en-US&publish=yes&:display_count=n&:origin=viz_share_link\\\n",
    "\n"
   ]
  },
  {
   "cell_type": "markdown",
   "id": "2ef2a0fb",
   "metadata": {},
   "source": [
    "## Georgia"
   ]
  },
  {
   "cell_type": "markdown",
   "id": "790d2dcc",
   "metadata": {},
   "source": [
    "Alcohol: https://public.tableau.com/app/profile/georgia6578/viz/AlcoholGraphs/AlcoholScatterplot#1\n",
    "\n",
    "Density: https://public.tableau.com/app/profile/georgia6578/viz/DensityGraphs/DensityScatterplot#1"
   ]
  }
 ],
 "metadata": {
  "kernelspec": {
   "display_name": "R",
   "language": "R",
   "name": "ir"
  },
  "language_info": {
   "codemirror_mode": "r",
   "file_extension": ".r",
   "mimetype": "text/x-r-source",
   "name": "R",
   "pygments_lexer": "r",
   "version": "4.1.1"
  }
 },
 "nbformat": 4,
 "nbformat_minor": 5
}
