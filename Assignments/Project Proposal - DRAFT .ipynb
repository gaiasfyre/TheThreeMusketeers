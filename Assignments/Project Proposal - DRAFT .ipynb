{
 "cells": [
  {
   "cell_type": "markdown",
   "id": "c7198af4-6dcd-4f67-bb4a-8f0c133ebf9c",
   "metadata": {},
   "source": [
    "## Project Proposal - DRAFT TO BE REVIEWED & IMPROVED"
   ]
  },
  {
   "cell_type": "markdown",
   "id": "525e8bc5-54af-4e62-896a-0adde9606773",
   "metadata": {},
   "source": [
    "## Wine Quality Analysis of Vinho Verde Red Wines "
   ]
  },
  {
   "cell_type": "markdown",
   "id": "e26c1ed3-1fc7-41e8-b21a-002c283633c9",
   "metadata": {},
   "source": [
    "---\n",
    "## Executive Summary\n",
    "\n",
    "The purpose of this document is to outline the flow and outcome of this project. This project will explore the quality of Vinho Verde wines within a region and select the more relevant physiochemical features that contribute to wine quality and in which ways. The assumption is that when wine quality is assessed and refined to produce more quality wines, sales within the region will increase. While assessing the sales data within the region is outside of the scope of this project, that is the assumption that is being made here. The one limitation of this project is that the wines sampled in this data excerpt are more reflective of normal wines, than excellent or poor.\n",
    "To conduct this analysis, the first portion will be feature selection using stepwise binary logistic regression. Once the features are selected, the second portion of this project will be using classification to assess the individual features' effect on the quality. This project will require a project manager to ensure the project is moving along, a scrum master to make sure hurdles are overcome, a few data analysts to do some exploratory analysis, a few data scientists to make sure the machine learning model is robust and data visualization is accurate, and a business analyst to make sure that the project is meeting the requirements of the business.\n",
    "The limitations of this project are there not being data on grape types, wine brand, or price point. The dataset is also limited in terms of size and the project deadline is somewhat limited. Risks are similar to the limitations within an addition of the dataset being imbalanced towards normal quality wines and the dataset being somewhat outdated (from 2009) so the physiochemical features back then might be different than they are today due to the effects of climate change."
   ]
  },
  {
   "cell_type": "markdown",
   "id": "0adc9ba3-23f4-40f1-8faf-24554df8760a",
   "metadata": {},
   "source": [
    "---\n",
    "## Business Objectives\n",
    "\n",
    "Due to rarity of red wine produced in region, this analysis will help create a better understanding of the current quality of wine for sales and provide a basis on how to improve wine quality."
   ]
  },
  {
   "cell_type": "markdown",
   "id": "41f3e81c-9989-4833-9fff-3e3290743710",
   "metadata": {},
   "source": [
    "---\n",
    "## Background\n",
    "\n",
    "There is a lack of data in red wine quality in the tested area, and as data scientists we wanted to take a look at current quality of wine to find opportunities to boost sales and improve wine quality in the region."
   ]
  },
  {
   "cell_type": "markdown",
   "id": "37cfc6ee-17cd-4fc7-9057-8c67daf49fca",
   "metadata": {},
   "source": [
    "---\n",
    "## Scope\n",
    "\n",
    "Included in this scope is the factors affecting the quality of red wine in the Vino Verde region. Analysis of sales data is outside of the scope of this project. Analysis of white wine will be outside of the scope of this project. The factors are as follows: fixed acidity, volatile acidity, citric acid, residual sugar, chlorides, free sulfur dioxide, total sulfur dioxide, density, pH, sulphates, alcohol."
   ]
  },
  {
   "cell_type": "markdown",
   "id": "39d881b9-dee3-4bb3-a9d3-98e633d29400",
   "metadata": {},
   "source": [
    "---\n",
    "## Functional requirements\n",
    "\n",
    "We will be using stepwise binary logistic regression to analyse the importance of the given factors to the quality of wine listed. We will also be using K Mean to analyse how each factor with the most impact affects the quality of wine. There will be access to Tableau to see the visualization tables provided. There will be access to a powerpoint presentation for in-depth analysis outcomes of this project."
   ]
  },
  {
   "cell_type": "markdown",
   "id": "97358ce8-99d0-4eda-aee4-4fad59988d38",
   "metadata": {},
   "source": [
    "---\n",
    "## Personnel requirements\n",
    "\n",
    "There will be five data scientists working on this project. We will need a Project Manager to oversee the project, a scrum master to facilitate overcoming any hurdles that arise, a data analyst to work on exploratory analysis, a data scientist to work on machine learning and visualization tools, and a business analyst to ensure the needs of the business are being met."
   ]
  },
  {
   "cell_type": "markdown",
   "id": "554cdf1a-a8f3-44d1-8dc7-8b1dde5a9439",
   "metadata": {},
   "source": [
    "---\n",
    "## Delivery schedule\n",
    "\n",
    "    Week 1: Project Planning\n",
    "    Week 2: Data Wrangling\n",
    "    Week 3: Data Exploration\n",
    "    Week 4: Data Analysis\n",
    "    Week 5: Data Visualization\n",
    "    Week 6: Data Reporting and Presentation"
   ]
  },
  {
   "cell_type": "markdown",
   "id": "43d2303a-71bd-4b35-8991-e872696dd7f8",
   "metadata": {},
   "source": [
    "---\n",
    "## Assumptions\n",
    "\n",
    "We will be assuming the wines are available for testing even with rarity, and that there are testers available in the area. There is an assumption of population size in relation to the data sample."
   ]
  },
  {
   "cell_type": "markdown",
   "id": "5250f3e2-d6ff-4359-bb01-5cb23df03822",
   "metadata": {},
   "source": [
    "---\n",
    "## Limitations\n",
    "\n",
    "There is no data on grape types, wine brand or selling price in this dataset. There is a small sample size. There is a six week deadline to this project."
   ]
  },
  {
   "cell_type": "markdown",
   "id": "5174941c-9a3b-4bed-9e61-fd258d67229c",
   "metadata": {},
   "source": [
    "---\n",
    "## Risks\n",
    "\n",
    "Due to small sample size, the analysis of data may not be accurate in relation to actual quality of the wine. The data might be skewed due to previous cleaning of data from former user. Due to age of data, physiochemical properties might have changed. The classification is skewed due to inbalance, there are more normal wines than excellent or poor."
   ]
  },
  {
   "cell_type": "code",
   "execution_count": null,
   "id": "a6a38725-933c-4efc-add7-9cc8c6a5b819",
   "metadata": {},
   "outputs": [],
   "source": []
  }
 ],
 "metadata": {
  "kernelspec": {
   "display_name": "Python 3 (ipykernel)",
   "language": "python",
   "name": "python3"
  },
  "language_info": {
   "codemirror_mode": {
    "name": "ipython",
    "version": 3
   },
   "file_extension": ".py",
   "mimetype": "text/x-python",
   "name": "python",
   "nbconvert_exporter": "python",
   "pygments_lexer": "ipython3",
   "version": "3.9.7"
  }
 },
 "nbformat": 4,
 "nbformat_minor": 5
}
