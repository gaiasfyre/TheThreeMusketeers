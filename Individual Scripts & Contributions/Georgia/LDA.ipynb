{
 "cells": [
  {
   "cell_type": "markdown",
   "id": "184a8da8-3f14-4d2e-b2ab-a20dabd801b4",
   "metadata": {},
   "source": [
    "# LDA "
   ]
  },
  {
   "cell_type": "code",
   "execution_count": 1,
   "id": "221dd98a-867b-4e96-8e5b-5d78989eaace",
   "metadata": {},
   "outputs": [
    {
     "name": "stderr",
     "output_type": "stream",
     "text": [
      "Warning message:\n",
      "\"package 'tidyverse' was built under R version 4.1.3\"\n",
      "-- \u001b[1mAttaching packages\u001b[22m ------------------------------------------------------------------------------- tidyverse 1.3.1 --\n",
      "\n",
      "\u001b[32mv\u001b[39m \u001b[34mggplot2\u001b[39m 3.3.5     \u001b[32mv\u001b[39m \u001b[34mpurrr  \u001b[39m 0.3.4\n",
      "\u001b[32mv\u001b[39m \u001b[34mtibble \u001b[39m 3.1.5     \u001b[32mv\u001b[39m \u001b[34mdplyr  \u001b[39m 1.0.7\n",
      "\u001b[32mv\u001b[39m \u001b[34mtidyr  \u001b[39m 1.1.4     \u001b[32mv\u001b[39m \u001b[34mstringr\u001b[39m 1.4.0\n",
      "\u001b[32mv\u001b[39m \u001b[34mreadr  \u001b[39m 2.1.2     \u001b[32mv\u001b[39m \u001b[34mforcats\u001b[39m 0.5.1\n",
      "\n",
      "Warning message:\n",
      "\"package 'tidyr' was built under R version 4.1.2\"\n",
      "Warning message:\n",
      "\"package 'readr' was built under R version 4.1.2\"\n",
      "Warning message:\n",
      "\"package 'forcats' was built under R version 4.1.2\"\n",
      "-- \u001b[1mConflicts\u001b[22m ---------------------------------------------------------------------------------- tidyverse_conflicts() --\n",
      "\u001b[31mx\u001b[39m \u001b[34mdplyr\u001b[39m::\u001b[32mfilter()\u001b[39m masks \u001b[34mstats\u001b[39m::filter()\n",
      "\u001b[31mx\u001b[39m \u001b[34mdplyr\u001b[39m::\u001b[32mlag()\u001b[39m    masks \u001b[34mstats\u001b[39m::lag()\n",
      "\n",
      "Warning message:\n",
      "\"package 'caret' was built under R version 4.1.3\"\n",
      "Loading required package: lattice\n",
      "\n",
      "\n",
      "Attaching package: 'caret'\n",
      "\n",
      "\n",
      "The following object is masked from 'package:purrr':\n",
      "\n",
      "    lift\n",
      "\n",
      "\n",
      "Warning message:\n",
      "\"package 'lmtest' was built under R version 4.1.3\"\n",
      "Loading required package: zoo\n",
      "\n",
      "Warning message:\n",
      "\"package 'zoo' was built under R version 4.1.2\"\n",
      "\n",
      "Attaching package: 'zoo'\n",
      "\n",
      "\n",
      "The following objects are masked from 'package:base':\n",
      "\n",
      "    as.Date, as.Date.numeric\n",
      "\n",
      "\n",
      "\n",
      "Attaching package: 'magrittr'\n",
      "\n",
      "\n",
      "The following object is masked from 'package:purrr':\n",
      "\n",
      "    set_names\n",
      "\n",
      "\n",
      "The following object is masked from 'package:tidyr':\n",
      "\n",
      "    extract\n",
      "\n",
      "\n",
      "\n",
      "Attaching package: 'popbio'\n",
      "\n",
      "\n",
      "The following object is masked from 'package:caret':\n",
      "\n",
      "    sensitivity\n",
      "\n",
      "\n",
      "Warning message:\n",
      "\"package 'e1071' was built under R version 4.1.2\"\n",
      "Warning message:\n",
      "\"package 'PerformanceAnalytics' was built under R version 4.1.3\"\n",
      "Loading required package: xts\n",
      "\n",
      "Warning message:\n",
      "\"package 'xts' was built under R version 4.1.3\"\n",
      "\n",
      "Attaching package: 'xts'\n",
      "\n",
      "\n",
      "The following objects are masked from 'package:dplyr':\n",
      "\n",
      "    first, last\n",
      "\n",
      "\n",
      "\n",
      "Attaching package: 'PerformanceAnalytics'\n",
      "\n",
      "\n",
      "The following objects are masked from 'package:e1071':\n",
      "\n",
      "    kurtosis, skewness\n",
      "\n",
      "\n",
      "The following object is masked from 'package:graphics':\n",
      "\n",
      "    legend\n",
      "\n",
      "\n",
      "Warning message:\n",
      "\"package 'corrplot' was built under R version 4.1.3\"\n",
      "corrplot 0.92 loaded\n",
      "\n",
      "\n",
      "Attaching package: 'MASS'\n",
      "\n",
      "\n",
      "The following object is masked from 'package:dplyr':\n",
      "\n",
      "    select\n",
      "\n",
      "\n",
      "Warning message:\n",
      "\"package 'brant' was built under R version 4.1.3\"\n"
     ]
    }
   ],
   "source": [
    "library(\"tidyverse\")\n",
    "library(\"caret\")\n",
    "library(\"lmtest\")\n",
    "library(\"magrittr\")\n",
    "library(\"dplyr\")\n",
    "library(\"tidyr\")\n",
    "library(\"popbio\")\n",
    "library(\"e1071\")\n",
    "library(\"PerformanceAnalytics\")\n",
    "library(\"corrplot\")\n",
    "library(\"corpcor\")\n",
    "library(\"MASS\")\n",
    "library(\"brant\")\n",
    "library(\"MASS\")\n",
    "library(\"ggplot2\")"
   ]
  },
  {
   "cell_type": "markdown",
   "id": "b51c29c4-40b3-42f8-ab40-fbd34f122b99",
   "metadata": {},
   "source": [
    "### Set Working Directory"
   ]
  },
  {
   "cell_type": "code",
   "execution_count": null,
   "id": "2c4a3da6-c7bf-43f6-82f1-e7f364d21b71",
   "metadata": {},
   "outputs": [],
   "source": [
    "setwd(\"/Users/georg/Documents/GitHub/TheThreeMusketeers\")"
   ]
  },
  {
   "cell_type": "markdown",
   "id": "e304fad6-1aa8-45fc-aa36-1dad1e53aa03",
   "metadata": {},
   "source": [
    "### Import Dataset"
   ]
  },
  {
   "cell_type": "code",
   "execution_count": 6,
   "id": "d05cfc21-718b-4768-960f-0c29f63cf05c",
   "metadata": {},
   "outputs": [
    {
     "data": {
      "text/html": [
       "<table class=\"dataframe\">\n",
       "<caption>A data.frame: 6 × 13</caption>\n",
       "<thead>\n",
       "\t<tr><th></th><th scope=col>fixed.acidity</th><th scope=col>volatile.acidity</th><th scope=col>citric.acid</th><th scope=col>residual.sugar</th><th scope=col>chlorides</th><th scope=col>free.sulfur.dioxide</th><th scope=col>total.sulfur.dioxide</th><th scope=col>density</th><th scope=col>pH</th><th scope=col>sulphates</th><th scope=col>alcohol</th><th scope=col>quality</th><th scope=col>Id</th></tr>\n",
       "\t<tr><th></th><th scope=col>&lt;dbl&gt;</th><th scope=col>&lt;dbl&gt;</th><th scope=col>&lt;dbl&gt;</th><th scope=col>&lt;dbl&gt;</th><th scope=col>&lt;dbl&gt;</th><th scope=col>&lt;dbl&gt;</th><th scope=col>&lt;dbl&gt;</th><th scope=col>&lt;dbl&gt;</th><th scope=col>&lt;dbl&gt;</th><th scope=col>&lt;dbl&gt;</th><th scope=col>&lt;dbl&gt;</th><th scope=col>&lt;int&gt;</th><th scope=col>&lt;int&gt;</th></tr>\n",
       "</thead>\n",
       "<tbody>\n",
       "\t<tr><th scope=row>1</th><td> 7.4</td><td>0.70</td><td>0.00</td><td>1.9</td><td>0.076</td><td>11</td><td>34</td><td>0.9978</td><td>3.51</td><td>0.56</td><td>9.4</td><td>5</td><td>0</td></tr>\n",
       "\t<tr><th scope=row>2</th><td> 7.8</td><td>0.88</td><td>0.00</td><td>2.6</td><td>0.098</td><td>25</td><td>67</td><td>0.9968</td><td>3.20</td><td>0.68</td><td>9.8</td><td>5</td><td>1</td></tr>\n",
       "\t<tr><th scope=row>3</th><td> 7.8</td><td>0.76</td><td>0.04</td><td>2.3</td><td>0.092</td><td>15</td><td>54</td><td>0.9970</td><td>3.26</td><td>0.65</td><td>9.8</td><td>5</td><td>2</td></tr>\n",
       "\t<tr><th scope=row>4</th><td>11.2</td><td>0.28</td><td>0.56</td><td>1.9</td><td>0.075</td><td>17</td><td>60</td><td>0.9980</td><td>3.16</td><td>0.58</td><td>9.8</td><td>6</td><td>3</td></tr>\n",
       "\t<tr><th scope=row>5</th><td> 7.4</td><td>0.70</td><td>0.00</td><td>1.9</td><td>0.076</td><td>11</td><td>34</td><td>0.9978</td><td>3.51</td><td>0.56</td><td>9.4</td><td>5</td><td>4</td></tr>\n",
       "\t<tr><th scope=row>6</th><td> 7.4</td><td>0.66</td><td>0.00</td><td>1.8</td><td>0.075</td><td>13</td><td>40</td><td>0.9978</td><td>3.51</td><td>0.56</td><td>9.4</td><td>5</td><td>5</td></tr>\n",
       "</tbody>\n",
       "</table>\n"
      ],
      "text/latex": [
       "A data.frame: 6 × 13\n",
       "\\begin{tabular}{r|lllllllllllll}\n",
       "  & fixed.acidity & volatile.acidity & citric.acid & residual.sugar & chlorides & free.sulfur.dioxide & total.sulfur.dioxide & density & pH & sulphates & alcohol & quality & Id\\\\\n",
       "  & <dbl> & <dbl> & <dbl> & <dbl> & <dbl> & <dbl> & <dbl> & <dbl> & <dbl> & <dbl> & <dbl> & <int> & <int>\\\\\n",
       "\\hline\n",
       "\t1 &  7.4 & 0.70 & 0.00 & 1.9 & 0.076 & 11 & 34 & 0.9978 & 3.51 & 0.56 & 9.4 & 5 & 0\\\\\n",
       "\t2 &  7.8 & 0.88 & 0.00 & 2.6 & 0.098 & 25 & 67 & 0.9968 & 3.20 & 0.68 & 9.8 & 5 & 1\\\\\n",
       "\t3 &  7.8 & 0.76 & 0.04 & 2.3 & 0.092 & 15 & 54 & 0.9970 & 3.26 & 0.65 & 9.8 & 5 & 2\\\\\n",
       "\t4 & 11.2 & 0.28 & 0.56 & 1.9 & 0.075 & 17 & 60 & 0.9980 & 3.16 & 0.58 & 9.8 & 6 & 3\\\\\n",
       "\t5 &  7.4 & 0.70 & 0.00 & 1.9 & 0.076 & 11 & 34 & 0.9978 & 3.51 & 0.56 & 9.4 & 5 & 4\\\\\n",
       "\t6 &  7.4 & 0.66 & 0.00 & 1.8 & 0.075 & 13 & 40 & 0.9978 & 3.51 & 0.56 & 9.4 & 5 & 5\\\\\n",
       "\\end{tabular}\n"
      ],
      "text/markdown": [
       "\n",
       "A data.frame: 6 × 13\n",
       "\n",
       "| <!--/--> | fixed.acidity &lt;dbl&gt; | volatile.acidity &lt;dbl&gt; | citric.acid &lt;dbl&gt; | residual.sugar &lt;dbl&gt; | chlorides &lt;dbl&gt; | free.sulfur.dioxide &lt;dbl&gt; | total.sulfur.dioxide &lt;dbl&gt; | density &lt;dbl&gt; | pH &lt;dbl&gt; | sulphates &lt;dbl&gt; | alcohol &lt;dbl&gt; | quality &lt;int&gt; | Id &lt;int&gt; |\n",
       "|---|---|---|---|---|---|---|---|---|---|---|---|---|---|\n",
       "| 1 |  7.4 | 0.70 | 0.00 | 1.9 | 0.076 | 11 | 34 | 0.9978 | 3.51 | 0.56 | 9.4 | 5 | 0 |\n",
       "| 2 |  7.8 | 0.88 | 0.00 | 2.6 | 0.098 | 25 | 67 | 0.9968 | 3.20 | 0.68 | 9.8 | 5 | 1 |\n",
       "| 3 |  7.8 | 0.76 | 0.04 | 2.3 | 0.092 | 15 | 54 | 0.9970 | 3.26 | 0.65 | 9.8 | 5 | 2 |\n",
       "| 4 | 11.2 | 0.28 | 0.56 | 1.9 | 0.075 | 17 | 60 | 0.9980 | 3.16 | 0.58 | 9.8 | 6 | 3 |\n",
       "| 5 |  7.4 | 0.70 | 0.00 | 1.9 | 0.076 | 11 | 34 | 0.9978 | 3.51 | 0.56 | 9.4 | 5 | 4 |\n",
       "| 6 |  7.4 | 0.66 | 0.00 | 1.8 | 0.075 | 13 | 40 | 0.9978 | 3.51 | 0.56 | 9.4 | 5 | 5 |\n",
       "\n"
      ],
      "text/plain": [
       "  fixed.acidity volatile.acidity citric.acid residual.sugar chlorides\n",
       "1  7.4          0.70             0.00        1.9            0.076    \n",
       "2  7.8          0.88             0.00        2.6            0.098    \n",
       "3  7.8          0.76             0.04        2.3            0.092    \n",
       "4 11.2          0.28             0.56        1.9            0.075    \n",
       "5  7.4          0.70             0.00        1.9            0.076    \n",
       "6  7.4          0.66             0.00        1.8            0.075    \n",
       "  free.sulfur.dioxide total.sulfur.dioxide density pH   sulphates alcohol\n",
       "1 11                  34                   0.9978  3.51 0.56      9.4    \n",
       "2 25                  67                   0.9968  3.20 0.68      9.8    \n",
       "3 15                  54                   0.9970  3.26 0.65      9.8    \n",
       "4 17                  60                   0.9980  3.16 0.58      9.8    \n",
       "5 11                  34                   0.9978  3.51 0.56      9.4    \n",
       "6 13                  40                   0.9978  3.51 0.56      9.4    \n",
       "  quality Id\n",
       "1 5       0 \n",
       "2 5       1 \n",
       "3 5       2 \n",
       "4 6       3 \n",
       "5 5       4 \n",
       "6 5       5 "
      ]
     },
     "metadata": {},
     "output_type": "display_data"
    }
   ],
   "source": [
    "wineqt <- read.csv(\"Data/WineQT.csv\")\n",
    "head(wineqt)"
   ]
  },
  {
   "cell_type": "markdown",
   "id": "5d919367-a784-4521-a324-90ac83b33b78",
   "metadata": {},
   "source": [
    "## Data Wrangling \n",
    "\n",
    "#### Drop Id Column "
   ]
  },
  {
   "cell_type": "code",
   "execution_count": null,
   "id": "501782b3-baee-4a91-8aa1-cb98cda49a30",
   "metadata": {},
   "outputs": [],
   "source": [
    "wine_subset <- wineqt[, c(1,2,3,4,5,6,7,8,9,10,11,12)]"
   ]
  },
  {
   "cell_type": "markdown",
   "id": "ce6cb0eb-121f-4c37-a532-be9be4555256",
   "metadata": {},
   "source": [
    "#### Recode into three groups"
   ]
  },
  {
   "cell_type": "code",
   "execution_count": 8,
   "id": "59834540-866f-455a-960e-85cad59d7b5a",
   "metadata": {},
   "outputs": [
    {
     "data": {
      "text/html": [
       "<table class=\"dataframe\">\n",
       "<caption>A data.frame: 6 × 13</caption>\n",
       "<thead>\n",
       "\t<tr><th></th><th scope=col>fixed.acidity</th><th scope=col>volatile.acidity</th><th scope=col>citric.acid</th><th scope=col>residual.sugar</th><th scope=col>chlorides</th><th scope=col>free.sulfur.dioxide</th><th scope=col>total.sulfur.dioxide</th><th scope=col>density</th><th scope=col>pH</th><th scope=col>sulphates</th><th scope=col>alcohol</th><th scope=col>quality</th><th scope=col>qualityR</th></tr>\n",
       "\t<tr><th></th><th scope=col>&lt;dbl&gt;</th><th scope=col>&lt;dbl&gt;</th><th scope=col>&lt;dbl&gt;</th><th scope=col>&lt;dbl&gt;</th><th scope=col>&lt;dbl&gt;</th><th scope=col>&lt;dbl&gt;</th><th scope=col>&lt;dbl&gt;</th><th scope=col>&lt;dbl&gt;</th><th scope=col>&lt;dbl&gt;</th><th scope=col>&lt;dbl&gt;</th><th scope=col>&lt;dbl&gt;</th><th scope=col>&lt;int&gt;</th><th scope=col>&lt;dbl&gt;</th></tr>\n",
       "</thead>\n",
       "<tbody>\n",
       "\t<tr><th scope=row>1</th><td> 7.4</td><td>0.70</td><td>0.00</td><td>1.9</td><td>0.076</td><td>11</td><td>34</td><td>0.9978</td><td>3.51</td><td>0.56</td><td>9.4</td><td>5</td><td>1</td></tr>\n",
       "\t<tr><th scope=row>2</th><td> 7.8</td><td>0.88</td><td>0.00</td><td>2.6</td><td>0.098</td><td>25</td><td>67</td><td>0.9968</td><td>3.20</td><td>0.68</td><td>9.8</td><td>5</td><td>1</td></tr>\n",
       "\t<tr><th scope=row>3</th><td> 7.8</td><td>0.76</td><td>0.04</td><td>2.3</td><td>0.092</td><td>15</td><td>54</td><td>0.9970</td><td>3.26</td><td>0.65</td><td>9.8</td><td>5</td><td>1</td></tr>\n",
       "\t<tr><th scope=row>4</th><td>11.2</td><td>0.28</td><td>0.56</td><td>1.9</td><td>0.075</td><td>17</td><td>60</td><td>0.9980</td><td>3.16</td><td>0.58</td><td>9.8</td><td>6</td><td>1</td></tr>\n",
       "\t<tr><th scope=row>5</th><td> 7.4</td><td>0.70</td><td>0.00</td><td>1.9</td><td>0.076</td><td>11</td><td>34</td><td>0.9978</td><td>3.51</td><td>0.56</td><td>9.4</td><td>5</td><td>1</td></tr>\n",
       "\t<tr><th scope=row>6</th><td> 7.4</td><td>0.66</td><td>0.00</td><td>1.8</td><td>0.075</td><td>13</td><td>40</td><td>0.9978</td><td>3.51</td><td>0.56</td><td>9.4</td><td>5</td><td>1</td></tr>\n",
       "</tbody>\n",
       "</table>\n"
      ],
      "text/latex": [
       "A data.frame: 6 × 13\n",
       "\\begin{tabular}{r|lllllllllllll}\n",
       "  & fixed.acidity & volatile.acidity & citric.acid & residual.sugar & chlorides & free.sulfur.dioxide & total.sulfur.dioxide & density & pH & sulphates & alcohol & quality & qualityR\\\\\n",
       "  & <dbl> & <dbl> & <dbl> & <dbl> & <dbl> & <dbl> & <dbl> & <dbl> & <dbl> & <dbl> & <dbl> & <int> & <dbl>\\\\\n",
       "\\hline\n",
       "\t1 &  7.4 & 0.70 & 0.00 & 1.9 & 0.076 & 11 & 34 & 0.9978 & 3.51 & 0.56 & 9.4 & 5 & 1\\\\\n",
       "\t2 &  7.8 & 0.88 & 0.00 & 2.6 & 0.098 & 25 & 67 & 0.9968 & 3.20 & 0.68 & 9.8 & 5 & 1\\\\\n",
       "\t3 &  7.8 & 0.76 & 0.04 & 2.3 & 0.092 & 15 & 54 & 0.9970 & 3.26 & 0.65 & 9.8 & 5 & 1\\\\\n",
       "\t4 & 11.2 & 0.28 & 0.56 & 1.9 & 0.075 & 17 & 60 & 0.9980 & 3.16 & 0.58 & 9.8 & 6 & 1\\\\\n",
       "\t5 &  7.4 & 0.70 & 0.00 & 1.9 & 0.076 & 11 & 34 & 0.9978 & 3.51 & 0.56 & 9.4 & 5 & 1\\\\\n",
       "\t6 &  7.4 & 0.66 & 0.00 & 1.8 & 0.075 & 13 & 40 & 0.9978 & 3.51 & 0.56 & 9.4 & 5 & 1\\\\\n",
       "\\end{tabular}\n"
      ],
      "text/markdown": [
       "\n",
       "A data.frame: 6 × 13\n",
       "\n",
       "| <!--/--> | fixed.acidity &lt;dbl&gt; | volatile.acidity &lt;dbl&gt; | citric.acid &lt;dbl&gt; | residual.sugar &lt;dbl&gt; | chlorides &lt;dbl&gt; | free.sulfur.dioxide &lt;dbl&gt; | total.sulfur.dioxide &lt;dbl&gt; | density &lt;dbl&gt; | pH &lt;dbl&gt; | sulphates &lt;dbl&gt; | alcohol &lt;dbl&gt; | quality &lt;int&gt; | qualityR &lt;dbl&gt; |\n",
       "|---|---|---|---|---|---|---|---|---|---|---|---|---|---|\n",
       "| 1 |  7.4 | 0.70 | 0.00 | 1.9 | 0.076 | 11 | 34 | 0.9978 | 3.51 | 0.56 | 9.4 | 5 | 1 |\n",
       "| 2 |  7.8 | 0.88 | 0.00 | 2.6 | 0.098 | 25 | 67 | 0.9968 | 3.20 | 0.68 | 9.8 | 5 | 1 |\n",
       "| 3 |  7.8 | 0.76 | 0.04 | 2.3 | 0.092 | 15 | 54 | 0.9970 | 3.26 | 0.65 | 9.8 | 5 | 1 |\n",
       "| 4 | 11.2 | 0.28 | 0.56 | 1.9 | 0.075 | 17 | 60 | 0.9980 | 3.16 | 0.58 | 9.8 | 6 | 1 |\n",
       "| 5 |  7.4 | 0.70 | 0.00 | 1.9 | 0.076 | 11 | 34 | 0.9978 | 3.51 | 0.56 | 9.4 | 5 | 1 |\n",
       "| 6 |  7.4 | 0.66 | 0.00 | 1.8 | 0.075 | 13 | 40 | 0.9978 | 3.51 | 0.56 | 9.4 | 5 | 1 |\n",
       "\n"
      ],
      "text/plain": [
       "  fixed.acidity volatile.acidity citric.acid residual.sugar chlorides\n",
       "1  7.4          0.70             0.00        1.9            0.076    \n",
       "2  7.8          0.88             0.00        2.6            0.098    \n",
       "3  7.8          0.76             0.04        2.3            0.092    \n",
       "4 11.2          0.28             0.56        1.9            0.075    \n",
       "5  7.4          0.70             0.00        1.9            0.076    \n",
       "6  7.4          0.66             0.00        1.8            0.075    \n",
       "  free.sulfur.dioxide total.sulfur.dioxide density pH   sulphates alcohol\n",
       "1 11                  34                   0.9978  3.51 0.56      9.4    \n",
       "2 25                  67                   0.9968  3.20 0.68      9.8    \n",
       "3 15                  54                   0.9970  3.26 0.65      9.8    \n",
       "4 17                  60                   0.9980  3.16 0.58      9.8    \n",
       "5 11                  34                   0.9978  3.51 0.56      9.4    \n",
       "6 13                  40                   0.9978  3.51 0.56      9.4    \n",
       "  quality qualityR\n",
       "1 5       1       \n",
       "2 5       1       \n",
       "3 5       1       \n",
       "4 6       1       \n",
       "5 5       1       \n",
       "6 5       1       "
      ]
     },
     "metadata": {},
     "output_type": "display_data"
    }
   ],
   "source": [
    "wine_subset$qualityR <- NA\n",
    "wine_subset$qualityR [wine_subset$quality==3] <- 0\n",
    "wine_subset$qualityR [wine_subset$quality==4] <- 0\n",
    "wine_subset$qualityR [wine_subset$quality==5] <- 1\n",
    "wine_subset$qualityR [wine_subset$quality==6] <- 1\n",
    "wine_subset$qualityR [wine_subset$quality==7] <- 2\n",
    "wine_subset$qualityR [wine_subset$quality==8] <- 2\n",
    "head(wine_subset)"
   ]
  },
  {
   "cell_type": "markdown",
   "id": "e3558100-33ef-40b0-89a0-83382e77a947",
   "metadata": {},
   "source": [
    "#### Drop Quality"
   ]
  },
  {
   "cell_type": "code",
   "execution_count": 11,
   "id": "0a5b6153-3631-4d5c-a746-2dea1403aa81",
   "metadata": {},
   "outputs": [
    {
     "data": {
      "text/html": [
       "<table class=\"dataframe\">\n",
       "<caption>A data.frame: 6 × 5</caption>\n",
       "<thead>\n",
       "\t<tr><th></th><th scope=col>volatile.acidity</th><th scope=col>chlorides</th><th scope=col>density</th><th scope=col>pH</th><th scope=col>qualityR</th></tr>\n",
       "\t<tr><th></th><th scope=col>&lt;dbl&gt;</th><th scope=col>&lt;dbl&gt;</th><th scope=col>&lt;dbl&gt;</th><th scope=col>&lt;dbl&gt;</th><th scope=col>&lt;dbl&gt;</th></tr>\n",
       "</thead>\n",
       "<tbody>\n",
       "\t<tr><th scope=row>1</th><td>0.70</td><td>0.076</td><td>0.9978</td><td>3.51</td><td>1</td></tr>\n",
       "\t<tr><th scope=row>2</th><td>0.88</td><td>0.098</td><td>0.9968</td><td>3.20</td><td>1</td></tr>\n",
       "\t<tr><th scope=row>3</th><td>0.76</td><td>0.092</td><td>0.9970</td><td>3.26</td><td>1</td></tr>\n",
       "\t<tr><th scope=row>4</th><td>0.28</td><td>0.075</td><td>0.9980</td><td>3.16</td><td>1</td></tr>\n",
       "\t<tr><th scope=row>5</th><td>0.70</td><td>0.076</td><td>0.9978</td><td>3.51</td><td>1</td></tr>\n",
       "\t<tr><th scope=row>6</th><td>0.66</td><td>0.075</td><td>0.9978</td><td>3.51</td><td>1</td></tr>\n",
       "</tbody>\n",
       "</table>\n"
      ],
      "text/latex": [
       "A data.frame: 6 × 5\n",
       "\\begin{tabular}{r|lllll}\n",
       "  & volatile.acidity & chlorides & density & pH & qualityR\\\\\n",
       "  & <dbl> & <dbl> & <dbl> & <dbl> & <dbl>\\\\\n",
       "\\hline\n",
       "\t1 & 0.70 & 0.076 & 0.9978 & 3.51 & 1\\\\\n",
       "\t2 & 0.88 & 0.098 & 0.9968 & 3.20 & 1\\\\\n",
       "\t3 & 0.76 & 0.092 & 0.9970 & 3.26 & 1\\\\\n",
       "\t4 & 0.28 & 0.075 & 0.9980 & 3.16 & 1\\\\\n",
       "\t5 & 0.70 & 0.076 & 0.9978 & 3.51 & 1\\\\\n",
       "\t6 & 0.66 & 0.075 & 0.9978 & 3.51 & 1\\\\\n",
       "\\end{tabular}\n"
      ],
      "text/markdown": [
       "\n",
       "A data.frame: 6 × 5\n",
       "\n",
       "| <!--/--> | volatile.acidity &lt;dbl&gt; | chlorides &lt;dbl&gt; | density &lt;dbl&gt; | pH &lt;dbl&gt; | qualityR &lt;dbl&gt; |\n",
       "|---|---|---|---|---|---|\n",
       "| 1 | 0.70 | 0.076 | 0.9978 | 3.51 | 1 |\n",
       "| 2 | 0.88 | 0.098 | 0.9968 | 3.20 | 1 |\n",
       "| 3 | 0.76 | 0.092 | 0.9970 | 3.26 | 1 |\n",
       "| 4 | 0.28 | 0.075 | 0.9980 | 3.16 | 1 |\n",
       "| 5 | 0.70 | 0.076 | 0.9978 | 3.51 | 1 |\n",
       "| 6 | 0.66 | 0.075 | 0.9978 | 3.51 | 1 |\n",
       "\n"
      ],
      "text/plain": [
       "  volatile.acidity chlorides density pH   qualityR\n",
       "1 0.70             0.076     0.9978  3.51 1       \n",
       "2 0.88             0.098     0.9968  3.20 1       \n",
       "3 0.76             0.092     0.9970  3.26 1       \n",
       "4 0.28             0.075     0.9980  3.16 1       \n",
       "5 0.70             0.076     0.9978  3.51 1       \n",
       "6 0.66             0.075     0.9978  3.51 1       "
      ]
     },
     "metadata": {},
     "output_type": "display_data"
    }
   ],
   "source": [
    "wine_wrangled <- wine_subset[, c(2,5,8,9,13)]\n",
    "head(wine_wrangled)"
   ]
  },
  {
   "cell_type": "markdown",
   "id": "5cc347b2-c324-4f58-9978-990d8193bae8",
   "metadata": {},
   "source": [
    "#### Check All Data Types "
   ]
  },
  {
   "cell_type": "code",
   "execution_count": null,
   "id": "0630b935-9453-432b-a5e0-f164632c3667",
   "metadata": {},
   "outputs": [],
   "source": [
    "str(wine_wrangled)"
   ]
  },
  {
   "cell_type": "markdown",
   "id": "5d534e48-bc0e-4976-9562-4fb8d9349064",
   "metadata": {},
   "source": [
    "## Linear Discriminant Analysis\n",
    "\n",
    "### Summarizing the dataset"
   ]
  },
  {
   "cell_type": "code",
   "execution_count": 13,
   "id": "1037ecfb-8083-4af6-9808-a608774dd18d",
   "metadata": {},
   "outputs": [
    {
     "data": {
      "text/plain": [
       " volatile.acidity   chlorides          density             pH       \n",
       " Min.   :0.1200   Min.   :0.01200   Min.   :0.9901   Min.   :2.740  \n",
       " 1st Qu.:0.3925   1st Qu.:0.07000   1st Qu.:0.9956   1st Qu.:3.205  \n",
       " Median :0.5200   Median :0.07900   Median :0.9967   Median :3.310  \n",
       " Mean   :0.5313   Mean   :0.08693   Mean   :0.9967   Mean   :3.311  \n",
       " 3rd Qu.:0.6400   3rd Qu.:0.09000   3rd Qu.:0.9978   3rd Qu.:3.400  \n",
       " Max.   :1.5800   Max.   :0.61100   Max.   :1.0037   Max.   :4.010  \n",
       "    qualityR    \n",
       " Min.   :0.000  \n",
       " 1st Qu.:1.000  \n",
       " Median :1.000  \n",
       " Mean   :1.105  \n",
       " 3rd Qu.:1.000  \n",
       " Max.   :2.000  "
      ]
     },
     "metadata": {},
     "output_type": "display_data"
    }
   ],
   "source": [
    "summary(wine_wrangled)"
   ]
  },
  {
   "cell_type": "markdown",
   "id": "98bce30b-89ac-4d5a-a079-6a3d66b7e7fb",
   "metadata": {},
   "source": [
    "### Scale data"
   ]
  },
  {
   "cell_type": "code",
   "execution_count": 14,
   "id": "986b2b3b-52ab-4ec1-8bbc-e6939cff379e",
   "metadata": {},
   "outputs": [],
   "source": [
    "wine_wrangled[1:4] <- scale(wine_wrangled[1:4])"
   ]
  },
  {
   "cell_type": "markdown",
   "id": "b9737f3e-6492-468b-9055-12e599be3f55",
   "metadata": {},
   "source": [
    "### Use 70% of dataset as training set and remaining 30% as testing set"
   ]
  },
  {
   "cell_type": "code",
   "execution_count": 20,
   "id": "e1888fb7-5bcf-425f-b6f6-3b098079574e",
   "metadata": {},
   "outputs": [
    {
     "ename": "ERROR",
     "evalue": "Error in set.qualityR(1): could not find function \"set.qualityR\"\n",
     "output_type": "error",
     "traceback": [
      "Error in set.qualityR(1): could not find function \"set.qualityR\"\nTraceback:\n"
     ]
    }
   ],
   "source": [
    "sample <- sample(c(TRUE, FALSE), nrow(wine_wrangled), replace=TRUE, prob=c(0.7,0.3))\n",
    "train <- wine_wrangled[sample, ]\n",
    "test <- wine_wrangled[!sample, ] "
   ]
  },
  {
   "cell_type": "markdown",
   "id": "dfbd0276-b5bf-4214-894c-151190abe8e4",
   "metadata": {},
   "source": [
    "### Fit LDA model"
   ]
  },
  {
   "cell_type": "code",
   "execution_count": 22,
   "id": "b845679d-3b12-419c-93cc-f38a5e151188",
   "metadata": {},
   "outputs": [],
   "source": [
    "model <- lda(qualityR~., data=train)"
   ]
  },
  {
   "cell_type": "markdown",
   "id": "7359beff-d245-4fb1-a7fc-26310739390d",
   "metadata": {},
   "source": [
    "### View model output"
   ]
  },
  {
   "cell_type": "code",
   "execution_count": 22,
   "id": "2106d577-1c96-478b-b3a3-db9be7eed9be",
   "metadata": {},
   "outputs": [
    {
     "data": {
      "text/plain": [
       "Call:\n",
       "lda(qualityR ~ ., data = train)\n",
       "\n",
       "Prior probabilities of groups:\n",
       "         0          1          2 \n",
       "0.03349876 0.82878412 0.13771712 \n",
       "\n",
       "Group means:\n",
       "  volatile.acidity   chlorides     density          pH\n",
       "0        1.1079900  0.33757466  0.01960293  0.38359939\n",
       "1        0.1155951  0.01580388  0.03831060  0.02132853\n",
       "2       -0.7619924 -0.23205600 -0.36949989 -0.13068940\n",
       "\n",
       "Coefficients of linear discriminants:\n",
       "                       LD1        LD2\n",
       "volatile.acidity 0.9120380  0.1553226\n",
       "chlorides        0.2331165  0.3909139\n",
       "density          0.3670731 -0.9070867\n",
       "pH               0.2380951  0.1778496\n",
       "\n",
       "Proportion of trace:\n",
       "   LD1    LD2 \n",
       "0.9708 0.0292 "
      ]
     },
     "metadata": {},
     "output_type": "display_data"
    }
   ],
   "source": [
    "model"
   ]
  },
  {
   "cell_type": "markdown",
   "id": "06745886-ebc2-46b3-a46a-546f1afc357d",
   "metadata": {},
   "source": [
    "## Use LDA model to make predictions on test data"
   ]
  },
  {
   "cell_type": "code",
   "execution_count": 23,
   "id": "b4bd2cb0-d8a1-481e-8987-6401176455c6",
   "metadata": {},
   "outputs": [
    {
     "data": {
      "text/html": [
       "<style>\n",
       ".list-inline {list-style: none; margin:0; padding: 0}\n",
       ".list-inline>li {display: inline-block}\n",
       ".list-inline>li:not(:last-child)::after {content: \"\\00b7\"; padding: 0 .5ex}\n",
       "</style>\n",
       "<ol class=list-inline><li>'class'</li><li>'posterior'</li><li>'x'</li></ol>\n"
      ],
      "text/latex": [
       "\\begin{enumerate*}\n",
       "\\item 'class'\n",
       "\\item 'posterior'\n",
       "\\item 'x'\n",
       "\\end{enumerate*}\n"
      ],
      "text/markdown": [
       "1. 'class'\n",
       "2. 'posterior'\n",
       "3. 'x'\n",
       "\n",
       "\n"
      ],
      "text/plain": [
       "[1] \"class\"     \"posterior\" \"x\"        "
      ]
     },
     "metadata": {},
     "output_type": "display_data"
    }
   ],
   "source": [
    "predicted <- predict(model, test)\n",
    "\n",
    "names(predicted)"
   ]
  },
  {
   "cell_type": "markdown",
   "id": "47b1e242-4b96-4827-b5cd-d38abe9cb293",
   "metadata": {},
   "source": [
    "### Define data to plot"
   ]
  },
  {
   "cell_type": "code",
   "execution_count": 25,
   "id": "21fe6684-d43b-46ce-b39a-c52924600d7d",
   "metadata": {},
   "outputs": [],
   "source": [
    "lda_plot <- cbind(train, predict(model)$x)"
   ]
  },
  {
   "cell_type": "markdown",
   "id": "85b38d3c-c0b2-40c1-8463-6033b896bd15",
   "metadata": {},
   "source": [
    "### Create plot"
   ]
  },
  {
   "cell_type": "code",
   "execution_count": 25,
   "id": "bf9d5d72-dd10-442d-8ea5-25ef5d20721a",
   "metadata": {},
   "outputs": [
    {
     "data": {
      "image/png": "[encoded data removed]",
      "text/plain": [
       "plot without title"
      ]
     },
     "metadata": {
      "image/png": {
       "height": 420,
       "width": 420
      }
     },
     "output_type": "display_data"
    }
   ],
   "source": [
    "ggplot(lda_plot, aes(LD1, LD2)) +\n",
    "  geom_point(aes(color = qualityR))"
   ]
  },
  {
   "cell_type": "code",
   "execution_count": null,
   "id": "3ca7543d-e01c-4695-8400-e75931053b9f",
   "metadata": {},
   "outputs": [],
   "source": []
  }
 ],
 "metadata": {
  "kernelspec": {
   "display_name": "R",
   "language": "R",
   "name": "ir"
  },
  "language_info": {
   "codemirror_mode": "r",
   "file_extension": ".r",
   "mimetype": "text/x-r-source",
   "name": "R",
   "pygments_lexer": "r",
   "version": "4.1.1"
  }
 },
 "nbformat": 4,
 "nbformat_minor": 5
}
