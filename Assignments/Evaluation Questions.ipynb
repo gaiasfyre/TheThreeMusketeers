{
 "cells": [
  {
   "cell_type": "markdown",
   "id": "923fa78a-77e7-436d-9b41-fca2a24342a1",
   "metadata": {},
   "source": [
    "### Question 1:\n",
    "* Which physiochemical properties of wine have the greatest impact on quality?\n",
    "\n",
    "### Question 2: TO BE REVIEWED & IMPROVED\n",
    "* Having determined the factors that contribute to wine quality, individually, how do they affect the quality? \n",
    "(i.e. does a lower residual sugar content lead to a lower quality score?)"
   ]
  }
 ],
 "metadata": {
  "kernelspec": {
   "display_name": "Python 3 (ipykernel)",
   "language": "python",
   "name": "python3"
  },
  "language_info": {
   "codemirror_mode": {
    "name": "ipython",
    "version": 3
   },
   "file_extension": ".py",
   "mimetype": "text/x-python",
   "name": "python",
   "nbconvert_exporter": "python",
   "pygments_lexer": "ipython3",
   "version": "3.9.7"
  }
 },
 "nbformat": 4,
 "nbformat_minor": 5
}
