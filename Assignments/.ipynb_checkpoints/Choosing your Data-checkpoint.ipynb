{
 "cells": [
  {
   "cell_type": "markdown",
   "id": "cd23f17b-edac-4a90-88d0-81d95b909576",
   "metadata": {},
   "source": [
    "### **Choosing your Data**\n",
    "---"
   ]
  },
  {
   "cell_type": "markdown",
   "id": "949ad8e6-7b4a-4786-ac93-0b3592fc5be3",
   "metadata": {},
   "source": [
    "## **First Choice Dataset**\n",
    "\n",
    "[Wine Quality Dataset] (https://www.kaggle.com/datasets/yasserh/wine-quality-dataset)\n",
    "\n",
    "---\n",
    "\n",
    "## **Backup Dataset**\n",
    "\n",
    "[World Happiness Report 2021] (https://www.kaggle.com/datasets/mathurinache/world-happiness-report-2021)\n",
    "\n",
    "*compared against*\n",
    "\n",
    "[World Happiness Report 2019] (https://www.kaggle.com/datasets/PromptCloudHQ/world-happiness-report-2019)"
   ]
  },
  {
   "cell_type": "code",
   "execution_count": null,
   "id": "ad7feab4-3732-42f0-8ff2-0821960d163c",
   "metadata": {},
   "outputs": [],
   "source": []
  }
 ],
 "metadata": {
  "kernelspec": {
   "display_name": "Python 3 (ipykernel)",
   "language": "python",
   "name": "python3"
  },
  "language_info": {
   "codemirror_mode": {
    "name": "ipython",
    "version": 3
   },
   "file_extension": ".py",
   "mimetype": "text/x-python",
   "name": "python",
   "nbconvert_exporter": "python",
   "pygments_lexer": "ipython3",
   "version": "3.9.7"
  }
 },
 "nbformat": 4,
 "nbformat_minor": 5
}
