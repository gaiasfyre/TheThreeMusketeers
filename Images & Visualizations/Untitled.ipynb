{
 "cells": [
  {
   "cell_type": "markdown",
   "id": "4eb0b865-2fce-44aa-907b-23ae78bb17f1",
   "metadata": {},
   "source": [
    "# Wine Quality Prediction Project\n",
    "## by Autumn Heyman, Erin Weaver, & Georgia Miller\n",
    "---\n",
    "---"
   ]
  },
  {
   "cell_type": "markdown",
   "id": "8cb62304-2753-479f-bb21-7c0ce3903c83",
   "metadata": {},
   "source": [
    "# 1. Import Libraries"
   ]
  },
  {
   "cell_type": "markdown",
   "id": "69c57354-529d-4f2f-b849-85ae2f2811a1",
   "metadata": {},
   "source": [
    "```{r}\n",
    "library(tidyverse)\n",
    "library(\"caret\")\n",
    "library(\"lmtest\")\n",
    "library(\"magrittr\")\n",
    "library(\"dplyr\")\n",
    "library(\"tidyr\")\n",
    "library(\"popbio\")\n",
    "library(\"e1071\")\n",
    "library(\"PerformanceAnalytics\")\n",
    "library(\"corrplot\")\n",
    "library(corpcor)\n",
    "library(\"MASS\")\n",
    "```"
   ]
  },
  {
   "cell_type": "markdown",
   "id": "d027616d-e73b-452a-b306-b49ae2ce3141",
   "metadata": {
    "tags": []
   },
   "source": [
    "# 2. Import the Dataset"
   ]
  },
  {
   "cell_type": "markdown",
   "id": "1b74f1b7-dfe4-4e2a-af3d-196d140397dc",
   "metadata": {},
   "source": [
    "```{r}\n",
    "setwd('/Users/bethelikejiofor/Documents/GitHub/Fab-Five-Final-Project')\n",
    "wine <- read.csv(\"./Data/WineQT.csv\")\n",
    "\n",
    "head(wine)\n",
    "```"
   ]
  },
  {
   "cell_type": "code",
   "execution_count": 1,
   "id": "f1d983cc-b63a-475f-8eda-765ef7479036",
   "metadata": {},
   "outputs": [],
   "source": [
    "### Converting to Numeric\n",
    "To ensure the data was continuous, I will covert the new quality column to s numeric column.\n",
    "```{r}\n",
    "wine$qualityR2 <- as.numeric(wine$qualityR)\n",
    "head(wine)\n",
    "```"
   ]
  },
  {
   "cell_type": "code",
   "execution_count": 1,
   "id": "eb6f7821-f674-4d37-8756-1beb53aec33b",
   "metadata": {},
   "outputs": [],
   "source": [
    "### Subsetting Data\n",
    "I will create a data frame with the numeric quality column and the independent variables.\n",
    "```{r}\n",
    "wine_subset <- wine[, c(1,2,3,4,5,6,7,8,9,10,11,16)]\n",
    "```"
   ]
  },
  {
   "cell_type": "code",
   "execution_count": 1,
   "id": "ee06cb2f-1e54-4f66-9028-d99bbcfb0500",
   "metadata": {},
   "outputs": [],
   "source": [
    "### Testing for Correlation\n",
    "```{r}\n",
    "chart.Correlation(wine_subset, histogram=FALSE, method=\"pearson\")\n",
    "```"
   ]
  },
  {
   "cell_type": "code",
   "execution_count": 1,
   "id": "80ed1799-f630-4571-ac23-cced484f322a",
   "metadata": {},
   "outputs": [],
   "source": [
    "```{r}\n",
    "corr_matrix <- cor(wine_subset)\n",
    "corr_matrix\n",
    "```"
   ]
  },
  {
   "cell_type": "code",
   "execution_count": 1,
   "id": "8bec2cd8-f8e2-443f-ad30-7ce77d248b3f",
   "metadata": {},
   "outputs": [],
   "source": [
    "```{r}\n",
    "corrplot(corr_matrix, type=\"upper\", order=\"hclust\", p.mat = corr_matrix, sig.level = 0.01, insig=\"blank\")\n",
    "```"
   ]
  },
  {
   "cell_type": "code",
   "execution_count": 1,
   "id": "e98e2146-f794-45ca-8715-45fdca38173d",
   "metadata": {},
   "outputs": [],
   "source": [
    "## Testing for Multicollinearity\n",
    "```{r}\n",
    "cor2pcor(cov(wine_subset))\n",
    "cor2pcor(cov(wine_subset))\n",
    "```"
   ]
  },
  {
   "cell_type": "code",
   "execution_count": 1,
   "id": "4d2f7752-95aa-4e96-a459-8f1ddd8e8da6",
   "metadata": {},
   "outputs": [],
   "source": [
    "```{r}\n",
    "winecor <- ginv(cor(wine_subset))\n",
    "colnames(winecor) <- colnames(wine_subset)\n",
    "rownames(winecor) <- colnames(wine_subset)\n",
    "winecor\n",
    "```"
   ]
  },
  {
   "cell_type": "code",
   "execution_count": 1,
   "id": "df055860-7c0d-4224-bccc-9dab706c1590",
   "metadata": {},
   "outputs": [],
   "source": [
    "```{r}\n",
    "corrplot(corr = winecor, method = \"number\", is.corr = FALSE)\n",
    "```\n",
    "\n",
    "The VIFs for fixed acidity and density are greater than 5 and may be causing multicollinearity to be present in the data."
   ]
  },
  {
   "cell_type": "code",
   "execution_count": 1,
   "id": "738321d7-0c23-4e0a-aa25-d519f8d0f6aa",
   "metadata": {},
   "outputs": [
    {
     "ename": "SyntaxError",
     "evalue": "invalid syntax (3864649801.py, line 1)",
     "output_type": "error",
     "traceback": [
      "\u001b[0;36m  File \u001b[0;32m\"/var/folders/dj/x13cy6l57l94f06wtxqz46km0000gn/T/ipykernel_8040/3864649801.py\"\u001b[0;36m, line \u001b[0;32m1\u001b[0m\n\u001b[0;31m    ---\u001b[0m\n\u001b[0m       ^\u001b[0m\n\u001b[0;31mSyntaxError\u001b[0m\u001b[0;31m:\u001b[0m invalid syntax\n"
     ]
    }
   ],
   "source": [
    "## Test for Independence of Errors\n",
    "\n",
    "### graph\n",
    "```{r}\n",
    "plot(mylogit$residuals)\n",
    "```\n",
    "\n",
    "\n",
    "We are looking for pretty even distribution of points all the way across the x axis. We have that, so have met the assumption of independent errors.\n",
    "\n",
    "\n",
    "\n",
    "\n",
    "\n",
    "\n",
    "### Durbin-Watson Test\n",
    "\n",
    "Just for the sake of double checking for independence errors:\n",
    "```{r}\n",
    "dwtest(mylogit, alternative=\"two.sided\")\n",
    "```\n",
    "Output:\n",
    "Durbin-Watson test\n",
    "\n",
    "data:  mylogit\n",
    "DW = 1.8156, p-value = 0.001465\n",
    "alternative hypothesis: true autocorrelation is not 0\n",
    "\n",
    "\n",
    "Since DW value is within 1-3 range, we have met the assumption of independent errors. "
   ]
  },
  {
   "cell_type": "code",
   "execution_count": null,
   "id": "3d199461-58bb-454c-9d81-83cb5b3ee3b8",
   "metadata": {},
   "outputs": [],
   "source": []
  }
 ],
 "metadata": {
  "kernelspec": {
   "display_name": "Python 3 (ipykernel)",
   "language": "python",
   "name": "python3"
  },
  "language_info": {
   "codemirror_mode": {
    "name": "ipython",
    "version": 3
   },
   "file_extension": ".py",
   "mimetype": "text/x-python",
   "name": "python",
   "nbconvert_exporter": "python",
   "pygments_lexer": "ipython3",
   "version": "3.9.7"
  }
 },
 "nbformat": 4,
 "nbformat_minor": 5
}
