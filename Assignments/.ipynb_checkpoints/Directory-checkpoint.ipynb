{
 "cells": [
  {
   "cell_type": "markdown",
   "id": "dbb612e5-40ab-4456-be70-a1725ecf0f58",
   "metadata": {},
   "source": [
    "## Final Project Assignments"
   ]
  },
  {
   "cell_type": "markdown",
   "id": "7f6d04b9-90e8-447c-9625-088915d58c90",
   "metadata": {},
   "source": [
    "* Week One:"
   ]
  },
  {
   "cell_type": "markdown",
   "id": "c9a96dcf-f56c-428c-8b3e-ed319d9bcc2d",
   "metadata": {},
   "source": [
    "* Week Two:"
   ]
  },
  {
   "cell_type": "markdown",
   "id": "6d891ec1-5577-4340-9f6e-face04081864",
   "metadata": {},
   "source": [
    "* Week Three:"
   ]
  },
  {
   "cell_type": "markdown",
   "id": "4e459e8d-9598-4b9d-832d-093626c662a0",
   "metadata": {},
   "source": [
    "* Week Four:"
   ]
  },
  {
   "cell_type": "code",
   "execution_count": null,
   "id": "05489167-a649-4768-b636-e3e6d930ba5a",
   "metadata": {},
   "outputs": [],
   "source": []
  }
 ],
 "metadata": {
  "kernelspec": {
   "display_name": "Python 3 (ipykernel)",
   "language": "python",
   "name": "python3"
  },
  "language_info": {
   "codemirror_mode": {
    "name": "ipython",
    "version": 3
   },
   "file_extension": ".py",
   "mimetype": "text/x-python",
   "name": "python",
   "nbconvert_exporter": "python",
   "pygments_lexer": "ipython3",
   "version": "3.9.7"
  }
 },
 "nbformat": 4,
 "nbformat_minor": 5
}
