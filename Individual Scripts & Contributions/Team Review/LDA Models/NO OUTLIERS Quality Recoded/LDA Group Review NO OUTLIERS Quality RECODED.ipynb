{
 "cells": [
  {
   "cell_type": "markdown",
   "id": "da04bf6d",
   "metadata": {},
   "source": [
    "# Linear Discriminant Analysis: Group Review\n",
    "# Outliers: NONE, Quality: RECODED"
   ]
  },
  {
   "cell_type": "markdown",
   "id": "d5f05fc9",
   "metadata": {},
   "source": [
    "## Set Working Directory"
   ]
  },
  {
   "cell_type": "markdown",
   "id": "657135b1",
   "metadata": {},
   "source": [
    "setwd"
   ]
  },
  {
   "cell_type": "markdown",
   "id": "1e46eb51",
   "metadata": {},
   "source": [
    "## Import Packages"
   ]
  },
  {
   "cell_type": "code",
   "execution_count": 1,
   "id": "ba85be25",
   "metadata": {
    "vscode": {
     "languageId": "r"
    }
   },
   "outputs": [
    {
     "name": "stderr",
     "output_type": "stream",
     "text": [
      "corrplot 0.91 loaded\n",
      "\n",
      "\n",
      "Attaching package: ‘reshape2’\n",
      "\n",
      "\n",
      "The following object is masked from ‘package:tidyr’:\n",
      "\n",
      "    smiths\n",
      "\n",
      "\n"
     ]
    }
   ],
   "source": [
    "library(\"tidyr\")\n",
    "library(\"corrplot\")\n",
    "library(\"MASS\")\n",
    "library(\"ggplot2\")\n",
    "library(\"tibble\")\n",
    "library(\"reshape2\")"
   ]
  },
  {
   "cell_type": "markdown",
   "id": "01b172c0",
   "metadata": {},
   "source": [
    "## Load in Data"
   ]
  },
  {
   "cell_type": "code",
   "execution_count": 2,
   "id": "b1c1caa6",
   "metadata": {
    "vscode": {
     "languageId": "r"
    }
   },
   "outputs": [
    {
     "data": {
      "text/html": [
       "<table class=\"dataframe\">\n",
       "<caption>A data.frame: 6 × 13</caption>\n",
       "<thead>\n",
       "\t<tr><th></th><th scope=col>fixed.acidity</th><th scope=col>volatile.acidity</th><th scope=col>citric.acid</th><th scope=col>residual.sugar</th><th scope=col>chlorides</th><th scope=col>free.sulfur.dioxide</th><th scope=col>total.sulfur.dioxide</th><th scope=col>density</th><th scope=col>pH</th><th scope=col>sulphates</th><th scope=col>alcohol</th><th scope=col>quality</th><th scope=col>Id</th></tr>\n",
       "\t<tr><th></th><th scope=col>&lt;dbl&gt;</th><th scope=col>&lt;dbl&gt;</th><th scope=col>&lt;dbl&gt;</th><th scope=col>&lt;dbl&gt;</th><th scope=col>&lt;dbl&gt;</th><th scope=col>&lt;dbl&gt;</th><th scope=col>&lt;dbl&gt;</th><th scope=col>&lt;dbl&gt;</th><th scope=col>&lt;dbl&gt;</th><th scope=col>&lt;dbl&gt;</th><th scope=col>&lt;dbl&gt;</th><th scope=col>&lt;int&gt;</th><th scope=col>&lt;int&gt;</th></tr>\n",
       "</thead>\n",
       "<tbody>\n",
       "\t<tr><th scope=row>1</th><td> 7.4</td><td>0.70</td><td>0.00</td><td>1.9</td><td>0.076</td><td>11</td><td>34</td><td>0.9978</td><td>3.51</td><td>0.56</td><td>9.4</td><td>5</td><td>0</td></tr>\n",
       "\t<tr><th scope=row>2</th><td> 7.8</td><td>0.88</td><td>0.00</td><td>2.6</td><td>0.098</td><td>25</td><td>67</td><td>0.9968</td><td>3.20</td><td>0.68</td><td>9.8</td><td>5</td><td>1</td></tr>\n",
       "\t<tr><th scope=row>3</th><td> 7.8</td><td>0.76</td><td>0.04</td><td>2.3</td><td>0.092</td><td>15</td><td>54</td><td>0.9970</td><td>3.26</td><td>0.65</td><td>9.8</td><td>5</td><td>2</td></tr>\n",
       "\t<tr><th scope=row>4</th><td>11.2</td><td>0.28</td><td>0.56</td><td>1.9</td><td>0.075</td><td>17</td><td>60</td><td>0.9980</td><td>3.16</td><td>0.58</td><td>9.8</td><td>6</td><td>3</td></tr>\n",
       "\t<tr><th scope=row>5</th><td> 7.4</td><td>0.70</td><td>0.00</td><td>1.9</td><td>0.076</td><td>11</td><td>34</td><td>0.9978</td><td>3.51</td><td>0.56</td><td>9.4</td><td>5</td><td>4</td></tr>\n",
       "\t<tr><th scope=row>6</th><td> 7.4</td><td>0.66</td><td>0.00</td><td>1.8</td><td>0.075</td><td>13</td><td>40</td><td>0.9978</td><td>3.51</td><td>0.56</td><td>9.4</td><td>5</td><td>5</td></tr>\n",
       "</tbody>\n",
       "</table>\n"
      ],
      "text/latex": [
       "A data.frame: 6 × 13\n",
       "\\begin{tabular}{r|lllllllllllll}\n",
       "  & fixed.acidity & volatile.acidity & citric.acid & residual.sugar & chlorides & free.sulfur.dioxide & total.sulfur.dioxide & density & pH & sulphates & alcohol & quality & Id\\\\\n",
       "  & <dbl> & <dbl> & <dbl> & <dbl> & <dbl> & <dbl> & <dbl> & <dbl> & <dbl> & <dbl> & <dbl> & <int> & <int>\\\\\n",
       "\\hline\n",
       "\t1 &  7.4 & 0.70 & 0.00 & 1.9 & 0.076 & 11 & 34 & 0.9978 & 3.51 & 0.56 & 9.4 & 5 & 0\\\\\n",
       "\t2 &  7.8 & 0.88 & 0.00 & 2.6 & 0.098 & 25 & 67 & 0.9968 & 3.20 & 0.68 & 9.8 & 5 & 1\\\\\n",
       "\t3 &  7.8 & 0.76 & 0.04 & 2.3 & 0.092 & 15 & 54 & 0.9970 & 3.26 & 0.65 & 9.8 & 5 & 2\\\\\n",
       "\t4 & 11.2 & 0.28 & 0.56 & 1.9 & 0.075 & 17 & 60 & 0.9980 & 3.16 & 0.58 & 9.8 & 6 & 3\\\\\n",
       "\t5 &  7.4 & 0.70 & 0.00 & 1.9 & 0.076 & 11 & 34 & 0.9978 & 3.51 & 0.56 & 9.4 & 5 & 4\\\\\n",
       "\t6 &  7.4 & 0.66 & 0.00 & 1.8 & 0.075 & 13 & 40 & 0.9978 & 3.51 & 0.56 & 9.4 & 5 & 5\\\\\n",
       "\\end{tabular}\n"
      ],
      "text/markdown": [
       "\n",
       "A data.frame: 6 × 13\n",
       "\n",
       "| <!--/--> | fixed.acidity &lt;dbl&gt; | volatile.acidity &lt;dbl&gt; | citric.acid &lt;dbl&gt; | residual.sugar &lt;dbl&gt; | chlorides &lt;dbl&gt; | free.sulfur.dioxide &lt;dbl&gt; | total.sulfur.dioxide &lt;dbl&gt; | density &lt;dbl&gt; | pH &lt;dbl&gt; | sulphates &lt;dbl&gt; | alcohol &lt;dbl&gt; | quality &lt;int&gt; | Id &lt;int&gt; |\n",
       "|---|---|---|---|---|---|---|---|---|---|---|---|---|---|\n",
       "| 1 |  7.4 | 0.70 | 0.00 | 1.9 | 0.076 | 11 | 34 | 0.9978 | 3.51 | 0.56 | 9.4 | 5 | 0 |\n",
       "| 2 |  7.8 | 0.88 | 0.00 | 2.6 | 0.098 | 25 | 67 | 0.9968 | 3.20 | 0.68 | 9.8 | 5 | 1 |\n",
       "| 3 |  7.8 | 0.76 | 0.04 | 2.3 | 0.092 | 15 | 54 | 0.9970 | 3.26 | 0.65 | 9.8 | 5 | 2 |\n",
       "| 4 | 11.2 | 0.28 | 0.56 | 1.9 | 0.075 | 17 | 60 | 0.9980 | 3.16 | 0.58 | 9.8 | 6 | 3 |\n",
       "| 5 |  7.4 | 0.70 | 0.00 | 1.9 | 0.076 | 11 | 34 | 0.9978 | 3.51 | 0.56 | 9.4 | 5 | 4 |\n",
       "| 6 |  7.4 | 0.66 | 0.00 | 1.8 | 0.075 | 13 | 40 | 0.9978 | 3.51 | 0.56 | 9.4 | 5 | 5 |\n",
       "\n"
      ],
      "text/plain": [
       "  fixed.acidity volatile.acidity citric.acid residual.sugar chlorides\n",
       "1  7.4          0.70             0.00        1.9            0.076    \n",
       "2  7.8          0.88             0.00        2.6            0.098    \n",
       "3  7.8          0.76             0.04        2.3            0.092    \n",
       "4 11.2          0.28             0.56        1.9            0.075    \n",
       "5  7.4          0.70             0.00        1.9            0.076    \n",
       "6  7.4          0.66             0.00        1.8            0.075    \n",
       "  free.sulfur.dioxide total.sulfur.dioxide density pH   sulphates alcohol\n",
       "1 11                  34                   0.9978  3.51 0.56      9.4    \n",
       "2 25                  67                   0.9968  3.20 0.68      9.8    \n",
       "3 15                  54                   0.9970  3.26 0.65      9.8    \n",
       "4 17                  60                   0.9980  3.16 0.58      9.8    \n",
       "5 11                  34                   0.9978  3.51 0.56      9.4    \n",
       "6 13                  40                   0.9978  3.51 0.56      9.4    \n",
       "  quality Id\n",
       "1 5       0 \n",
       "2 5       1 \n",
       "3 5       2 \n",
       "4 6       3 \n",
       "5 5       4 \n",
       "6 5       5 "
      ]
     },
     "metadata": {},
     "output_type": "display_data"
    }
   ],
   "source": [
    "wine <- read.csv(\"/Users/erinweaver/Documents/GitHub/TheThreeMusketeers/Data/WineQT.csv\")\n",
    "head(wine)"
   ]
  },
  {
   "cell_type": "markdown",
   "id": "8f55ed09",
   "metadata": {},
   "source": [
    "### View Structure of the Dataset"
   ]
  },
  {
   "cell_type": "code",
   "execution_count": 3,
   "id": "2f8d6d27",
   "metadata": {
    "vscode": {
     "languageId": "r"
    }
   },
   "outputs": [
    {
     "name": "stdout",
     "output_type": "stream",
     "text": [
      "'data.frame':\t1143 obs. of  13 variables:\n",
      " $ fixed.acidity       : num  7.4 7.8 7.8 11.2 7.4 7.4 7.9 7.3 7.8 6.7 ...\n",
      " $ volatile.acidity    : num  0.7 0.88 0.76 0.28 0.7 0.66 0.6 0.65 0.58 0.58 ...\n",
      " $ citric.acid         : num  0 0 0.04 0.56 0 0 0.06 0 0.02 0.08 ...\n",
      " $ residual.sugar      : num  1.9 2.6 2.3 1.9 1.9 1.8 1.6 1.2 2 1.8 ...\n",
      " $ chlorides           : num  0.076 0.098 0.092 0.075 0.076 0.075 0.069 0.065 0.073 0.097 ...\n",
      " $ free.sulfur.dioxide : num  11 25 15 17 11 13 15 15 9 15 ...\n",
      " $ total.sulfur.dioxide: num  34 67 54 60 34 40 59 21 18 65 ...\n",
      " $ density             : num  0.998 0.997 0.997 0.998 0.998 ...\n",
      " $ pH                  : num  3.51 3.2 3.26 3.16 3.51 3.51 3.3 3.39 3.36 3.28 ...\n",
      " $ sulphates           : num  0.56 0.68 0.65 0.58 0.56 0.56 0.46 0.47 0.57 0.54 ...\n",
      " $ alcohol             : num  9.4 9.8 9.8 9.8 9.4 9.4 9.4 10 9.5 9.2 ...\n",
      " $ quality             : int  5 5 5 6 5 5 5 7 7 5 ...\n",
      " $ Id                  : int  0 1 2 3 4 5 6 7 8 10 ...\n"
     ]
    }
   ],
   "source": [
    "str(wine)"
   ]
  },
  {
   "cell_type": "markdown",
   "id": "ef93314b",
   "metadata": {},
   "source": [
    "## Data Wrangling"
   ]
  },
  {
   "cell_type": "markdown",
   "id": "fadb6954",
   "metadata": {},
   "source": [
    "### Recode 'Quality' into Three Groups"
   ]
  },
  {
   "cell_type": "code",
   "execution_count": 4,
   "id": "e6aade57",
   "metadata": {
    "vscode": {
     "languageId": "r"
    }
   },
   "outputs": [],
   "source": [
    "wine$qualityR <- NA\n",
    "wine$qualityR [wine$quality==3] <- 0\n",
    "wine$qualityR [wine$quality==4] <- 0\n",
    "wine$qualityR [wine$quality==5] <- 1\n",
    "wine$qualityR [wine$quality==6] <- 1\n",
    "wine$qualityR [wine$quality==7] <- 2\n",
    "wine$qualityR [wine$quality==8] <- 2"
   ]
  },
  {
   "cell_type": "markdown",
   "id": "80089153",
   "metadata": {},
   "source": [
    "### Remove Unnecessary Columns"
   ]
  },
  {
   "cell_type": "code",
   "execution_count": 5,
   "id": "fb3813a2",
   "metadata": {
    "scrolled": true,
    "vscode": {
     "languageId": "r"
    }
   },
   "outputs": [
    {
     "data": {
      "text/html": [
       "<table class=\"dataframe\">\n",
       "<caption>A data.frame: 6 × 5</caption>\n",
       "<thead>\n",
       "\t<tr><th></th><th scope=col>volatile.acidity</th><th scope=col>chlorides</th><th scope=col>density</th><th scope=col>pH</th><th scope=col>qualityR</th></tr>\n",
       "\t<tr><th></th><th scope=col>&lt;dbl&gt;</th><th scope=col>&lt;dbl&gt;</th><th scope=col>&lt;dbl&gt;</th><th scope=col>&lt;dbl&gt;</th><th scope=col>&lt;dbl&gt;</th></tr>\n",
       "</thead>\n",
       "<tbody>\n",
       "\t<tr><th scope=row>1</th><td>0.70</td><td>0.076</td><td>0.9978</td><td>3.51</td><td>1</td></tr>\n",
       "\t<tr><th scope=row>2</th><td>0.88</td><td>0.098</td><td>0.9968</td><td>3.20</td><td>1</td></tr>\n",
       "\t<tr><th scope=row>3</th><td>0.76</td><td>0.092</td><td>0.9970</td><td>3.26</td><td>1</td></tr>\n",
       "\t<tr><th scope=row>4</th><td>0.28</td><td>0.075</td><td>0.9980</td><td>3.16</td><td>1</td></tr>\n",
       "\t<tr><th scope=row>5</th><td>0.70</td><td>0.076</td><td>0.9978</td><td>3.51</td><td>1</td></tr>\n",
       "\t<tr><th scope=row>6</th><td>0.66</td><td>0.075</td><td>0.9978</td><td>3.51</td><td>1</td></tr>\n",
       "</tbody>\n",
       "</table>\n"
      ],
      "text/latex": [
       "A data.frame: 6 × 5\n",
       "\\begin{tabular}{r|lllll}\n",
       "  & volatile.acidity & chlorides & density & pH & qualityR\\\\\n",
       "  & <dbl> & <dbl> & <dbl> & <dbl> & <dbl>\\\\\n",
       "\\hline\n",
       "\t1 & 0.70 & 0.076 & 0.9978 & 3.51 & 1\\\\\n",
       "\t2 & 0.88 & 0.098 & 0.9968 & 3.20 & 1\\\\\n",
       "\t3 & 0.76 & 0.092 & 0.9970 & 3.26 & 1\\\\\n",
       "\t4 & 0.28 & 0.075 & 0.9980 & 3.16 & 1\\\\\n",
       "\t5 & 0.70 & 0.076 & 0.9978 & 3.51 & 1\\\\\n",
       "\t6 & 0.66 & 0.075 & 0.9978 & 3.51 & 1\\\\\n",
       "\\end{tabular}\n"
      ],
      "text/markdown": [
       "\n",
       "A data.frame: 6 × 5\n",
       "\n",
       "| <!--/--> | volatile.acidity &lt;dbl&gt; | chlorides &lt;dbl&gt; | density &lt;dbl&gt; | pH &lt;dbl&gt; | qualityR &lt;dbl&gt; |\n",
       "|---|---|---|---|---|---|\n",
       "| 1 | 0.70 | 0.076 | 0.9978 | 3.51 | 1 |\n",
       "| 2 | 0.88 | 0.098 | 0.9968 | 3.20 | 1 |\n",
       "| 3 | 0.76 | 0.092 | 0.9970 | 3.26 | 1 |\n",
       "| 4 | 0.28 | 0.075 | 0.9980 | 3.16 | 1 |\n",
       "| 5 | 0.70 | 0.076 | 0.9978 | 3.51 | 1 |\n",
       "| 6 | 0.66 | 0.075 | 0.9978 | 3.51 | 1 |\n",
       "\n"
      ],
      "text/plain": [
       "  volatile.acidity chlorides density pH   qualityR\n",
       "1 0.70             0.076     0.9978  3.51 1       \n",
       "2 0.88             0.098     0.9968  3.20 1       \n",
       "3 0.76             0.092     0.9970  3.26 1       \n",
       "4 0.28             0.075     0.9980  3.16 1       \n",
       "5 0.70             0.076     0.9978  3.51 1       \n",
       "6 0.66             0.075     0.9978  3.51 1       "
      ]
     },
     "metadata": {},
     "output_type": "display_data"
    }
   ],
   "source": [
    "wine_wrangled <- wine[, c(2,5,8,9,14)]\n",
    "head(wine_wrangled)"
   ]
  },
  {
   "cell_type": "markdown",
   "id": "5eee52cf",
   "metadata": {},
   "source": [
    "## Identify Outliers"
   ]
  },
  {
   "cell_type": "markdown",
   "id": "74fb7517",
   "metadata": {},
   "source": [
    "### Density"
   ]
  },
  {
   "cell_type": "code",
   "execution_count": 6,
   "id": "3f9730bd",
   "metadata": {
    "vscode": {
     "languageId": "r"
    }
   },
   "outputs": [
    {
     "data": {
      "text/html": [
       "<dl>\n",
       "\t<dt>$stats</dt>\n",
       "\t\t<dd><style>\n",
       ".list-inline {list-style: none; margin:0; padding: 0}\n",
       ".list-inline>li {display: inline-block}\n",
       ".list-inline>li:not(:last-child)::after {content: \"\\00b7\"; padding: 0 .5ex}\n",
       "</style>\n",
       "<ol class=list-inline><li>0.9922</li><li>0.99557</li><li>0.99668</li><li>0.997845</li><li>1.001</li></ol>\n",
       "</dd>\n",
       "\t<dt>$n</dt>\n",
       "\t\t<dd>1143</dd>\n",
       "\t<dt>$conf</dt>\n",
       "\t\t<dd><style>\n",
       ".list-inline {list-style: none; margin:0; padding: 0}\n",
       ".list-inline>li {display: inline-block}\n",
       ".list-inline>li:not(:last-child)::after {content: \"\\00b7\"; padding: 0 .5ex}\n",
       "</style>\n",
       "<ol class=list-inline><li>0.996573679900897</li><li>0.996786320099103</li></ol>\n",
       "</dd>\n",
       "\t<dt>$out</dt>\n",
       "\t\t<dd><style>\n",
       ".list-inline {list-style: none; margin:0; padding: 0}\n",
       ".list-inline>li {display: inline-block}\n",
       ".list-inline>li:not(:last-child)::after {content: \"\\00b7\"; padding: 0 .5ex}\n",
       "</style>\n",
       "<ol class=list-inline><li>0.9916</li><li>0.9916</li><li>1.0014</li><li>1.0015</li><li>1.0015</li><li>1.0018</li><li>0.9912</li><li>1.0022</li><li>1.0022</li><li>1.0014</li><li>1.0014</li><li>1.0032</li><li>1.0026</li><li>1.0014</li><li>1.00315</li><li>1.00315</li><li>1.0021</li><li>1.0021</li><li>0.9917</li><li>1.0026</li><li>0.9921</li><li>0.99154</li><li>0.99064</li><li>0.99064</li><li>1.00289</li><li>0.99162</li><li>0.99007</li><li>0.9902</li><li>0.99157</li><li>0.99084</li><li>0.99191</li><li>1.00369</li><li>1.00242</li><li>0.99182</li><li>1.00242</li><li>0.99182</li></ol>\n",
       "</dd>\n",
       "</dl>\n"
      ],
      "text/latex": [
       "\\begin{description}\n",
       "\\item[\\$stats] \\begin{enumerate*}\n",
       "\\item 0.9922\n",
       "\\item 0.99557\n",
       "\\item 0.99668\n",
       "\\item 0.997845\n",
       "\\item 1.001\n",
       "\\end{enumerate*}\n",
       "\n",
       "\\item[\\$n] 1143\n",
       "\\item[\\$conf] \\begin{enumerate*}\n",
       "\\item 0.996573679900897\n",
       "\\item 0.996786320099103\n",
       "\\end{enumerate*}\n",
       "\n",
       "\\item[\\$out] \\begin{enumerate*}\n",
       "\\item 0.9916\n",
       "\\item 0.9916\n",
       "\\item 1.0014\n",
       "\\item 1.0015\n",
       "\\item 1.0015\n",
       "\\item 1.0018\n",
       "\\item 0.9912\n",
       "\\item 1.0022\n",
       "\\item 1.0022\n",
       "\\item 1.0014\n",
       "\\item 1.0014\n",
       "\\item 1.0032\n",
       "\\item 1.0026\n",
       "\\item 1.0014\n",
       "\\item 1.00315\n",
       "\\item 1.00315\n",
       "\\item 1.0021\n",
       "\\item 1.0021\n",
       "\\item 0.9917\n",
       "\\item 1.0026\n",
       "\\item 0.9921\n",
       "\\item 0.99154\n",
       "\\item 0.99064\n",
       "\\item 0.99064\n",
       "\\item 1.00289\n",
       "\\item 0.99162\n",
       "\\item 0.99007\n",
       "\\item 0.9902\n",
       "\\item 0.99157\n",
       "\\item 0.99084\n",
       "\\item 0.99191\n",
       "\\item 1.00369\n",
       "\\item 1.00242\n",
       "\\item 0.99182\n",
       "\\item 1.00242\n",
       "\\item 0.99182\n",
       "\\end{enumerate*}\n",
       "\n",
       "\\end{description}\n"
      ],
      "text/markdown": [
       "$stats\n",
       ":   1. 0.9922\n",
       "2. 0.99557\n",
       "3. 0.99668\n",
       "4. 0.997845\n",
       "5. 1.001\n",
       "\n",
       "\n",
       "\n",
       "$n\n",
       ":   1143\n",
       "$conf\n",
       ":   1. 0.996573679900897\n",
       "2. 0.996786320099103\n",
       "\n",
       "\n",
       "\n",
       "$out\n",
       ":   1. 0.9916\n",
       "2. 0.9916\n",
       "3. 1.0014\n",
       "4. 1.0015\n",
       "5. 1.0015\n",
       "6. 1.0018\n",
       "7. 0.9912\n",
       "8. 1.0022\n",
       "9. 1.0022\n",
       "10. 1.0014\n",
       "11. 1.0014\n",
       "12. 1.0032\n",
       "13. 1.0026\n",
       "14. 1.0014\n",
       "15. 1.00315\n",
       "16. 1.00315\n",
       "17. 1.0021\n",
       "18. 1.0021\n",
       "19. 0.9917\n",
       "20. 1.0026\n",
       "21. 0.9921\n",
       "22. 0.99154\n",
       "23. 0.99064\n",
       "24. 0.99064\n",
       "25. 1.00289\n",
       "26. 0.99162\n",
       "27. 0.99007\n",
       "28. 0.9902\n",
       "29. 0.99157\n",
       "30. 0.99084\n",
       "31. 0.99191\n",
       "32. 1.00369\n",
       "33. 1.00242\n",
       "34. 0.99182\n",
       "35. 1.00242\n",
       "36. 0.99182\n",
       "\n",
       "\n",
       "\n",
       "\n",
       "\n"
      ],
      "text/plain": [
       "$stats\n",
       "[1] 0.992200 0.995570 0.996680 0.997845 1.001000\n",
       "\n",
       "$n\n",
       "[1] 1143\n",
       "\n",
       "$conf\n",
       "[1] 0.9965737 0.9967863\n",
       "\n",
       "$out\n",
       " [1] 0.99160 0.99160 1.00140 1.00150 1.00150 1.00180 0.99120 1.00220 1.00220\n",
       "[10] 1.00140 1.00140 1.00320 1.00260 1.00140 1.00315 1.00315 1.00210 1.00210\n",
       "[19] 0.99170 1.00260 0.99210 0.99154 0.99064 0.99064 1.00289 0.99162 0.99007\n",
       "[28] 0.99020 0.99157 0.99084 0.99191 1.00369 1.00242 0.99182 1.00242 0.99182\n"
      ]
     },
     "metadata": {},
     "output_type": "display_data"
    }
   ],
   "source": [
    "boxplot.stats(wine_wrangled$density)"
   ]
  },
  {
   "cell_type": "markdown",
   "id": "af449995",
   "metadata": {},
   "source": [
    "#### Outliers: 36"
   ]
  },
  {
   "cell_type": "markdown",
   "id": "db7af42e",
   "metadata": {},
   "source": [
    "### Chlorides"
   ]
  },
  {
   "cell_type": "code",
   "execution_count": 7,
   "id": "6aa4fcf8",
   "metadata": {
    "vscode": {
     "languageId": "r"
    }
   },
   "outputs": [
    {
     "data": {
      "text/html": [
       "<dl>\n",
       "\t<dt>$stats</dt>\n",
       "\t\t<dd><style>\n",
       ".list-inline {list-style: none; margin:0; padding: 0}\n",
       ".list-inline>li {display: inline-block}\n",
       ".list-inline>li:not(:last-child)::after {content: \"\\00b7\"; padding: 0 .5ex}\n",
       "</style>\n",
       "<ol class=list-inline><li>0.041</li><li>0.07</li><li>0.079</li><li>0.09</li><li>0.119</li></ol>\n",
       "</dd>\n",
       "\t<dt>$n</dt>\n",
       "\t\t<dd>1143</dd>\n",
       "\t<dt>$conf</dt>\n",
       "\t\t<dd><style>\n",
       ".list-inline {list-style: none; margin:0; padding: 0}\n",
       ".list-inline>li {display: inline-block}\n",
       ".list-inline>li:not(:last-child)::after {content: \"\\00b7\"; padding: 0 .5ex}\n",
       "</style>\n",
       "<ol class=list-inline><li>0.0780653178100817</li><li>0.0799346821899183</li></ol>\n",
       "</dd>\n",
       "\t<dt>$out</dt>\n",
       "\t\t<dd><style>\n",
       ".list-inline {list-style: none; margin:0; padding: 0}\n",
       ".list-inline>li {display: inline-block}\n",
       ".list-inline>li:not(:last-child)::after {content: \"\\00b7\"; padding: 0 .5ex}\n",
       "</style>\n",
       "<ol class=list-inline><li>0.341</li><li>0.332</li><li>0.467</li><li>0.178</li><li>0.61</li><li>0.27</li><li>0.039</li><li>0.337</li><li>0.263</li><li>0.611</li><li>0.358</li><li>0.213</li><li>0.214</li><li>0.121</li><li>0.128</li><li>0.12</li><li>0.122</li><li>0.122</li><li>0.121</li><li>0.127</li><li>0.152</li><li>0.125</li><li>0.122</li><li>0.2</li><li>0.226</li><li>0.25</li><li>0.124</li><li>0.222</li><li>0.039</li><li>0.157</li><li>0.422</li><li>0.034</li><li>0.387</li><li>0.415</li><li>0.157</li><li>0.241</li><li>0.19</li><li>0.132</li><li>0.126</li><li>0.038</li><li>0.165</li><li>0.147</li><li>0.012</li><li>0.012</li><li>0.194</li><li>0.132</li><li>0.161</li><li>0.12</li><li>0.12</li><li>0.123</li><li>0.123</li><li>0.414</li><li>0.171</li><li>0.178</li><li>0.166</li><li>0.136</li><li>0.132</li><li>0.132</li><li>0.123</li><li>0.123</li><li>0.403</li><li>0.137</li><li>0.414</li><li>0.166</li><li>0.168</li><li>0.415</li><li>0.153</li><li>0.415</li><li>0.123</li><li>0.214</li><li>0.169</li><li>0.205</li><li>0.205</li><li>0.039</li><li>0.235</li><li>0.23</li><li>0.038</li></ol>\n",
       "</dd>\n",
       "</dl>\n"
      ],
      "text/latex": [
       "\\begin{description}\n",
       "\\item[\\$stats] \\begin{enumerate*}\n",
       "\\item 0.041\n",
       "\\item 0.07\n",
       "\\item 0.079\n",
       "\\item 0.09\n",
       "\\item 0.119\n",
       "\\end{enumerate*}\n",
       "\n",
       "\\item[\\$n] 1143\n",
       "\\item[\\$conf] \\begin{enumerate*}\n",
       "\\item 0.0780653178100817\n",
       "\\item 0.0799346821899183\n",
       "\\end{enumerate*}\n",
       "\n",
       "\\item[\\$out] \\begin{enumerate*}\n",
       "\\item 0.341\n",
       "\\item 0.332\n",
       "\\item 0.467\n",
       "\\item 0.178\n",
       "\\item 0.61\n",
       "\\item 0.27\n",
       "\\item 0.039\n",
       "\\item 0.337\n",
       "\\item 0.263\n",
       "\\item 0.611\n",
       "\\item 0.358\n",
       "\\item 0.213\n",
       "\\item 0.214\n",
       "\\item 0.121\n",
       "\\item 0.128\n",
       "\\item 0.12\n",
       "\\item 0.122\n",
       "\\item 0.122\n",
       "\\item 0.121\n",
       "\\item 0.127\n",
       "\\item 0.152\n",
       "\\item 0.125\n",
       "\\item 0.122\n",
       "\\item 0.2\n",
       "\\item 0.226\n",
       "\\item 0.25\n",
       "\\item 0.124\n",
       "\\item 0.222\n",
       "\\item 0.039\n",
       "\\item 0.157\n",
       "\\item 0.422\n",
       "\\item 0.034\n",
       "\\item 0.387\n",
       "\\item 0.415\n",
       "\\item 0.157\n",
       "\\item 0.241\n",
       "\\item 0.19\n",
       "\\item 0.132\n",
       "\\item 0.126\n",
       "\\item 0.038\n",
       "\\item 0.165\n",
       "\\item 0.147\n",
       "\\item 0.012\n",
       "\\item 0.012\n",
       "\\item 0.194\n",
       "\\item 0.132\n",
       "\\item 0.161\n",
       "\\item 0.12\n",
       "\\item 0.12\n",
       "\\item 0.123\n",
       "\\item 0.123\n",
       "\\item 0.414\n",
       "\\item 0.171\n",
       "\\item 0.178\n",
       "\\item 0.166\n",
       "\\item 0.136\n",
       "\\item 0.132\n",
       "\\item 0.132\n",
       "\\item 0.123\n",
       "\\item 0.123\n",
       "\\item 0.403\n",
       "\\item 0.137\n",
       "\\item 0.414\n",
       "\\item 0.166\n",
       "\\item 0.168\n",
       "\\item 0.415\n",
       "\\item 0.153\n",
       "\\item 0.415\n",
       "\\item 0.123\n",
       "\\item 0.214\n",
       "\\item 0.169\n",
       "\\item 0.205\n",
       "\\item 0.205\n",
       "\\item 0.039\n",
       "\\item 0.235\n",
       "\\item 0.23\n",
       "\\item 0.038\n",
       "\\end{enumerate*}\n",
       "\n",
       "\\end{description}\n"
      ],
      "text/markdown": [
       "$stats\n",
       ":   1. 0.041\n",
       "2. 0.07\n",
       "3. 0.079\n",
       "4. 0.09\n",
       "5. 0.119\n",
       "\n",
       "\n",
       "\n",
       "$n\n",
       ":   1143\n",
       "$conf\n",
       ":   1. 0.0780653178100817\n",
       "2. 0.0799346821899183\n",
       "\n",
       "\n",
       "\n",
       "$out\n",
       ":   1. 0.341\n",
       "2. 0.332\n",
       "3. 0.467\n",
       "4. 0.178\n",
       "5. 0.61\n",
       "6. 0.27\n",
       "7. 0.039\n",
       "8. 0.337\n",
       "9. 0.263\n",
       "10. 0.611\n",
       "11. 0.358\n",
       "12. 0.213\n",
       "13. 0.214\n",
       "14. 0.121\n",
       "15. 0.128\n",
       "16. 0.12\n",
       "17. 0.122\n",
       "18. 0.122\n",
       "19. 0.121\n",
       "20. 0.127\n",
       "21. 0.152\n",
       "22. 0.125\n",
       "23. 0.122\n",
       "24. 0.2\n",
       "25. 0.226\n",
       "26. 0.25\n",
       "27. 0.124\n",
       "28. 0.222\n",
       "29. 0.039\n",
       "30. 0.157\n",
       "31. 0.422\n",
       "32. 0.034\n",
       "33. 0.387\n",
       "34. 0.415\n",
       "35. 0.157\n",
       "36. 0.241\n",
       "37. 0.19\n",
       "38. 0.132\n",
       "39. 0.126\n",
       "40. 0.038\n",
       "41. 0.165\n",
       "42. 0.147\n",
       "43. 0.012\n",
       "44. 0.012\n",
       "45. 0.194\n",
       "46. 0.132\n",
       "47. 0.161\n",
       "48. 0.12\n",
       "49. 0.12\n",
       "50. 0.123\n",
       "51. 0.123\n",
       "52. 0.414\n",
       "53. 0.171\n",
       "54. 0.178\n",
       "55. 0.166\n",
       "56. 0.136\n",
       "57. 0.132\n",
       "58. 0.132\n",
       "59. 0.123\n",
       "60. 0.123\n",
       "61. 0.403\n",
       "62. 0.137\n",
       "63. 0.414\n",
       "64. 0.166\n",
       "65. 0.168\n",
       "66. 0.415\n",
       "67. 0.153\n",
       "68. 0.415\n",
       "69. 0.123\n",
       "70. 0.214\n",
       "71. 0.169\n",
       "72. 0.205\n",
       "73. 0.205\n",
       "74. 0.039\n",
       "75. 0.235\n",
       "76. 0.23\n",
       "77. 0.038\n",
       "\n",
       "\n",
       "\n",
       "\n",
       "\n"
      ],
      "text/plain": [
       "$stats\n",
       "[1] 0.041 0.070 0.079 0.090 0.119\n",
       "\n",
       "$n\n",
       "[1] 1143\n",
       "\n",
       "$conf\n",
       "[1] 0.07806532 0.07993468\n",
       "\n",
       "$out\n",
       " [1] 0.341 0.332 0.467 0.178 0.610 0.270 0.039 0.337 0.263 0.611 0.358 0.213\n",
       "[13] 0.214 0.121 0.128 0.120 0.122 0.122 0.121 0.127 0.152 0.125 0.122 0.200\n",
       "[25] 0.226 0.250 0.124 0.222 0.039 0.157 0.422 0.034 0.387 0.415 0.157 0.241\n",
       "[37] 0.190 0.132 0.126 0.038 0.165 0.147 0.012 0.012 0.194 0.132 0.161 0.120\n",
       "[49] 0.120 0.123 0.123 0.414 0.171 0.178 0.166 0.136 0.132 0.132 0.123 0.123\n",
       "[61] 0.403 0.137 0.414 0.166 0.168 0.415 0.153 0.415 0.123 0.214 0.169 0.205\n",
       "[73] 0.205 0.039 0.235 0.230 0.038\n"
      ]
     },
     "metadata": {},
     "output_type": "display_data"
    }
   ],
   "source": [
    "boxplot.stats(wine_wrangled$chlorides)"
   ]
  },
  {
   "cell_type": "markdown",
   "id": "b991d722",
   "metadata": {},
   "source": [
    "#### Outliers: 77"
   ]
  },
  {
   "cell_type": "markdown",
   "id": "8afbf15e",
   "metadata": {},
   "source": [
    "### Volatile Acidity"
   ]
  },
  {
   "cell_type": "code",
   "execution_count": 8,
   "id": "2878a50d",
   "metadata": {
    "scrolled": true,
    "vscode": {
     "languageId": "r"
    }
   },
   "outputs": [
    {
     "data": {
      "text/html": [
       "<dl>\n",
       "\t<dt>$stats</dt>\n",
       "\t\t<dd><style>\n",
       ".list-inline {list-style: none; margin:0; padding: 0}\n",
       ".list-inline>li {display: inline-block}\n",
       ".list-inline>li:not(:last-child)::after {content: \"\\00b7\"; padding: 0 .5ex}\n",
       "</style>\n",
       "<ol class=list-inline><li>0.12</li><li>0.3925</li><li>0.52</li><li>0.64</li><li>1.005</li></ol>\n",
       "</dd>\n",
       "\t<dt>$n</dt>\n",
       "\t\t<dd>1143</dd>\n",
       "\t<dt>$conf</dt>\n",
       "\t\t<dd><style>\n",
       ".list-inline {list-style: none; margin:0; padding: 0}\n",
       ".list-inline>li {display: inline-block}\n",
       ".list-inline>li:not(:last-child)::after {content: \"\\00b7\"; padding: 0 .5ex}\n",
       "</style>\n",
       "<ol class=list-inline><li>0.508433307899761</li><li>0.531566692100239</li></ol>\n",
       "</dd>\n",
       "\t<dt>$out</dt>\n",
       "\t\t<dd><style>\n",
       ".list-inline {list-style: none; margin:0; padding: 0}\n",
       ".list-inline>li {display: inline-block}\n",
       ".list-inline>li:not(:last-child)::after {content: \"\\00b7\"; padding: 0 .5ex}\n",
       "</style>\n",
       "<ol class=list-inline><li>1.02</li><li>1.07</li><li>1.33</li><li>1.33</li><li>1.04</li><li>1.09</li><li>1.04</li><li>1.02</li><li>1.035</li><li>1.025</li><li>1.02</li><li>1.58</li><li>1.18</li><li>1.04</li></ol>\n",
       "</dd>\n",
       "</dl>\n"
      ],
      "text/latex": [
       "\\begin{description}\n",
       "\\item[\\$stats] \\begin{enumerate*}\n",
       "\\item 0.12\n",
       "\\item 0.3925\n",
       "\\item 0.52\n",
       "\\item 0.64\n",
       "\\item 1.005\n",
       "\\end{enumerate*}\n",
       "\n",
       "\\item[\\$n] 1143\n",
       "\\item[\\$conf] \\begin{enumerate*}\n",
       "\\item 0.508433307899761\n",
       "\\item 0.531566692100239\n",
       "\\end{enumerate*}\n",
       "\n",
       "\\item[\\$out] \\begin{enumerate*}\n",
       "\\item 1.02\n",
       "\\item 1.07\n",
       "\\item 1.33\n",
       "\\item 1.33\n",
       "\\item 1.04\n",
       "\\item 1.09\n",
       "\\item 1.04\n",
       "\\item 1.02\n",
       "\\item 1.035\n",
       "\\item 1.025\n",
       "\\item 1.02\n",
       "\\item 1.58\n",
       "\\item 1.18\n",
       "\\item 1.04\n",
       "\\end{enumerate*}\n",
       "\n",
       "\\end{description}\n"
      ],
      "text/markdown": [
       "$stats\n",
       ":   1. 0.12\n",
       "2. 0.3925\n",
       "3. 0.52\n",
       "4. 0.64\n",
       "5. 1.005\n",
       "\n",
       "\n",
       "\n",
       "$n\n",
       ":   1143\n",
       "$conf\n",
       ":   1. 0.508433307899761\n",
       "2. 0.531566692100239\n",
       "\n",
       "\n",
       "\n",
       "$out\n",
       ":   1. 1.02\n",
       "2. 1.07\n",
       "3. 1.33\n",
       "4. 1.33\n",
       "5. 1.04\n",
       "6. 1.09\n",
       "7. 1.04\n",
       "8. 1.02\n",
       "9. 1.035\n",
       "10. 1.025\n",
       "11. 1.02\n",
       "12. 1.58\n",
       "13. 1.18\n",
       "14. 1.04\n",
       "\n",
       "\n",
       "\n",
       "\n",
       "\n"
      ],
      "text/plain": [
       "$stats\n",
       "[1] 0.1200 0.3925 0.5200 0.6400 1.0050\n",
       "\n",
       "$n\n",
       "[1] 1143\n",
       "\n",
       "$conf\n",
       "[1] 0.5084333 0.5315667\n",
       "\n",
       "$out\n",
       " [1] 1.020 1.070 1.330 1.330 1.040 1.090 1.040 1.020 1.035 1.025 1.020 1.580\n",
       "[13] 1.180 1.040\n"
      ]
     },
     "metadata": {},
     "output_type": "display_data"
    }
   ],
   "source": [
    "boxplot.stats(wine_wrangled$volatile.acidity)"
   ]
  },
  {
   "cell_type": "markdown",
   "id": "9b67638b",
   "metadata": {},
   "source": [
    "#### Outliers: 14"
   ]
  },
  {
   "cell_type": "markdown",
   "id": "cfed63ab",
   "metadata": {},
   "source": [
    "### pH"
   ]
  },
  {
   "cell_type": "code",
   "execution_count": 9,
   "id": "8abd6fcc",
   "metadata": {
    "scrolled": true,
    "vscode": {
     "languageId": "r"
    }
   },
   "outputs": [
    {
     "data": {
      "text/html": [
       "<dl>\n",
       "\t<dt>$stats</dt>\n",
       "\t\t<dd><style>\n",
       ".list-inline {list-style: none; margin:0; padding: 0}\n",
       ".list-inline>li {display: inline-block}\n",
       ".list-inline>li:not(:last-child)::after {content: \"\\00b7\"; padding: 0 .5ex}\n",
       "</style>\n",
       "<ol class=list-inline><li>2.92</li><li>3.205</li><li>3.31</li><li>3.4</li><li>3.69</li></ol>\n",
       "</dd>\n",
       "\t<dt>$n</dt>\n",
       "\t\t<dd>1143</dd>\n",
       "\t<dt>$conf</dt>\n",
       "\t\t<dd><style>\n",
       ".list-inline {list-style: none; margin:0; padding: 0}\n",
       ".list-inline>li {display: inline-block}\n",
       ".list-inline>li:not(:last-child)::after {content: \"\\00b7\"; padding: 0 .5ex}\n",
       "</style>\n",
       "<ol class=list-inline><li>3.3008868486483</li><li>3.3191131513517</li></ol>\n",
       "</dd>\n",
       "\t<dt>$out</dt>\n",
       "\t\t<dd><style>\n",
       ".list-inline {list-style: none; margin:0; padding: 0}\n",
       ".list-inline>li {display: inline-block}\n",
       ".list-inline>li:not(:last-child)::after {content: \"\\00b7\"; padding: 0 .5ex}\n",
       "</style>\n",
       "<ol class=list-inline><li>3.9</li><li>3.75</li><li>2.74</li><li>2.88</li><li>2.86</li><li>3.74</li><li>3.72</li><li>2.89</li><li>2.89</li><li>3.9</li><li>3.71</li><li>2.89</li><li>3.78</li><li>3.7</li><li>3.78</li><li>4.01</li><li>2.9</li><li>4.01</li><li>2.88</li><li>3.72</li></ol>\n",
       "</dd>\n",
       "</dl>\n"
      ],
      "text/latex": [
       "\\begin{description}\n",
       "\\item[\\$stats] \\begin{enumerate*}\n",
       "\\item 2.92\n",
       "\\item 3.205\n",
       "\\item 3.31\n",
       "\\item 3.4\n",
       "\\item 3.69\n",
       "\\end{enumerate*}\n",
       "\n",
       "\\item[\\$n] 1143\n",
       "\\item[\\$conf] \\begin{enumerate*}\n",
       "\\item 3.3008868486483\n",
       "\\item 3.3191131513517\n",
       "\\end{enumerate*}\n",
       "\n",
       "\\item[\\$out] \\begin{enumerate*}\n",
       "\\item 3.9\n",
       "\\item 3.75\n",
       "\\item 2.74\n",
       "\\item 2.88\n",
       "\\item 2.86\n",
       "\\item 3.74\n",
       "\\item 3.72\n",
       "\\item 2.89\n",
       "\\item 2.89\n",
       "\\item 3.9\n",
       "\\item 3.71\n",
       "\\item 2.89\n",
       "\\item 3.78\n",
       "\\item 3.7\n",
       "\\item 3.78\n",
       "\\item 4.01\n",
       "\\item 2.9\n",
       "\\item 4.01\n",
       "\\item 2.88\n",
       "\\item 3.72\n",
       "\\end{enumerate*}\n",
       "\n",
       "\\end{description}\n"
      ],
      "text/markdown": [
       "$stats\n",
       ":   1. 2.92\n",
       "2. 3.205\n",
       "3. 3.31\n",
       "4. 3.4\n",
       "5. 3.69\n",
       "\n",
       "\n",
       "\n",
       "$n\n",
       ":   1143\n",
       "$conf\n",
       ":   1. 3.3008868486483\n",
       "2. 3.3191131513517\n",
       "\n",
       "\n",
       "\n",
       "$out\n",
       ":   1. 3.9\n",
       "2. 3.75\n",
       "3. 2.74\n",
       "4. 2.88\n",
       "5. 2.86\n",
       "6. 3.74\n",
       "7. 3.72\n",
       "8. 2.89\n",
       "9. 2.89\n",
       "10. 3.9\n",
       "11. 3.71\n",
       "12. 2.89\n",
       "13. 3.78\n",
       "14. 3.7\n",
       "15. 3.78\n",
       "16. 4.01\n",
       "17. 2.9\n",
       "18. 4.01\n",
       "19. 2.88\n",
       "20. 3.72\n",
       "\n",
       "\n",
       "\n",
       "\n",
       "\n"
      ],
      "text/plain": [
       "$stats\n",
       "[1] 2.920 3.205 3.310 3.400 3.690\n",
       "\n",
       "$n\n",
       "[1] 1143\n",
       "\n",
       "$conf\n",
       "[1] 3.300887 3.319113\n",
       "\n",
       "$out\n",
       " [1] 3.90 3.75 2.74 2.88 2.86 3.74 3.72 2.89 2.89 3.90 3.71 2.89 3.78 3.70 3.78\n",
       "[16] 4.01 2.90 4.01 2.88 3.72\n"
      ]
     },
     "metadata": {},
     "output_type": "display_data"
    }
   ],
   "source": [
    "boxplot.stats(wine_wrangled$pH)"
   ]
  },
  {
   "cell_type": "markdown",
   "id": "73ef29c0",
   "metadata": {},
   "source": [
    "#### Outliers: 20"
   ]
  },
  {
   "cell_type": "markdown",
   "id": "968723a6",
   "metadata": {},
   "source": [
    "## Graphing the Relationship of the Variables with Quality"
   ]
  },
  {
   "cell_type": "code",
   "execution_count": 10,
   "id": "046b0243",
   "metadata": {
    "vscode": {
     "languageId": "r"
    }
   },
   "outputs": [
    {
     "data": {
      "text/html": [
       "<table class=\"dataframe\">\n",
       "<caption>A data.frame: 3 × 2</caption>\n",
       "<thead>\n",
       "\t<tr><th scope=col>Group.1</th><th scope=col>x</th></tr>\n",
       "\t<tr><th scope=col>&lt;dbl&gt;</th><th scope=col>&lt;dbl&gt;</th></tr>\n",
       "</thead>\n",
       "<tbody>\n",
       "\t<tr><td>0</td><td>0.7303846</td></tr>\n",
       "\t<tr><td>1</td><td>0.5460106</td></tr>\n",
       "\t<tr><td>2</td><td>0.3953145</td></tr>\n",
       "</tbody>\n",
       "</table>\n"
      ],
      "text/latex": [
       "A data.frame: 3 × 2\n",
       "\\begin{tabular}{ll}\n",
       " Group.1 & x\\\\\n",
       " <dbl> & <dbl>\\\\\n",
       "\\hline\n",
       "\t 0 & 0.7303846\\\\\n",
       "\t 1 & 0.5460106\\\\\n",
       "\t 2 & 0.3953145\\\\\n",
       "\\end{tabular}\n"
      ],
      "text/markdown": [
       "\n",
       "A data.frame: 3 × 2\n",
       "\n",
       "| Group.1 &lt;dbl&gt; | x &lt;dbl&gt; |\n",
       "|---|---|\n",
       "| 0 | 0.7303846 |\n",
       "| 1 | 0.5460106 |\n",
       "| 2 | 0.3953145 |\n",
       "\n"
      ],
      "text/plain": [
       "  Group.1 x        \n",
       "1 0       0.7303846\n",
       "2 1       0.5460106\n",
       "3 2       0.3953145"
      ]
     },
     "metadata": {},
     "output_type": "display_data"
    }
   ],
   "source": [
    "aggregate(x = wine_wrangled$volatile.acidity, by = list(wine_wrangled$quality), FUN = mean) "
   ]
  },
  {
   "cell_type": "code",
   "execution_count": 11,
   "id": "0727b91f",
   "metadata": {
    "vscode": {
     "languageId": "r"
    }
   },
   "outputs": [
    {
     "data": {
      "image/png": "[encoded data removed]",
      "text/plain": [
       "plot without title"
      ]
     },
     "metadata": {
      "image/png": {
       "height": 420,
       "width": 420
      }
     },
     "output_type": "display_data"
    }
   ],
   "source": [
    "boxplot(wine_wrangled)"
   ]
  },
  {
   "cell_type": "code",
   "execution_count": 12,
   "id": "01cf02e5",
   "metadata": {
    "vscode": {
     "languageId": "r"
    }
   },
   "outputs": [
    {
     "data": {
      "image/png": "[encoded data removed]",
      "text/plain": [
       "plot without title"
      ]
     },
     "metadata": {
      "image/png": {
       "height": 420,
       "width": 420
      }
     },
     "output_type": "display_data"
    }
   ],
   "source": [
    "ggplot(stack(wine_wrangled), aes(x = ind, y = values))+\n",
    "  geom_boxplot(fill='rosybrown', color=\"darkred\") +\n",
    "  coord_flip()"
   ]
  },
  {
   "cell_type": "markdown",
   "id": "88932589",
   "metadata": {},
   "source": [
    "## Remove Outliers"
   ]
  },
  {
   "cell_type": "code",
   "execution_count": 13,
   "id": "210c90e3",
   "metadata": {
    "vscode": {
     "languageId": "r"
    }
   },
   "outputs": [],
   "source": [
    "chloride.Q1 <- quantile(wine_wrangled$chlorides, .25)\n",
    "chloride.Q3 <- quantile(wine_wrangled$chlorides, .75)\n",
    "chloride.IQR <- IQR(wine_wrangled$chlorides)"
   ]
  },
  {
   "cell_type": "code",
   "execution_count": 14,
   "id": "235b0615",
   "metadata": {
    "vscode": {
     "languageId": "r"
    }
   },
   "outputs": [],
   "source": [
    "no_outliers_c <- subset(wine_wrangled, wine_wrangled$chlorides > (chloride.Q1 - 1.5*chloride.IQR) & wine_wrangled$chlorides < (chloride.Q3 + 1.5*chloride.IQR))"
   ]
  },
  {
   "cell_type": "code",
   "execution_count": 15,
   "id": "32950e5b",
   "metadata": {
    "scrolled": true,
    "vscode": {
     "languageId": "r"
    }
   },
   "outputs": [
    {
     "data": {
      "image/png": "[encoded data removed]",
      "text/plain": [
       "plot without title"
      ]
     },
     "metadata": {
      "image/png": {
       "height": 420,
       "width": 420
      }
     },
     "output_type": "display_data"
    }
   ],
   "source": [
    "boxplot(no_outliers_c)"
   ]
  },
  {
   "cell_type": "markdown",
   "id": "89b84530",
   "metadata": {},
   "source": [
    "### Recheck Outlier Count"
   ]
  },
  {
   "cell_type": "code",
   "execution_count": 16,
   "id": "8b8896ee",
   "metadata": {
    "vscode": {
     "languageId": "r"
    }
   },
   "outputs": [
    {
     "data": {
      "text/html": [
       "<dl>\n",
       "\t<dt>$stats</dt>\n",
       "\t\t<dd><style>\n",
       ".list-inline {list-style: none; margin:0; padding: 0}\n",
       ".list-inline>li {display: inline-block}\n",
       ".list-inline>li:not(:last-child)::after {content: \"\\00b7\"; padding: 0 .5ex}\n",
       "</style>\n",
       "<ol class=list-inline><li>2.93</li><li>3.21</li><li>3.32</li><li>3.4</li><li>3.68</li></ol>\n",
       "</dd>\n",
       "\t<dt>$n</dt>\n",
       "\t\t<dd>1066</dd>\n",
       "\t<dt>$conf</dt>\n",
       "\t\t<dd><style>\n",
       ".list-inline {list-style: none; margin:0; padding: 0}\n",
       ".list-inline>li {display: inline-block}\n",
       ".list-inline>li:not(:last-child)::after {content: \"\\00b7\"; padding: 0 .5ex}\n",
       "</style>\n",
       "<ol class=list-inline><li>3.31080541598361</li><li>3.32919458401639</li></ol>\n",
       "</dd>\n",
       "\t<dt>$out</dt>\n",
       "\t\t<dd><style>\n",
       ".list-inline {list-style: none; margin:0; padding: 0}\n",
       ".list-inline>li {display: inline-block}\n",
       ".list-inline>li:not(:last-child)::after {content: \"\\00b7\"; padding: 0 .5ex}\n",
       "</style>\n",
       "<ol class=list-inline><li>3.9</li><li>3.75</li><li>3.69</li><li>3.69</li><li>2.88</li><li>2.86</li><li>3.74</li><li>2.92</li><li>2.92</li><li>3.72</li><li>2.89</li><li>2.89</li><li>2.92</li><li>3.71</li><li>3.69</li><li>2.89</li><li>3.78</li><li>3.7</li><li>3.78</li><li>4.01</li><li>4.01</li><li>2.88</li><li>3.72</li></ol>\n",
       "</dd>\n",
       "</dl>\n"
      ],
      "text/latex": [
       "\\begin{description}\n",
       "\\item[\\$stats] \\begin{enumerate*}\n",
       "\\item 2.93\n",
       "\\item 3.21\n",
       "\\item 3.32\n",
       "\\item 3.4\n",
       "\\item 3.68\n",
       "\\end{enumerate*}\n",
       "\n",
       "\\item[\\$n] 1066\n",
       "\\item[\\$conf] \\begin{enumerate*}\n",
       "\\item 3.31080541598361\n",
       "\\item 3.32919458401639\n",
       "\\end{enumerate*}\n",
       "\n",
       "\\item[\\$out] \\begin{enumerate*}\n",
       "\\item 3.9\n",
       "\\item 3.75\n",
       "\\item 3.69\n",
       "\\item 3.69\n",
       "\\item 2.88\n",
       "\\item 2.86\n",
       "\\item 3.74\n",
       "\\item 2.92\n",
       "\\item 2.92\n",
       "\\item 3.72\n",
       "\\item 2.89\n",
       "\\item 2.89\n",
       "\\item 2.92\n",
       "\\item 3.71\n",
       "\\item 3.69\n",
       "\\item 2.89\n",
       "\\item 3.78\n",
       "\\item 3.7\n",
       "\\item 3.78\n",
       "\\item 4.01\n",
       "\\item 4.01\n",
       "\\item 2.88\n",
       "\\item 3.72\n",
       "\\end{enumerate*}\n",
       "\n",
       "\\end{description}\n"
      ],
      "text/markdown": [
       "$stats\n",
       ":   1. 2.93\n",
       "2. 3.21\n",
       "3. 3.32\n",
       "4. 3.4\n",
       "5. 3.68\n",
       "\n",
       "\n",
       "\n",
       "$n\n",
       ":   1066\n",
       "$conf\n",
       ":   1. 3.31080541598361\n",
       "2. 3.32919458401639\n",
       "\n",
       "\n",
       "\n",
       "$out\n",
       ":   1. 3.9\n",
       "2. 3.75\n",
       "3. 3.69\n",
       "4. 3.69\n",
       "5. 2.88\n",
       "6. 2.86\n",
       "7. 3.74\n",
       "8. 2.92\n",
       "9. 2.92\n",
       "10. 3.72\n",
       "11. 2.89\n",
       "12. 2.89\n",
       "13. 2.92\n",
       "14. 3.71\n",
       "15. 3.69\n",
       "16. 2.89\n",
       "17. 3.78\n",
       "18. 3.7\n",
       "19. 3.78\n",
       "20. 4.01\n",
       "21. 4.01\n",
       "22. 2.88\n",
       "23. 3.72\n",
       "\n",
       "\n",
       "\n",
       "\n",
       "\n"
      ],
      "text/plain": [
       "$stats\n",
       "[1] 2.93 3.21 3.32 3.40 3.68\n",
       "\n",
       "$n\n",
       "[1] 1066\n",
       "\n",
       "$conf\n",
       "[1] 3.310805 3.329195\n",
       "\n",
       "$out\n",
       " [1] 3.90 3.75 3.69 3.69 2.88 2.86 3.74 2.92 2.92 3.72 2.89 2.89 2.92 3.71 3.69\n",
       "[16] 2.89 3.78 3.70 3.78 4.01 4.01 2.88 3.72\n"
      ]
     },
     "metadata": {},
     "output_type": "display_data"
    }
   ],
   "source": [
    "boxplot.stats(no_outliers_c$pH)"
   ]
  },
  {
   "cell_type": "code",
   "execution_count": 17,
   "id": "30e7ec65",
   "metadata": {
    "vscode": {
     "languageId": "r"
    }
   },
   "outputs": [
    {
     "data": {
      "text/html": [
       "<dl>\n",
       "\t<dt>$stats</dt>\n",
       "\t\t<dd><style>\n",
       ".list-inline {list-style: none; margin:0; padding: 0}\n",
       ".list-inline>li {display: inline-block}\n",
       ".list-inline>li:not(:last-child)::after {content: \"\\00b7\"; padding: 0 .5ex}\n",
       "</style>\n",
       "<ol class=list-inline><li>0.12</li><li>0.39</li><li>0.52</li><li>0.64</li><li>1.005</li></ol>\n",
       "</dd>\n",
       "\t<dt>$n</dt>\n",
       "\t\t<dd>1066</dd>\n",
       "\t<dt>$conf</dt>\n",
       "\t\t<dd><style>\n",
       ".list-inline {list-style: none; margin:0; padding: 0}\n",
       ".list-inline>li {display: inline-block}\n",
       ".list-inline>li:not(:last-child)::after {content: \"\\00b7\"; padding: 0 .5ex}\n",
       "</style>\n",
       "<ol class=list-inline><li>0.507901863136324</li><li>0.532098136863676</li></ol>\n",
       "</dd>\n",
       "\t<dt>$out</dt>\n",
       "\t\t<dd><style>\n",
       ".list-inline {list-style: none; margin:0; padding: 0}\n",
       ".list-inline>li {display: inline-block}\n",
       ".list-inline>li:not(:last-child)::after {content: \"\\00b7\"; padding: 0 .5ex}\n",
       "</style>\n",
       "<ol class=list-inline><li>1.02</li><li>1.33</li><li>1.33</li><li>1.04</li><li>1.09</li><li>1.04</li><li>1.02</li><li>1.035</li><li>1.025</li><li>1.02</li><li>1.18</li><li>1.04</li></ol>\n",
       "</dd>\n",
       "</dl>\n"
      ],
      "text/latex": [
       "\\begin{description}\n",
       "\\item[\\$stats] \\begin{enumerate*}\n",
       "\\item 0.12\n",
       "\\item 0.39\n",
       "\\item 0.52\n",
       "\\item 0.64\n",
       "\\item 1.005\n",
       "\\end{enumerate*}\n",
       "\n",
       "\\item[\\$n] 1066\n",
       "\\item[\\$conf] \\begin{enumerate*}\n",
       "\\item 0.507901863136324\n",
       "\\item 0.532098136863676\n",
       "\\end{enumerate*}\n",
       "\n",
       "\\item[\\$out] \\begin{enumerate*}\n",
       "\\item 1.02\n",
       "\\item 1.33\n",
       "\\item 1.33\n",
       "\\item 1.04\n",
       "\\item 1.09\n",
       "\\item 1.04\n",
       "\\item 1.02\n",
       "\\item 1.035\n",
       "\\item 1.025\n",
       "\\item 1.02\n",
       "\\item 1.18\n",
       "\\item 1.04\n",
       "\\end{enumerate*}\n",
       "\n",
       "\\end{description}\n"
      ],
      "text/markdown": [
       "$stats\n",
       ":   1. 0.12\n",
       "2. 0.39\n",
       "3. 0.52\n",
       "4. 0.64\n",
       "5. 1.005\n",
       "\n",
       "\n",
       "\n",
       "$n\n",
       ":   1066\n",
       "$conf\n",
       ":   1. 0.507901863136324\n",
       "2. 0.532098136863676\n",
       "\n",
       "\n",
       "\n",
       "$out\n",
       ":   1. 1.02\n",
       "2. 1.33\n",
       "3. 1.33\n",
       "4. 1.04\n",
       "5. 1.09\n",
       "6. 1.04\n",
       "7. 1.02\n",
       "8. 1.035\n",
       "9. 1.025\n",
       "10. 1.02\n",
       "11. 1.18\n",
       "12. 1.04\n",
       "\n",
       "\n",
       "\n",
       "\n",
       "\n"
      ],
      "text/plain": [
       "$stats\n",
       "[1] 0.120 0.390 0.520 0.640 1.005\n",
       "\n",
       "$n\n",
       "[1] 1066\n",
       "\n",
       "$conf\n",
       "[1] 0.5079019 0.5320981\n",
       "\n",
       "$out\n",
       " [1] 1.020 1.330 1.330 1.040 1.090 1.040 1.020 1.035 1.025 1.020 1.180 1.040\n"
      ]
     },
     "metadata": {},
     "output_type": "display_data"
    }
   ],
   "source": [
    "boxplot.stats(no_outliers_c$volatile.acidity)"
   ]
  },
  {
   "cell_type": "code",
   "execution_count": 18,
   "id": "0a54e1d2",
   "metadata": {
    "vscode": {
     "languageId": "r"
    }
   },
   "outputs": [
    {
     "data": {
      "text/html": [
       "<dl>\n",
       "\t<dt>$stats</dt>\n",
       "\t\t<dd><style>\n",
       ".list-inline {list-style: none; margin:0; padding: 0}\n",
       ".list-inline>li {display: inline-block}\n",
       ".list-inline>li:not(:last-child)::after {content: \"\\00b7\"; padding: 0 .5ex}\n",
       "</style>\n",
       "<ol class=list-inline><li>0.9922</li><li>0.99553</li><li>0.996625</li><li>0.9978</li><li>1.001</li></ol>\n",
       "</dd>\n",
       "\t<dt>$n</dt>\n",
       "\t\t<dd>1066</dd>\n",
       "\t<dt>$conf</dt>\n",
       "\t\t<dd><style>\n",
       ".list-inline {list-style: none; margin:0; padding: 0}\n",
       ".list-inline>li {display: inline-block}\n",
       ".list-inline>li:not(:last-child)::after {content: \"\\00b7\"; padding: 0 .5ex}\n",
       "</style>\n",
       "<ol class=list-inline><li>0.996515148917278</li><li>0.996734851082722</li></ol>\n",
       "</dd>\n",
       "\t<dt>$out</dt>\n",
       "\t\t<dd><style>\n",
       ".list-inline {list-style: none; margin:0; padding: 0}\n",
       ".list-inline>li {display: inline-block}\n",
       ".list-inline>li:not(:last-child)::after {content: \"\\00b7\"; padding: 0 .5ex}\n",
       "</style>\n",
       "<ol class=list-inline><li>0.9916</li><li>0.9916</li><li>1.0014</li><li>1.0015</li><li>1.0015</li><li>0.9912</li><li>1.0022</li><li>1.0022</li><li>1.0014</li><li>1.0014</li><li>1.0032</li><li>1.0026</li><li>1.0014</li><li>1.00315</li><li>1.00315</li><li>1.0021</li><li>1.0021</li><li>0.9917</li><li>1.0026</li><li>0.99154</li><li>1.00289</li><li>0.99162</li><li>0.99007</li><li>0.9902</li><li>0.99157</li><li>0.99084</li><li>0.99191</li><li>0.99182</li><li>0.99182</li></ol>\n",
       "</dd>\n",
       "</dl>\n"
      ],
      "text/latex": [
       "\\begin{description}\n",
       "\\item[\\$stats] \\begin{enumerate*}\n",
       "\\item 0.9922\n",
       "\\item 0.99553\n",
       "\\item 0.996625\n",
       "\\item 0.9978\n",
       "\\item 1.001\n",
       "\\end{enumerate*}\n",
       "\n",
       "\\item[\\$n] 1066\n",
       "\\item[\\$conf] \\begin{enumerate*}\n",
       "\\item 0.996515148917278\n",
       "\\item 0.996734851082722\n",
       "\\end{enumerate*}\n",
       "\n",
       "\\item[\\$out] \\begin{enumerate*}\n",
       "\\item 0.9916\n",
       "\\item 0.9916\n",
       "\\item 1.0014\n",
       "\\item 1.0015\n",
       "\\item 1.0015\n",
       "\\item 0.9912\n",
       "\\item 1.0022\n",
       "\\item 1.0022\n",
       "\\item 1.0014\n",
       "\\item 1.0014\n",
       "\\item 1.0032\n",
       "\\item 1.0026\n",
       "\\item 1.0014\n",
       "\\item 1.00315\n",
       "\\item 1.00315\n",
       "\\item 1.0021\n",
       "\\item 1.0021\n",
       "\\item 0.9917\n",
       "\\item 1.0026\n",
       "\\item 0.99154\n",
       "\\item 1.00289\n",
       "\\item 0.99162\n",
       "\\item 0.99007\n",
       "\\item 0.9902\n",
       "\\item 0.99157\n",
       "\\item 0.99084\n",
       "\\item 0.99191\n",
       "\\item 0.99182\n",
       "\\item 0.99182\n",
       "\\end{enumerate*}\n",
       "\n",
       "\\end{description}\n"
      ],
      "text/markdown": [
       "$stats\n",
       ":   1. 0.9922\n",
       "2. 0.99553\n",
       "3. 0.996625\n",
       "4. 0.9978\n",
       "5. 1.001\n",
       "\n",
       "\n",
       "\n",
       "$n\n",
       ":   1066\n",
       "$conf\n",
       ":   1. 0.996515148917278\n",
       "2. 0.996734851082722\n",
       "\n",
       "\n",
       "\n",
       "$out\n",
       ":   1. 0.9916\n",
       "2. 0.9916\n",
       "3. 1.0014\n",
       "4. 1.0015\n",
       "5. 1.0015\n",
       "6. 0.9912\n",
       "7. 1.0022\n",
       "8. 1.0022\n",
       "9. 1.0014\n",
       "10. 1.0014\n",
       "11. 1.0032\n",
       "12. 1.0026\n",
       "13. 1.0014\n",
       "14. 1.00315\n",
       "15. 1.00315\n",
       "16. 1.0021\n",
       "17. 1.0021\n",
       "18. 0.9917\n",
       "19. 1.0026\n",
       "20. 0.99154\n",
       "21. 1.00289\n",
       "22. 0.99162\n",
       "23. 0.99007\n",
       "24. 0.9902\n",
       "25. 0.99157\n",
       "26. 0.99084\n",
       "27. 0.99191\n",
       "28. 0.99182\n",
       "29. 0.99182\n",
       "\n",
       "\n",
       "\n",
       "\n",
       "\n"
      ],
      "text/plain": [
       "$stats\n",
       "[1] 0.992200 0.995530 0.996625 0.997800 1.001000\n",
       "\n",
       "$n\n",
       "[1] 1066\n",
       "\n",
       "$conf\n",
       "[1] 0.9965151 0.9967349\n",
       "\n",
       "$out\n",
       " [1] 0.99160 0.99160 1.00140 1.00150 1.00150 0.99120 1.00220 1.00220 1.00140\n",
       "[10] 1.00140 1.00320 1.00260 1.00140 1.00315 1.00315 1.00210 1.00210 0.99170\n",
       "[19] 1.00260 0.99154 1.00289 0.99162 0.99007 0.99020 0.99157 0.99084 0.99191\n",
       "[28] 0.99182 0.99182\n"
      ]
     },
     "metadata": {},
     "output_type": "display_data"
    }
   ],
   "source": [
    "boxplot.stats(no_outliers_c$density)"
   ]
  },
  {
   "cell_type": "markdown",
   "id": "7f9c2642",
   "metadata": {},
   "source": [
    "### Density"
   ]
  },
  {
   "cell_type": "code",
   "execution_count": 19,
   "id": "0646c105",
   "metadata": {
    "vscode": {
     "languageId": "r"
    }
   },
   "outputs": [],
   "source": [
    "density_Q1 <- quantile(no_outliers_c$density, .25)\n",
    "density_Q3 <- quantile(no_outliers_c$density, .75)\n",
    "density_IQR <- IQR(no_outliers_c$density)"
   ]
  },
  {
   "cell_type": "code",
   "execution_count": 20,
   "id": "f087467f",
   "metadata": {
    "vscode": {
     "languageId": "r"
    }
   },
   "outputs": [],
   "source": [
    "no_outliers_cd <- subset(no_outliers_c, no_outliers_c$density > (density_Q1 - 1.5*density_IQR) & no_outliers_c$density < (density_Q3 + 1.5*density_IQR))"
   ]
  },
  {
   "cell_type": "code",
   "execution_count": 21,
   "id": "ce02780e",
   "metadata": {
    "scrolled": true,
    "vscode": {
     "languageId": "r"
    }
   },
   "outputs": [
    {
     "data": {
      "image/png": "[encoded data removed]",
      "text/plain": [
       "plot without title"
      ]
     },
     "metadata": {
      "image/png": {
       "height": 420,
       "width": 420
      }
     },
     "output_type": "display_data"
    }
   ],
   "source": [
    "boxplot(no_outliers_cd)"
   ]
  },
  {
   "cell_type": "markdown",
   "id": "8f23dc46",
   "metadata": {},
   "source": [
    "#### Recount Outliers"
   ]
  },
  {
   "cell_type": "code",
   "execution_count": 22,
   "id": "a1a0110f",
   "metadata": {
    "vscode": {
     "languageId": "r"
    }
   },
   "outputs": [
    {
     "data": {
      "text/html": [
       "<dl>\n",
       "\t<dt>$stats</dt>\n",
       "\t\t<dd><style>\n",
       ".list-inline {list-style: none; margin:0; padding: 0}\n",
       ".list-inline>li {display: inline-block}\n",
       ".list-inline>li:not(:last-child)::after {content: \"\\00b7\"; padding: 0 .5ex}\n",
       "</style>\n",
       "<ol class=list-inline><li>0.12</li><li>0.39</li><li>0.52</li><li>0.64</li><li>1.005</li></ol>\n",
       "</dd>\n",
       "\t<dt>$n</dt>\n",
       "\t\t<dd>1037</dd>\n",
       "\t<dt>$conf</dt>\n",
       "\t\t<dd><style>\n",
       ".list-inline {list-style: none; margin:0; padding: 0}\n",
       ".list-inline>li {display: inline-block}\n",
       ".list-inline>li:not(:last-child)::after {content: \"\\00b7\"; padding: 0 .5ex}\n",
       "</style>\n",
       "<ol class=list-inline><li>0.50773386564262</li><li>0.53226613435738</li></ol>\n",
       "</dd>\n",
       "\t<dt>$out</dt>\n",
       "\t\t<dd><style>\n",
       ".list-inline {list-style: none; margin:0; padding: 0}\n",
       ".list-inline>li {display: inline-block}\n",
       ".list-inline>li:not(:last-child)::after {content: \"\\00b7\"; padding: 0 .5ex}\n",
       "</style>\n",
       "<ol class=list-inline><li>1.02</li><li>1.33</li><li>1.33</li><li>1.04</li><li>1.09</li><li>1.04</li><li>1.02</li><li>1.035</li><li>1.025</li><li>1.02</li><li>1.18</li><li>1.04</li></ol>\n",
       "</dd>\n",
       "</dl>\n"
      ],
      "text/latex": [
       "\\begin{description}\n",
       "\\item[\\$stats] \\begin{enumerate*}\n",
       "\\item 0.12\n",
       "\\item 0.39\n",
       "\\item 0.52\n",
       "\\item 0.64\n",
       "\\item 1.005\n",
       "\\end{enumerate*}\n",
       "\n",
       "\\item[\\$n] 1037\n",
       "\\item[\\$conf] \\begin{enumerate*}\n",
       "\\item 0.50773386564262\n",
       "\\item 0.53226613435738\n",
       "\\end{enumerate*}\n",
       "\n",
       "\\item[\\$out] \\begin{enumerate*}\n",
       "\\item 1.02\n",
       "\\item 1.33\n",
       "\\item 1.33\n",
       "\\item 1.04\n",
       "\\item 1.09\n",
       "\\item 1.04\n",
       "\\item 1.02\n",
       "\\item 1.035\n",
       "\\item 1.025\n",
       "\\item 1.02\n",
       "\\item 1.18\n",
       "\\item 1.04\n",
       "\\end{enumerate*}\n",
       "\n",
       "\\end{description}\n"
      ],
      "text/markdown": [
       "$stats\n",
       ":   1. 0.12\n",
       "2. 0.39\n",
       "3. 0.52\n",
       "4. 0.64\n",
       "5. 1.005\n",
       "\n",
       "\n",
       "\n",
       "$n\n",
       ":   1037\n",
       "$conf\n",
       ":   1. 0.50773386564262\n",
       "2. 0.53226613435738\n",
       "\n",
       "\n",
       "\n",
       "$out\n",
       ":   1. 1.02\n",
       "2. 1.33\n",
       "3. 1.33\n",
       "4. 1.04\n",
       "5. 1.09\n",
       "6. 1.04\n",
       "7. 1.02\n",
       "8. 1.035\n",
       "9. 1.025\n",
       "10. 1.02\n",
       "11. 1.18\n",
       "12. 1.04\n",
       "\n",
       "\n",
       "\n",
       "\n",
       "\n"
      ],
      "text/plain": [
       "$stats\n",
       "[1] 0.120 0.390 0.520 0.640 1.005\n",
       "\n",
       "$n\n",
       "[1] 1037\n",
       "\n",
       "$conf\n",
       "[1] 0.5077339 0.5322661\n",
       "\n",
       "$out\n",
       " [1] 1.020 1.330 1.330 1.040 1.090 1.040 1.020 1.035 1.025 1.020 1.180 1.040\n"
      ]
     },
     "metadata": {},
     "output_type": "display_data"
    }
   ],
   "source": [
    "boxplot.stats(no_outliers_cd$volatile.acidity)"
   ]
  },
  {
   "cell_type": "code",
   "execution_count": 23,
   "id": "c45c747f",
   "metadata": {
    "vscode": {
     "languageId": "r"
    }
   },
   "outputs": [
    {
     "data": {
      "text/html": [
       "<dl>\n",
       "\t<dt>$stats</dt>\n",
       "\t\t<dd><style>\n",
       ".list-inline {list-style: none; margin:0; padding: 0}\n",
       ".list-inline>li {display: inline-block}\n",
       ".list-inline>li:not(:last-child)::after {content: \"\\00b7\"; padding: 0 .5ex}\n",
       "</style>\n",
       "<ol class=list-inline><li>2.93</li><li>3.21</li><li>3.32</li><li>3.4</li><li>3.68</li></ol>\n",
       "</dd>\n",
       "\t<dt>$n</dt>\n",
       "\t\t<dd>1037</dd>\n",
       "\t<dt>$conf</dt>\n",
       "\t\t<dd><style>\n",
       ".list-inline {list-style: none; margin:0; padding: 0}\n",
       ".list-inline>li {display: inline-block}\n",
       ".list-inline>li:not(:last-child)::after {content: \"\\00b7\"; padding: 0 .5ex}\n",
       "</style>\n",
       "<ol class=list-inline><li>3.31067773788839</li><li>3.32932226211161</li></ol>\n",
       "</dd>\n",
       "\t<dt>$out</dt>\n",
       "\t\t<dd><style>\n",
       ".list-inline {list-style: none; margin:0; padding: 0}\n",
       ".list-inline>li {display: inline-block}\n",
       ".list-inline>li:not(:last-child)::after {content: \"\\00b7\"; padding: 0 .5ex}\n",
       "</style>\n",
       "<ol class=list-inline><li>3.9</li><li>3.75</li><li>3.69</li><li>3.69</li><li>2.88</li><li>2.86</li><li>3.74</li><li>2.89</li><li>2.89</li><li>2.92</li><li>3.69</li><li>3.78</li><li>3.78</li><li>4.01</li><li>4.01</li><li>2.88</li><li>3.72</li></ol>\n",
       "</dd>\n",
       "</dl>\n"
      ],
      "text/latex": [
       "\\begin{description}\n",
       "\\item[\\$stats] \\begin{enumerate*}\n",
       "\\item 2.93\n",
       "\\item 3.21\n",
       "\\item 3.32\n",
       "\\item 3.4\n",
       "\\item 3.68\n",
       "\\end{enumerate*}\n",
       "\n",
       "\\item[\\$n] 1037\n",
       "\\item[\\$conf] \\begin{enumerate*}\n",
       "\\item 3.31067773788839\n",
       "\\item 3.32932226211161\n",
       "\\end{enumerate*}\n",
       "\n",
       "\\item[\\$out] \\begin{enumerate*}\n",
       "\\item 3.9\n",
       "\\item 3.75\n",
       "\\item 3.69\n",
       "\\item 3.69\n",
       "\\item 2.88\n",
       "\\item 2.86\n",
       "\\item 3.74\n",
       "\\item 2.89\n",
       "\\item 2.89\n",
       "\\item 2.92\n",
       "\\item 3.69\n",
       "\\item 3.78\n",
       "\\item 3.78\n",
       "\\item 4.01\n",
       "\\item 4.01\n",
       "\\item 2.88\n",
       "\\item 3.72\n",
       "\\end{enumerate*}\n",
       "\n",
       "\\end{description}\n"
      ],
      "text/markdown": [
       "$stats\n",
       ":   1. 2.93\n",
       "2. 3.21\n",
       "3. 3.32\n",
       "4. 3.4\n",
       "5. 3.68\n",
       "\n",
       "\n",
       "\n",
       "$n\n",
       ":   1037\n",
       "$conf\n",
       ":   1. 3.31067773788839\n",
       "2. 3.32932226211161\n",
       "\n",
       "\n",
       "\n",
       "$out\n",
       ":   1. 3.9\n",
       "2. 3.75\n",
       "3. 3.69\n",
       "4. 3.69\n",
       "5. 2.88\n",
       "6. 2.86\n",
       "7. 3.74\n",
       "8. 2.89\n",
       "9. 2.89\n",
       "10. 2.92\n",
       "11. 3.69\n",
       "12. 3.78\n",
       "13. 3.78\n",
       "14. 4.01\n",
       "15. 4.01\n",
       "16. 2.88\n",
       "17. 3.72\n",
       "\n",
       "\n",
       "\n",
       "\n",
       "\n"
      ],
      "text/plain": [
       "$stats\n",
       "[1] 2.93 3.21 3.32 3.40 3.68\n",
       "\n",
       "$n\n",
       "[1] 1037\n",
       "\n",
       "$conf\n",
       "[1] 3.310678 3.329322\n",
       "\n",
       "$out\n",
       " [1] 3.90 3.75 3.69 3.69 2.88 2.86 3.74 2.89 2.89 2.92 3.69 3.78 3.78 4.01 4.01\n",
       "[16] 2.88 3.72\n"
      ]
     },
     "metadata": {},
     "output_type": "display_data"
    }
   ],
   "source": [
    "boxplot.stats(no_outliers_cd$pH)"
   ]
  },
  {
   "cell_type": "markdown",
   "id": "b3c03d52",
   "metadata": {},
   "source": [
    "\n",
    "### pH"
   ]
  },
  {
   "cell_type": "code",
   "execution_count": 24,
   "id": "b99c2df2",
   "metadata": {
    "vscode": {
     "languageId": "r"
    }
   },
   "outputs": [],
   "source": [
    "ph_Q1 <- quantile(no_outliers_cd$pH, .25)\n",
    "ph_Q3 <- quantile(no_outliers_cd$pH, .75)\n",
    "ph_IQR <- IQR(no_outliers_cd$pH)"
   ]
  },
  {
   "cell_type": "code",
   "execution_count": 25,
   "id": "0f54fb41",
   "metadata": {
    "vscode": {
     "languageId": "r"
    }
   },
   "outputs": [],
   "source": [
    "no_outliers_cdp <- subset(no_outliers_cd, no_outliers_cd$pH > (ph_Q1 - 1.5*ph_IQR) & no_outliers_cd$pH < (ph_Q3 + 1.5*ph_IQR))"
   ]
  },
  {
   "cell_type": "code",
   "execution_count": 26,
   "id": "2123c94e",
   "metadata": {
    "vscode": {
     "languageId": "r"
    }
   },
   "outputs": [
    {
     "data": {
      "image/png": "[encoded data removed]",
      "text/plain": [
       "plot without title"
      ]
     },
     "metadata": {
      "image/png": {
       "height": 420,
       "width": 420
      }
     },
     "output_type": "display_data"
    }
   ],
   "source": [
    "boxplot(no_outliers_cdp)"
   ]
  },
  {
   "cell_type": "markdown",
   "id": "91dd6774",
   "metadata": {},
   "source": [
    "\n",
    "#### Recount Outliers"
   ]
  },
  {
   "cell_type": "code",
   "execution_count": 27,
   "id": "52c8f2b4",
   "metadata": {
    "vscode": {
     "languageId": "r"
    }
   },
   "outputs": [
    {
     "data": {
      "text/html": [
       "<dl>\n",
       "\t<dt>$stats</dt>\n",
       "\t\t<dd><style>\n",
       ".list-inline {list-style: none; margin:0; padding: 0}\n",
       ".list-inline>li {display: inline-block}\n",
       ".list-inline>li:not(:last-child)::after {content: \"\\00b7\"; padding: 0 .5ex}\n",
       "</style>\n",
       "<ol class=list-inline><li>0.12</li><li>0.39</li><li>0.52</li><li>0.64</li><li>1.005</li></ol>\n",
       "</dd>\n",
       "\t<dt>$n</dt>\n",
       "\t\t<dd>1020</dd>\n",
       "\t<dt>$conf</dt>\n",
       "\t\t<dd><style>\n",
       ".list-inline {list-style: none; margin:0; padding: 0}\n",
       ".list-inline>li {display: inline-block}\n",
       ".list-inline>li:not(:last-child)::after {content: \"\\00b7\"; padding: 0 .5ex}\n",
       "</style>\n",
       "<ol class=list-inline><li>0.507632070251068</li><li>0.532367929748932</li></ol>\n",
       "</dd>\n",
       "\t<dt>$out</dt>\n",
       "\t\t<dd><style>\n",
       ".list-inline {list-style: none; margin:0; padding: 0}\n",
       ".list-inline>li {display: inline-block}\n",
       ".list-inline>li:not(:last-child)::after {content: \"\\00b7\"; padding: 0 .5ex}\n",
       "</style>\n",
       "<ol class=list-inline><li>1.33</li><li>1.33</li><li>1.04</li><li>1.09</li><li>1.02</li><li>1.035</li><li>1.025</li><li>1.02</li><li>1.18</li><li>1.04</li></ol>\n",
       "</dd>\n",
       "</dl>\n"
      ],
      "text/latex": [
       "\\begin{description}\n",
       "\\item[\\$stats] \\begin{enumerate*}\n",
       "\\item 0.12\n",
       "\\item 0.39\n",
       "\\item 0.52\n",
       "\\item 0.64\n",
       "\\item 1.005\n",
       "\\end{enumerate*}\n",
       "\n",
       "\\item[\\$n] 1020\n",
       "\\item[\\$conf] \\begin{enumerate*}\n",
       "\\item 0.507632070251068\n",
       "\\item 0.532367929748932\n",
       "\\end{enumerate*}\n",
       "\n",
       "\\item[\\$out] \\begin{enumerate*}\n",
       "\\item 1.33\n",
       "\\item 1.33\n",
       "\\item 1.04\n",
       "\\item 1.09\n",
       "\\item 1.02\n",
       "\\item 1.035\n",
       "\\item 1.025\n",
       "\\item 1.02\n",
       "\\item 1.18\n",
       "\\item 1.04\n",
       "\\end{enumerate*}\n",
       "\n",
       "\\end{description}\n"
      ],
      "text/markdown": [
       "$stats\n",
       ":   1. 0.12\n",
       "2. 0.39\n",
       "3. 0.52\n",
       "4. 0.64\n",
       "5. 1.005\n",
       "\n",
       "\n",
       "\n",
       "$n\n",
       ":   1020\n",
       "$conf\n",
       ":   1. 0.507632070251068\n",
       "2. 0.532367929748932\n",
       "\n",
       "\n",
       "\n",
       "$out\n",
       ":   1. 1.33\n",
       "2. 1.33\n",
       "3. 1.04\n",
       "4. 1.09\n",
       "5. 1.02\n",
       "6. 1.035\n",
       "7. 1.025\n",
       "8. 1.02\n",
       "9. 1.18\n",
       "10. 1.04\n",
       "\n",
       "\n",
       "\n",
       "\n",
       "\n"
      ],
      "text/plain": [
       "$stats\n",
       "[1] 0.120 0.390 0.520 0.640 1.005\n",
       "\n",
       "$n\n",
       "[1] 1020\n",
       "\n",
       "$conf\n",
       "[1] 0.5076321 0.5323679\n",
       "\n",
       "$out\n",
       " [1] 1.330 1.330 1.040 1.090 1.020 1.035 1.025 1.020 1.180 1.040\n"
      ]
     },
     "metadata": {},
     "output_type": "display_data"
    }
   ],
   "source": [
    "boxplot.stats(no_outliers_cdp$volatile.acidity)"
   ]
  },
  {
   "cell_type": "markdown",
   "id": "158936eb",
   "metadata": {},
   "source": [
    "### Volatile Acidity"
   ]
  },
  {
   "cell_type": "code",
   "execution_count": 28,
   "id": "d4bc55f2",
   "metadata": {
    "vscode": {
     "languageId": "r"
    }
   },
   "outputs": [],
   "source": [
    "acid_Q1 <- quantile(no_outliers_cdp$volatile.acidity, .25)\n",
    "acid_Q3 <- quantile(no_outliers_cdp$volatile.acidity, .75)\n",
    "acid_IQR <- IQR(no_outliers_cdp$volatile.acidity)\n",
    "\n"
   ]
  },
  {
   "cell_type": "code",
   "execution_count": 29,
   "id": "ed54800d",
   "metadata": {
    "vscode": {
     "languageId": "r"
    }
   },
   "outputs": [],
   "source": [
    "no_outliers <- subset(no_outliers_cdp, no_outliers_cdp$volatile.acidity > (acid_Q1 - 1.5*acid_IQR) & no_outliers_cdp$volatile.acidity < (acid_Q3 + 1.5*acid_IQR))"
   ]
  },
  {
   "cell_type": "code",
   "execution_count": 30,
   "id": "c9b85cd9",
   "metadata": {
    "vscode": {
     "languageId": "r"
    }
   },
   "outputs": [
    {
     "data": {
      "image/png": "[encoded data removed]",
      "text/plain": [
       "plot without title"
      ]
     },
     "metadata": {
      "image/png": {
       "height": 420,
       "width": 420
      }
     },
     "output_type": "display_data"
    }
   ],
   "source": [
    "boxplot(no_outliers)"
   ]
  },
  {
   "cell_type": "markdown",
   "id": "515aba75",
   "metadata": {},
   "source": [
    "### Summarizing the Dataset"
   ]
  },
  {
   "cell_type": "code",
   "execution_count": 31,
   "id": "1d00ab5e",
   "metadata": {
    "vscode": {
     "languageId": "r"
    }
   },
   "outputs": [
    {
     "data": {
      "text/plain": [
       " volatile.acidity   chlorides          density             pH       \n",
       " Min.   :0.1200   Min.   :0.01200   Min.   :0.9901   Min.   :2.740  \n",
       " 1st Qu.:0.3925   1st Qu.:0.07000   1st Qu.:0.9956   1st Qu.:3.205  \n",
       " Median :0.5200   Median :0.07900   Median :0.9967   Median :3.310  \n",
       " Mean   :0.5313   Mean   :0.08693   Mean   :0.9967   Mean   :3.311  \n",
       " 3rd Qu.:0.6400   3rd Qu.:0.09000   3rd Qu.:0.9978   3rd Qu.:3.400  \n",
       " Max.   :1.5800   Max.   :0.61100   Max.   :1.0037   Max.   :4.010  \n",
       "    qualityR    \n",
       " Min.   :0.000  \n",
       " 1st Qu.:1.000  \n",
       " Median :1.000  \n",
       " Mean   :1.105  \n",
       " 3rd Qu.:1.000  \n",
       " Max.   :2.000  "
      ]
     },
     "metadata": {},
     "output_type": "display_data"
    }
   ],
   "source": [
    "summary(wine_wrangled)"
   ]
  },
  {
   "cell_type": "markdown",
   "id": "44f77b58",
   "metadata": {},
   "source": [
    "## Scale the Data: Scale Each Predictor Value"
   ]
  },
  {
   "cell_type": "code",
   "execution_count": 32,
   "id": "c34ae390",
   "metadata": {
    "vscode": {
     "languageId": "r"
    }
   },
   "outputs": [],
   "source": [
    "wine_wrangled[1:4] <- scale(wine_wrangled[1:4])"
   ]
  },
  {
   "cell_type": "markdown",
   "id": "35644716",
   "metadata": {},
   "source": [
    "### Find the Mean of Each Predictor Value:  Mean Should == 0\n",
    "### Find the Standard Deviation of Each Predictor Value:  Standard Deviation Should == 1"
   ]
  },
  {
   "cell_type": "code",
   "execution_count": 33,
   "id": "da010025",
   "metadata": {
    "scrolled": true,
    "vscode": {
     "languageId": "r"
    }
   },
   "outputs": [
    {
     "data": {
      "text/html": [
       "<style>\n",
       ".dl-inline {width: auto; margin:0; padding: 0}\n",
       ".dl-inline>dt, .dl-inline>dd {float: none; width: auto; display: inline-block}\n",
       ".dl-inline>dt::after {content: \":\\0020\"; padding-right: .5ex}\n",
       ".dl-inline>dt:not(:first-of-type) {padding-left: .5ex}\n",
       "</style><dl class=dl-inline><dt>volatile.acidity</dt><dd>1.73934940524608e-15</dd><dt>chlorides</dt><dd>5.7356666320311e-15</dd><dt>density</dt><dd>-3.46070600969762e-13</dd><dt>pH</dt><dd>-1.22025457688197e-14</dd></dl>\n"
      ],
      "text/latex": [
       "\\begin{description*}\n",
       "\\item[volatile.acidity] 1.73934940524608e-15\n",
       "\\item[chlorides] 5.7356666320311e-15\n",
       "\\item[density] -3.46070600969762e-13\n",
       "\\item[pH] -1.22025457688197e-14\n",
       "\\end{description*}\n"
      ],
      "text/markdown": [
       "volatile.acidity\n",
       ":   1.73934940524608e-15chlorides\n",
       ":   5.7356666320311e-15density\n",
       ":   -3.46070600969762e-13pH\n",
       ":   -1.22025457688197e-14\n",
       "\n"
      ],
      "text/plain": [
       "volatile.acidity        chlorides          density               pH \n",
       "    1.739349e-15     5.735667e-15    -3.460706e-13    -1.220255e-14 "
      ]
     },
     "metadata": {},
     "output_type": "display_data"
    },
    {
     "data": {
      "text/html": [
       "<style>\n",
       ".dl-inline {width: auto; margin:0; padding: 0}\n",
       ".dl-inline>dt, .dl-inline>dd {float: none; width: auto; display: inline-block}\n",
       ".dl-inline>dt::after {content: \":\\0020\"; padding-right: .5ex}\n",
       ".dl-inline>dt:not(:first-of-type) {padding-left: .5ex}\n",
       "</style><dl class=dl-inline><dt>volatile.acidity</dt><dd>1</dd><dt>chlorides</dt><dd>1</dd><dt>density</dt><dd>0.999999999999999</dd><dt>pH</dt><dd>0.999999999999999</dd></dl>\n"
      ],
      "text/latex": [
       "\\begin{description*}\n",
       "\\item[volatile.acidity] 1\n",
       "\\item[chlorides] 1\n",
       "\\item[density] 0.999999999999999\n",
       "\\item[pH] 0.999999999999999\n",
       "\\end{description*}\n"
      ],
      "text/markdown": [
       "volatile.acidity\n",
       ":   1chlorides\n",
       ":   1density\n",
       ":   0.999999999999999pH\n",
       ":   0.999999999999999\n",
       "\n"
      ],
      "text/plain": [
       "volatile.acidity        chlorides          density               pH \n",
       "               1                1                1                1 "
      ]
     },
     "metadata": {},
     "output_type": "display_data"
    }
   ],
   "source": [
    "apply(wine_wrangled[1:4], 2, mean)\n",
    "apply(wine_wrangled[1:4], 2, sd)"
   ]
  },
  {
   "cell_type": "markdown",
   "id": "32d95232",
   "metadata": {},
   "source": [
    "## Create Training and Test Samples"
   ]
  },
  {
   "cell_type": "markdown",
   "id": "dee75610",
   "metadata": {},
   "source": [
    "### Making this Example Reproducible"
   ]
  },
  {
   "cell_type": "code",
   "execution_count": 34,
   "id": "bacbc452",
   "metadata": {
    "vscode": {
     "languageId": "r"
    }
   },
   "outputs": [],
   "source": [
    "set.seed(1)"
   ]
  },
  {
   "cell_type": "markdown",
   "id": "9d6ce3d3",
   "metadata": {},
   "source": [
    "### Using 70% of Dataset as Training Set, Remaining 30% as Testing Set"
   ]
  },
  {
   "cell_type": "code",
   "execution_count": 35,
   "id": "2d314dfd",
   "metadata": {
    "vscode": {
     "languageId": "r"
    }
   },
   "outputs": [],
   "source": [
    "sample <- sample(c(TRUE, FALSE), nrow(wine_wrangled), replace=TRUE, prob=c(0.7,0.3))\n",
    "train <- wine_wrangled[sample, ]\n",
    "test <- wine_wrangled[!sample, ]"
   ]
  },
  {
   "cell_type": "markdown",
   "id": "66a34ab3",
   "metadata": {},
   "source": [
    "## Fit LDA Model"
   ]
  },
  {
   "cell_type": "code",
   "execution_count": 36,
   "id": "c7cff664",
   "metadata": {
    "vscode": {
     "languageId": "r"
    }
   },
   "outputs": [],
   "source": [
    "model <- lda(qualityR~., data=train)"
   ]
  },
  {
   "cell_type": "markdown",
   "id": "1be7132b",
   "metadata": {},
   "source": [
    "### View Model Output"
   ]
  },
  {
   "cell_type": "code",
   "execution_count": 37,
   "id": "d451530e",
   "metadata": {
    "vscode": {
     "languageId": "r"
    }
   },
   "outputs": [
    {
     "data": {
      "text/plain": [
       "Call:\n",
       "lda(qualityR ~ ., data = train)\n",
       "\n",
       "Prior probabilities of groups:\n",
       "      0       1       2 \n",
       "0.03875 0.81375 0.14750 \n",
       "\n",
       "Group means:\n",
       "  volatile.acidity   chlorides      density          pH\n",
       "0       1.00446698 -0.10367361  0.005651296  0.53093655\n",
       "1       0.09140134  0.02043661  0.058451338  0.01519113\n",
       "2      -0.72265686 -0.21999832 -0.273547676 -0.19634775\n",
       "\n",
       "Coefficients of linear discriminants:\n",
       "                       LD1        LD2\n",
       "volatile.acidity 0.9106706  0.2070886\n",
       "chlorides        0.1985976 -0.7306090\n",
       "density          0.3157373 -0.5016395\n",
       "pH               0.2912990  0.1980449\n",
       "\n",
       "Proportion of trace:\n",
       "   LD1    LD2 \n",
       "0.9531 0.0469 "
      ]
     },
     "metadata": {},
     "output_type": "display_data"
    }
   ],
   "source": [
    "model"
   ]
  },
  {
   "cell_type": "markdown",
   "id": "770b60e8",
   "metadata": {},
   "source": [
    "Prior probabilities of group: The proportions of each 'quality' rating in the training set.\n",
    "\n",
    "Group means: The mean values for each predictor variable for each 'quality' rating.\n",
    "\n",
    "Coefficients of linear discriminants: Linear combination of predictor variables used to form the decision rule of the LDA model."
   ]
  },
  {
   "cell_type": "markdown",
   "id": "dad2ce07",
   "metadata": {},
   "source": [
    "### View Model Info"
   ]
  },
  {
   "cell_type": "code",
   "execution_count": 38,
   "id": "170811fd",
   "metadata": {
    "vscode": {
     "languageId": "r"
    }
   },
   "outputs": [
    {
     "data": {
      "text/html": [
       "<style>\n",
       ".dl-inline {width: auto; margin:0; padding: 0}\n",
       ".dl-inline>dt, .dl-inline>dd {float: none; width: auto; display: inline-block}\n",
       ".dl-inline>dt::after {content: \":\\0020\"; padding-right: .5ex}\n",
       ".dl-inline>dt:not(:first-of-type) {padding-left: .5ex}\n",
       "</style><dl class=dl-inline><dt>0</dt><dd>31</dd><dt>1</dt><dd>651</dd><dt>2</dt><dd>118</dd></dl>\n"
      ],
      "text/latex": [
       "\\begin{description*}\n",
       "\\item[0] 31\n",
       "\\item[1] 651\n",
       "\\item[2] 118\n",
       "\\end{description*}\n"
      ],
      "text/markdown": [
       "0\n",
       ":   311\n",
       ":   6512\n",
       ":   118\n",
       "\n"
      ],
      "text/plain": [
       "  0   1   2 \n",
       " 31 651 118 "
      ]
     },
     "metadata": {},
     "output_type": "display_data"
    },
    {
     "data": {
      "text/html": [
       "<style>\n",
       ".dl-inline {width: auto; margin:0; padding: 0}\n",
       ".dl-inline>dt, .dl-inline>dd {float: none; width: auto; display: inline-block}\n",
       ".dl-inline>dt::after {content: \":\\0020\"; padding-right: .5ex}\n",
       ".dl-inline>dt:not(:first-of-type) {padding-left: .5ex}\n",
       "</style><dl class=dl-inline><dt>0</dt><dd>0.03875</dd><dt>1</dt><dd>0.81375</dd><dt>2</dt><dd>0.1475</dd></dl>\n"
      ],
      "text/latex": [
       "\\begin{description*}\n",
       "\\item[0] 0.03875\n",
       "\\item[1] 0.81375\n",
       "\\item[2] 0.1475\n",
       "\\end{description*}\n"
      ],
      "text/markdown": [
       "0\n",
       ":   0.038751\n",
       ":   0.813752\n",
       ":   0.1475\n",
       "\n"
      ],
      "text/plain": [
       "      0       1       2 \n",
       "0.03875 0.81375 0.14750 "
      ]
     },
     "metadata": {},
     "output_type": "display_data"
    },
    {
     "data": {
      "text/html": [
       "<table class=\"dataframe\">\n",
       "<caption>A matrix: 4 × 2 of type dbl</caption>\n",
       "<thead>\n",
       "\t<tr><th></th><th scope=col>LD1</th><th scope=col>LD2</th></tr>\n",
       "</thead>\n",
       "<tbody>\n",
       "\t<tr><th scope=row>volatile.acidity</th><td>0.9106706</td><td> 0.2070886</td></tr>\n",
       "\t<tr><th scope=row>chlorides</th><td>0.1985976</td><td>-0.7306090</td></tr>\n",
       "\t<tr><th scope=row>density</th><td>0.3157373</td><td>-0.5016395</td></tr>\n",
       "\t<tr><th scope=row>pH</th><td>0.2912990</td><td> 0.1980449</td></tr>\n",
       "</tbody>\n",
       "</table>\n"
      ],
      "text/latex": [
       "A matrix: 4 × 2 of type dbl\n",
       "\\begin{tabular}{r|ll}\n",
       "  & LD1 & LD2\\\\\n",
       "\\hline\n",
       "\tvolatile.acidity & 0.9106706 &  0.2070886\\\\\n",
       "\tchlorides & 0.1985976 & -0.7306090\\\\\n",
       "\tdensity & 0.3157373 & -0.5016395\\\\\n",
       "\tpH & 0.2912990 &  0.1980449\\\\\n",
       "\\end{tabular}\n"
      ],
      "text/markdown": [
       "\n",
       "A matrix: 4 × 2 of type dbl\n",
       "\n",
       "| <!--/--> | LD1 | LD2 |\n",
       "|---|---|---|\n",
       "| volatile.acidity | 0.9106706 |  0.2070886 |\n",
       "| chlorides | 0.1985976 | -0.7306090 |\n",
       "| density | 0.3157373 | -0.5016395 |\n",
       "| pH | 0.2912990 |  0.1980449 |\n",
       "\n"
      ],
      "text/plain": [
       "                 LD1       LD2       \n",
       "volatile.acidity 0.9106706  0.2070886\n",
       "chlorides        0.1985976 -0.7306090\n",
       "density          0.3157373 -0.5016395\n",
       "pH               0.2912990  0.1980449"
      ]
     },
     "metadata": {},
     "output_type": "display_data"
    },
    {
     "data": {
      "text/html": [
       "<style>\n",
       ".list-inline {list-style: none; margin:0; padding: 0}\n",
       ".list-inline>li {display: inline-block}\n",
       ".list-inline>li:not(:last-child)::after {content: \"\\00b7\"; padding: 0 .5ex}\n",
       "</style>\n",
       "<ol class=list-inline><li>7.9504473035616</li><li>1.76402103328014</li></ol>\n"
      ],
      "text/latex": [
       "\\begin{enumerate*}\n",
       "\\item 7.9504473035616\n",
       "\\item 1.76402103328014\n",
       "\\end{enumerate*}\n"
      ],
      "text/markdown": [
       "1. 7.9504473035616\n",
       "2. 1.76402103328014\n",
       "\n",
       "\n"
      ],
      "text/plain": [
       "[1] 7.950447 1.764021"
      ]
     },
     "metadata": {},
     "output_type": "display_data"
    }
   ],
   "source": [
    "model$counts\n",
    "model$prior\n",
    "model$scaling\n",
    "model$svd"
   ]
  },
  {
   "cell_type": "markdown",
   "id": "bec2c9e4",
   "metadata": {},
   "source": [
    "### Store Model Means"
   ]
  },
  {
   "cell_type": "code",
   "execution_count": 39,
   "id": "0690e3a5",
   "metadata": {
    "vscode": {
     "languageId": "r"
    }
   },
   "outputs": [],
   "source": [
    "modelmeans <- model$means"
   ]
  },
  {
   "cell_type": "markdown",
   "id": "766d2c2e",
   "metadata": {},
   "source": [
    "### Convert Matrix to a Data Frame"
   ]
  },
  {
   "cell_type": "code",
   "execution_count": 41,
   "id": "aa562c97",
   "metadata": {
    "vscode": {
     "languageId": "r"
    }
   },
   "outputs": [
    {
     "name": "stdout",
     "output_type": "stream",
     "text": [
      "'data.frame':\t3 obs. of  4 variables:\n",
      " $ volatile.acidity: num  1.0045 0.0914 -0.7227\n",
      " $ chlorides       : num  -0.1037 0.0204 -0.22\n",
      " $ density         : num  0.00565 0.05845 -0.27355\n",
      " $ pH              : num  0.5309 0.0152 -0.1963\n"
     ]
    }
   ],
   "source": [
    "modelmeans <- as.data.frame(modelmeans)\n",
    "str(modelmeans)"
   ]
  },
  {
   "cell_type": "code",
   "execution_count": 43,
   "id": "5160dc85",
   "metadata": {
    "vscode": {
     "languageId": "r"
    }
   },
   "outputs": [
    {
     "ename": "ERROR",
     "evalue": "Error: Column name `qualityR` must not be duplicated.\n",
     "output_type": "error",
     "traceback": [
      "Error: Column name `qualityR` must not be duplicated.\nTraceback:\n",
      "1. tibble::rownames_to_column(modelmeans, \"qualityR\")",
      "2. repaired_names(c(unique(names2(df)), var), repair_hint = FALSE)",
      "3. subclass_name_repair_errors(name = name, details = details, repair_hint = repair_hint, \n .     vec_as_names(name, repair = .name_repair, quiet = quiet || \n .         !is_character(.name_repair)))",
      "4. withCallingHandlers(expr, vctrs_error_names_cannot_be_empty = function(cnd) {\n .     cnd <- error_column_names_cannot_be_empty(detect_empty_names(name), \n .         parent = cnd, repair_hint = repair_hint)\n .     cnd$body <- details\n .     cnd_signal(cnd)\n . }, vctrs_error_names_cannot_be_dot_dot = function(cnd) {\n .     cnd <- error_column_names_cannot_be_dot_dot(detect_dot_dot(name), \n .         parent = cnd, repair_hint = repair_hint)\n .     cnd_signal(cnd)\n . }, vctrs_error_names_must_be_unique = function(cnd) {\n .     cnd <- error_column_names_must_be_unique(detect_duplicates(name), \n .         parent = cnd, repair_hint = repair_hint)\n .     cnd_signal(cnd)\n . })",
      "5. vec_as_names(name, repair = .name_repair, quiet = quiet || !is_character(.name_repair))",
      "6. (function () \n . validate_unique(names = names, arg = arg))()",
      "7. validate_unique(names = names, arg = arg)",
      "8. stop_names_must_be_unique(names, arg)",
      "9. stop_names(class = \"vctrs_error_names_must_be_unique\", arg = arg, \n .     names = names)",
      "10. stop_vctrs(class = c(class, \"vctrs_error_names\"), ...)",
      "11. abort(message, class = c(class, \"vctrs_error\"), ...)",
      "12. signal_abort(cnd)",
      "13. signalCondition(cnd)",
      "14. (function (cnd) \n  . {\n  .     cnd <- error_column_names_must_be_unique(detect_duplicates(name), \n  .         parent = cnd, repair_hint = repair_hint)\n  .     cnd_signal(cnd)\n  . })(structure(list(message = \"\", trace = structure(list(calls = list(\n  .     IRkernel::main(), kernel$run(), IRkernel:::handle_shell(), \n  .     executor$execute(msg), base::tryCatch(evaluate(request$content$code, \n  .         envir = .GlobalEnv, output_handler = oh, stop_on_error = 1L), \n  .         interrupt = function(cond) {\n  .             log_debug(\"Interrupt during execution\")\n  .             interrupted <<- TRUE\n  .         }, error = .self$handle_error), base:::tryCatchList(expr, \n  .         classes, parentenv, handlers), base:::tryCatchOne(tryCatchList(expr, \n  .         names[-nh], parentenv, handlers[-nh]), names[nh], parentenv, \n  .         handlers[[nh]]), base:::doTryCatch(return(expr), name, \n  .         parentenv, handler), base:::tryCatchList(expr, names[-nh], \n  .         parentenv, handlers[-nh]), base:::tryCatchOne(expr, names, \n  .         parentenv, handlers[[1L]]), base:::doTryCatch(return(expr), \n  .         name, parentenv, handler), evaluate::evaluate(request$content$code, \n  .         envir = .GlobalEnv, output_handler = oh, stop_on_error = 1L), \n  .     evaluate:::evaluate_call(expr, parsed$src[[i]], envir = envir, \n  .         enclos = enclos, debug = debug, last = i == length(out), \n  .         use_try = stop_on_error != 2L, keep_warning = keep_warning, \n  .         keep_message = keep_message, output_handler = output_handler, \n  .         include_timing = include_timing), evaluate:::timing_fn(handle(ev <- withCallingHandlers(withVisible(eval(expr, \n  .         envir, enclos)), warning = wHandler, error = eHandler, \n  .         message = mHandler))), evaluate:::handle(ev <- withCallingHandlers(withVisible(eval(expr, \n  .         envir, enclos)), warning = wHandler, error = eHandler, \n  .         message = mHandler)), base::try(f, silent = TRUE), base::tryCatch(expr, \n  .         error = function(e) {\n  .             call <- conditionCall(e)\n  .             if (!is.null(call)) {\n  .                 if (identical(call[[1L]], quote(doTryCatch))) \n  .                   call <- sys.call(-4L)\n  .                 dcall <- deparse(call)[1L]\n  .                 prefix <- paste(\"Error in\", dcall, \": \")\n  .                 LONG <- 75L\n  .                 sm <- strsplit(conditionMessage(e), \"\\n\")[[1L]]\n  .                 w <- 14L + nchar(dcall, type = \"w\") + nchar(sm[1L], \n  .                   type = \"w\")\n  .                 if (is.na(w)) \n  .                   w <- 14L + nchar(dcall, type = \"b\") + nchar(sm[1L], \n  .                     type = \"b\")\n  .                 if (w > LONG) \n  .                   prefix <- paste0(prefix, \"\\n  \")\n  .             }\n  .             else prefix <- \"Error : \"\n  .             msg <- paste0(prefix, conditionMessage(e), \"\\n\")\n  .             .Internal(seterrmessage(msg[1L]))\n  .             if (!silent && isTRUE(getOption(\"show.error.messages\"))) {\n  .                 cat(msg, file = outFile)\n  .                 .Internal(printDeferredWarnings())\n  .             }\n  .             invisible(structure(msg, class = \"try-error\", condition = e))\n  .         }), base:::tryCatchList(expr, classes, parentenv, handlers), \n  .     base:::tryCatchOne(expr, names, parentenv, handlers[[1L]]), \n  .     base:::doTryCatch(return(expr), name, parentenv, handler), \n  .     base::withCallingHandlers(withVisible(eval(expr, envir, enclos)), \n  .         warning = wHandler, error = eHandler, message = mHandler), \n  .     base::withVisible(eval(expr, envir, enclos)), base::eval(expr, \n  .         envir, enclos), base::eval(expr, envir, enclos), tibble::rownames_to_column(modelmeans, \n  .         \"qualityR\"), tibble:::repaired_names(c(unique(names2(df)), \n  .         var), repair_hint = FALSE), tibble:::subclass_name_repair_errors(name = name, \n  .         details = details, repair_hint = repair_hint, vec_as_names(name, \n  .             repair = .name_repair, quiet = quiet || !is_character(.name_repair))), \n  .     base::withCallingHandlers(expr, vctrs_error_names_cannot_be_empty = function(cnd) {\n  .         cnd <- error_column_names_cannot_be_empty(detect_empty_names(name), \n  .             parent = cnd, repair_hint = repair_hint)\n  .         cnd$body <- details\n  .         cnd_signal(cnd)\n  .     }, vctrs_error_names_cannot_be_dot_dot = function(cnd) {\n  .         cnd <- error_column_names_cannot_be_dot_dot(detect_dot_dot(name), \n  .             parent = cnd, repair_hint = repair_hint)\n  .         cnd_signal(cnd)\n  .     }, vctrs_error_names_must_be_unique = function(cnd) {\n  .         cnd <- error_column_names_must_be_unique(detect_duplicates(name), \n  .             parent = cnd, repair_hint = repair_hint)\n  .         cnd_signal(cnd)\n  .     }), vctrs::vec_as_names(name, repair = .name_repair, quiet = quiet || \n  .         !is_character(.name_repair)), (function () \n  .     validate_unique(names = names, arg = arg))(), vctrs:::validate_unique(names = names, \n  .         arg = arg), vctrs:::stop_names_must_be_unique(names, \n  .         arg), vctrs:::stop_names(class = \"vctrs_error_names_must_be_unique\", \n  .         arg = arg, names = names), vctrs:::stop_vctrs(class = c(class, \n  .         \"vctrs_error_names\"), ...)), parents = c(0L, 1L, 2L, \n  . 3L, 4L, 5L, 6L, 7L, 6L, 9L, 10L, 4L, 12L, 13L, 13L, 15L, 16L, \n  . 17L, 18L, 19L, 13L, 13L, 13L, 23L, 0L, 25L, 26L, 27L, 26L, 29L, \n  . 30L, 31L, 32L, 33L), indices = 1:34), class = \"rlang_trace\", version = 1L), \n  .     parent = NULL, arg = \"\", names = c(\"qualityR\", \"volatile.acidity\", \n  .     \"chlorides\", \"density\", \"pH\", \"qualityR\")), class = c(\"vctrs_error_names_must_be_unique\", \n  . \"vctrs_error_names\", \"vctrs_error\", \"rlang_error\", \"error\", \"condition\"\n  . )))",
      "15. cnd_signal(cnd)",
      "16. signal_abort(cnd)"
     ]
    }
   ],
   "source": [
    "modelmeans <- tibble::rownames_to_column(modelmeans, \"qualityR\")"
   ]
  },
  {
   "cell_type": "markdown",
   "id": "56435a31",
   "metadata": {},
   "source": [
    "### Convert Row Labels to Columns"
   ]
  },
  {
   "cell_type": "markdown",
   "id": "07584ba8",
   "metadata": {},
   "source": [
    "## Plot Means"
   ]
  },
  {
   "cell_type": "markdown",
   "id": "637b3645",
   "metadata": {},
   "source": [
    "### Melt Data Frame"
   ]
  },
  {
   "cell_type": "code",
   "execution_count": 44,
   "id": "6fbce81d",
   "metadata": {
    "vscode": {
     "languageId": "r"
    }
   },
   "outputs": [],
   "source": [
    "mmodelmeans <- melt(modelmeans, id.vars=\"qualityR\")"
   ]
  },
  {
   "cell_type": "markdown",
   "id": "5486a915",
   "metadata": {},
   "source": [
    "### All Variables on the Same Plot"
   ]
  },
  {
   "cell_type": "code",
   "execution_count": 45,
   "id": "4faef778",
   "metadata": {
    "vscode": {
     "languageId": "r"
    }
   },
   "outputs": [
    {
     "name": "stderr",
     "output_type": "stream",
     "text": [
      "`geom_smooth()` using method = 'loess' and formula 'y ~ x'\n",
      "\n",
      "Warning message in simpleLoess(y, x, w, span, degree = degree, parametric = parametric, :\n",
      "“span too small.   fewer data values than degrees of freedom.”\n",
      "Warning message in simpleLoess(y, x, w, span, degree = degree, parametric = parametric, :\n",
      "“pseudoinverse used at 0.99”\n",
      "Warning message in simpleLoess(y, x, w, span, degree = degree, parametric = parametric, :\n",
      "“neighborhood radius 1.01”\n",
      "Warning message in simpleLoess(y, x, w, span, degree = degree, parametric = parametric, :\n",
      "“reciprocal condition number  0”\n",
      "Warning message in simpleLoess(y, x, w, span, degree = degree, parametric = parametric, :\n",
      "“There are other near singularities as well. 1.0201”\n",
      "Warning message in predLoess(object$y, object$x, newx = if (is.null(newdata)) object$x else if (is.data.frame(newdata)) as.matrix(model.frame(delete.response(terms(object)), :\n",
      "“span too small.   fewer data values than degrees of freedom.”\n",
      "Warning message in predLoess(object$y, object$x, newx = if (is.null(newdata)) object$x else if (is.data.frame(newdata)) as.matrix(model.frame(delete.response(terms(object)), :\n",
      "“pseudoinverse used at 0.99”\n",
      "Warning message in predLoess(object$y, object$x, newx = if (is.null(newdata)) object$x else if (is.data.frame(newdata)) as.matrix(model.frame(delete.response(terms(object)), :\n",
      "“neighborhood radius 1.01”\n",
      "Warning message in predLoess(object$y, object$x, newx = if (is.null(newdata)) object$x else if (is.data.frame(newdata)) as.matrix(model.frame(delete.response(terms(object)), :\n",
      "“reciprocal condition number  0”\n",
      "Warning message in predLoess(object$y, object$x, newx = if (is.null(newdata)) object$x else if (is.data.frame(newdata)) as.matrix(model.frame(delete.response(terms(object)), :\n",
      "“There are other near singularities as well. 1.0201”\n",
      "Warning message in simpleLoess(y, x, w, span, degree = degree, parametric = parametric, :\n",
      "“span too small.   fewer data values than degrees of freedom.”\n",
      "Warning message in simpleLoess(y, x, w, span, degree = degree, parametric = parametric, :\n",
      "“pseudoinverse used at 0.99”\n",
      "Warning message in simpleLoess(y, x, w, span, degree = degree, parametric = parametric, :\n",
      "“neighborhood radius 1.01”\n",
      "Warning message in simpleLoess(y, x, w, span, degree = degree, parametric = parametric, :\n",
      "“reciprocal condition number  0”\n",
      "Warning message in simpleLoess(y, x, w, span, degree = degree, parametric = parametric, :\n",
      "“There are other near singularities as well. 1.0201”\n",
      "Warning message in predLoess(object$y, object$x, newx = if (is.null(newdata)) object$x else if (is.data.frame(newdata)) as.matrix(model.frame(delete.response(terms(object)), :\n",
      "“span too small.   fewer data values than degrees of freedom.”\n",
      "Warning message in predLoess(object$y, object$x, newx = if (is.null(newdata)) object$x else if (is.data.frame(newdata)) as.matrix(model.frame(delete.response(terms(object)), :\n",
      "“pseudoinverse used at 0.99”\n",
      "Warning message in predLoess(object$y, object$x, newx = if (is.null(newdata)) object$x else if (is.data.frame(newdata)) as.matrix(model.frame(delete.response(terms(object)), :\n",
      "“neighborhood radius 1.01”\n",
      "Warning message in predLoess(object$y, object$x, newx = if (is.null(newdata)) object$x else if (is.data.frame(newdata)) as.matrix(model.frame(delete.response(terms(object)), :\n",
      "“reciprocal condition number  0”\n",
      "Warning message in predLoess(object$y, object$x, newx = if (is.null(newdata)) object$x else if (is.data.frame(newdata)) as.matrix(model.frame(delete.response(terms(object)), :\n",
      "“There are other near singularities as well. 1.0201”\n",
      "Warning message in simpleLoess(y, x, w, span, degree = degree, parametric = parametric, :\n",
      "“span too small.   fewer data values than degrees of freedom.”\n",
      "Warning message in simpleLoess(y, x, w, span, degree = degree, parametric = parametric, :\n",
      "“pseudoinverse used at 0.99”\n",
      "Warning message in simpleLoess(y, x, w, span, degree = degree, parametric = parametric, :\n",
      "“neighborhood radius 1.01”\n",
      "Warning message in simpleLoess(y, x, w, span, degree = degree, parametric = parametric, :\n",
      "“reciprocal condition number  0”\n",
      "Warning message in simpleLoess(y, x, w, span, degree = degree, parametric = parametric, :\n",
      "“There are other near singularities as well. 1.0201”\n",
      "Warning message in predLoess(object$y, object$x, newx = if (is.null(newdata)) object$x else if (is.data.frame(newdata)) as.matrix(model.frame(delete.response(terms(object)), :\n",
      "“span too small.   fewer data values than degrees of freedom.”\n",
      "Warning message in predLoess(object$y, object$x, newx = if (is.null(newdata)) object$x else if (is.data.frame(newdata)) as.matrix(model.frame(delete.response(terms(object)), :\n",
      "“pseudoinverse used at 0.99”\n",
      "Warning message in predLoess(object$y, object$x, newx = if (is.null(newdata)) object$x else if (is.data.frame(newdata)) as.matrix(model.frame(delete.response(terms(object)), :\n",
      "“neighborhood radius 1.01”\n",
      "Warning message in predLoess(object$y, object$x, newx = if (is.null(newdata)) object$x else if (is.data.frame(newdata)) as.matrix(model.frame(delete.response(terms(object)), :\n",
      "“reciprocal condition number  0”\n",
      "Warning message in predLoess(object$y, object$x, newx = if (is.null(newdata)) object$x else if (is.data.frame(newdata)) as.matrix(model.frame(delete.response(terms(object)), :\n",
      "“There are other near singularities as well. 1.0201”\n",
      "Warning message in simpleLoess(y, x, w, span, degree = degree, parametric = parametric, :\n",
      "“span too small.   fewer data values than degrees of freedom.”\n",
      "Warning message in simpleLoess(y, x, w, span, degree = degree, parametric = parametric, :\n",
      "“pseudoinverse used at 0.99”\n",
      "Warning message in simpleLoess(y, x, w, span, degree = degree, parametric = parametric, :\n",
      "“neighborhood radius 1.01”\n",
      "Warning message in simpleLoess(y, x, w, span, degree = degree, parametric = parametric, :\n",
      "“reciprocal condition number  0”\n",
      "Warning message in simpleLoess(y, x, w, span, degree = degree, parametric = parametric, :\n",
      "“There are other near singularities as well. 1.0201”\n",
      "Warning message in predLoess(object$y, object$x, newx = if (is.null(newdata)) object$x else if (is.data.frame(newdata)) as.matrix(model.frame(delete.response(terms(object)), :\n",
      "“span too small.   fewer data values than degrees of freedom.”\n",
      "Warning message in predLoess(object$y, object$x, newx = if (is.null(newdata)) object$x else if (is.data.frame(newdata)) as.matrix(model.frame(delete.response(terms(object)), :\n",
      "“pseudoinverse used at 0.99”\n",
      "Warning message in predLoess(object$y, object$x, newx = if (is.null(newdata)) object$x else if (is.data.frame(newdata)) as.matrix(model.frame(delete.response(terms(object)), :\n",
      "“neighborhood radius 1.01”\n",
      "Warning message in predLoess(object$y, object$x, newx = if (is.null(newdata)) object$x else if (is.data.frame(newdata)) as.matrix(model.frame(delete.response(terms(object)), :\n",
      "“reciprocal condition number  0”\n",
      "Warning message in predLoess(object$y, object$x, newx = if (is.null(newdata)) object$x else if (is.data.frame(newdata)) as.matrix(model.frame(delete.response(terms(object)), :\n",
      "“There are other near singularities as well. 1.0201”\n",
      "Warning message in max(ids, na.rm = TRUE):\n",
      "“no non-missing arguments to max; returning -Inf”\n",
      "Warning message in max(ids, na.rm = TRUE):\n",
      "“no non-missing arguments to max; returning -Inf”\n",
      "Warning message in max(ids, na.rm = TRUE):\n",
      "“no non-missing arguments to max; returning -Inf”\n",
      "Warning message in max(ids, na.rm = TRUE):\n",
      "“no non-missing arguments to max; returning -Inf”\n"
     ]
    },
    {
     "data": {
      "image/png": "[encoded data removed]",
      "text/plain": [
       "plot without title"
      ]
     },
     "metadata": {
      "image/png": {
       "height": 420,
       "width": 420
      }
     },
     "output_type": "display_data"
    }
   ],
   "source": [
    "ggplot(mmodelmeans, aes(qualityR, value, group=variable, col=variable)) + ggtitle(\"All Variables vs. Quality\")+ geom_line() + geom_point() + stat_smooth()"
   ]
  },
  {
   "cell_type": "markdown",
   "id": "9ba277de",
   "metadata": {},
   "source": [
    "### Variables on Separate Plots"
   ]
  },
  {
   "cell_type": "code",
   "execution_count": null,
   "id": "fd698862",
   "metadata": {
    "scrolled": true,
    "vscode": {
     "languageId": "r"
    }
   },
   "outputs": [],
   "source": [
    "ggplot(mmodelmeans, aes(qualityR, value, group=variable, col=variable)) + ggtitle (\"Separately Plotted Variables vs. Quality\")+\n",
    "  geom_point() + \n",
    "  stat_smooth() +\n",
    "  facet_wrap(~variable)"
   ]
  },
  {
   "cell_type": "markdown",
   "id": "5d96f38f",
   "metadata": {},
   "source": [
    "## LDA model: Make Predictions on Test Data"
   ]
  },
  {
   "cell_type": "code",
   "execution_count": null,
   "id": "450acceb",
   "metadata": {
    "vscode": {
     "languageId": "r"
    }
   },
   "outputs": [],
   "source": [
    "predicted <- predict(model, test)\n",
    "names(predicted)"
   ]
  },
  {
   "cell_type": "markdown",
   "id": "fe4f00a5",
   "metadata": {},
   "source": [
    "### View Predicted Class (First Six Observations)"
   ]
  },
  {
   "cell_type": "code",
   "execution_count": null,
   "id": "03445d78",
   "metadata": {
    "scrolled": true,
    "vscode": {
     "languageId": "r"
    }
   },
   "outputs": [],
   "source": [
    "head(predicted$class)"
   ]
  },
  {
   "cell_type": "markdown",
   "id": "1e68a820",
   "metadata": {},
   "source": [
    "### View Predicted Posterior Probability (First Six Observations)¶"
   ]
  },
  {
   "cell_type": "code",
   "execution_count": null,
   "id": "17760dc8",
   "metadata": {
    "scrolled": true,
    "vscode": {
     "languageId": "r"
    }
   },
   "outputs": [],
   "source": [
    "head(predicted$posterior)"
   ]
  },
  {
   "cell_type": "markdown",
   "id": "54ebbd60",
   "metadata": {},
   "source": [
    "### View Linear Discriminants (First Six Observations)¶"
   ]
  },
  {
   "cell_type": "code",
   "execution_count": null,
   "id": "53462c11",
   "metadata": {
    "vscode": {
     "languageId": "r"
    }
   },
   "outputs": [],
   "source": [
    "head(predicted$x)"
   ]
  },
  {
   "cell_type": "markdown",
   "id": "95ec3e80",
   "metadata": {},
   "source": [
    "## Accuracy of the Model"
   ]
  },
  {
   "cell_type": "code",
   "execution_count": null,
   "id": "6facb1a6",
   "metadata": {
    "vscode": {
     "languageId": "r"
    }
   },
   "outputs": [],
   "source": [
    "mean(predicted$class==test$quality)"
   ]
  },
  {
   "cell_type": "markdown",
   "id": "e61fa3c7",
   "metadata": {},
   "source": [
    "## Visualize the Results"
   ]
  },
  {
   "cell_type": "markdown",
   "id": "c0d7095e",
   "metadata": {},
   "source": [
    "### Rebuild Model with 'Quality' as a Factor"
   ]
  },
  {
   "cell_type": "markdown",
   "id": "5cf49314",
   "metadata": {},
   "source": [
    "### Define Data to Plot"
   ]
  },
  {
   "cell_type": "code",
   "execution_count": null,
   "id": "29124e96",
   "metadata": {
    "vscode": {
     "languageId": "r"
    }
   },
   "outputs": [],
   "source": [
    "set.seed(1)"
   ]
  },
  {
   "cell_type": "code",
   "execution_count": null,
   "id": "6433ae0c",
   "metadata": {
    "vscode": {
     "languageId": "r"
    }
   },
   "outputs": [],
   "source": [
    "sample <- sample(c(TRUE, FALSE), nrow(wine_wrangled), replace=TRUE, prob=c(0.7,0.3))\n",
    "train <- wine_wrangled[sample, ]\n",
    "test <- wine_wrangled[!sample, ]"
   ]
  },
  {
   "cell_type": "code",
   "execution_count": null,
   "id": "3e3b8485",
   "metadata": {
    "vscode": {
     "languageId": "r"
    }
   },
   "outputs": [],
   "source": [
    "LDAmodel <- lda(qualityR~., data=train)"
   ]
  },
  {
   "cell_type": "code",
   "execution_count": null,
   "id": "f933d1cd",
   "metadata": {
    "vscode": {
     "languageId": "r"
    }
   },
   "outputs": [],
   "source": [
    "lda_plot <- cbind(train, predict(model)$x)"
   ]
  },
  {
   "cell_type": "markdown",
   "id": "958ed7b6",
   "metadata": {},
   "source": [
    "### Create Plot"
   ]
  },
  {
   "cell_type": "code",
   "execution_count": null,
   "id": "69473bc0",
   "metadata": {
    "vscode": {
     "languageId": "r"
    }
   },
   "outputs": [],
   "source": [
    "ggplot(lda_plot, aes(LD1, LD2)) +\n",
    "  geom_point(aes(color = qualityR))"
   ]
  }
 ],
 "metadata": {
  "kernelspec": {
   "display_name": "R",
   "language": "R",
   "name": "ir"
  },
  "language_info": {
   "codemirror_mode": "r",
   "file_extension": ".r",
   "mimetype": "text/x-r-source",
   "name": "R",
   "pygments_lexer": "r",
   "version": "4.1.1"
  }
 },
 "nbformat": 4,
 "nbformat_minor": 5
}
