{
 "cells": [
  {
   "cell_type": "markdown",
   "id": "5b4f2489",
   "metadata": {},
   "source": [
    "# Linear Discriminant Analysis: Group Review\n",
    "# Quality: RECODED, Outliers: Original"
   ]
  },
  {
   "cell_type": "markdown",
   "id": "3312ca83",
   "metadata": {},
   "source": [
    "## Set Working Directory"
   ]
  },
  {
   "cell_type": "markdown",
   "id": "dafd0346",
   "metadata": {},
   "source": []
  },
  {
   "cell_type": "markdown",
   "id": "cd316252",
   "metadata": {},
   "source": [
    "## Import Packages"
   ]
  },
  {
   "cell_type": "code",
   "execution_count": 1,
   "id": "11ae9215",
   "metadata": {
    "vscode": {
     "languageId": "r"
    }
   },
   "outputs": [
    {
     "name": "stderr",
     "output_type": "stream",
     "text": [
      "corrplot 0.92 loaded\n",
      "\n",
      "Warning message:\n",
      "“package ‘tibble’ was built under R version 4.1.2”\n",
      "\n",
      "Attaching package: ‘reshape2’\n",
      "\n",
      "\n",
      "The following object is masked from ‘package:tidyr’:\n",
      "\n",
      "    smiths\n",
      "\n",
      "\n"
     ]
    }
   ],
   "source": [
    "library(\"tidyr\")\n",
    "library(\"corrplot\")\n",
    "library(\"MASS\")\n",
    "library(\"ggplot2\")\n",
    "library(\"tibble\")\n",
    "library(\"reshape2\")"
   ]
  },
  {
   "cell_type": "markdown",
   "id": "888f30ba",
   "metadata": {},
   "source": [
    "## Load in Data"
   ]
  },
  {
   "cell_type": "code",
   "execution_count": 45,
   "id": "dccbd2d8",
   "metadata": {
    "vscode": {
     "languageId": "r"
    }
   },
   "outputs": [
    {
     "data": {
      "text/html": [
       "<table class=\"dataframe\">\n",
       "<caption>A data.frame: 6 × 13</caption>\n",
       "<thead>\n",
       "\t<tr><th></th><th scope=col>fixed.acidity</th><th scope=col>volatile.acidity</th><th scope=col>citric.acid</th><th scope=col>residual.sugar</th><th scope=col>chlorides</th><th scope=col>free.sulfur.dioxide</th><th scope=col>total.sulfur.dioxide</th><th scope=col>density</th><th scope=col>pH</th><th scope=col>sulphates</th><th scope=col>alcohol</th><th scope=col>quality</th><th scope=col>Id</th></tr>\n",
       "\t<tr><th></th><th scope=col>&lt;dbl&gt;</th><th scope=col>&lt;dbl&gt;</th><th scope=col>&lt;dbl&gt;</th><th scope=col>&lt;dbl&gt;</th><th scope=col>&lt;dbl&gt;</th><th scope=col>&lt;dbl&gt;</th><th scope=col>&lt;dbl&gt;</th><th scope=col>&lt;dbl&gt;</th><th scope=col>&lt;dbl&gt;</th><th scope=col>&lt;dbl&gt;</th><th scope=col>&lt;dbl&gt;</th><th scope=col>&lt;int&gt;</th><th scope=col>&lt;int&gt;</th></tr>\n",
       "</thead>\n",
       "<tbody>\n",
       "\t<tr><th scope=row>1</th><td> 7.4</td><td>0.70</td><td>0.00</td><td>1.9</td><td>0.076</td><td>11</td><td>34</td><td>0.9978</td><td>3.51</td><td>0.56</td><td>9.4</td><td>5</td><td>0</td></tr>\n",
       "\t<tr><th scope=row>2</th><td> 7.8</td><td>0.88</td><td>0.00</td><td>2.6</td><td>0.098</td><td>25</td><td>67</td><td>0.9968</td><td>3.20</td><td>0.68</td><td>9.8</td><td>5</td><td>1</td></tr>\n",
       "\t<tr><th scope=row>3</th><td> 7.8</td><td>0.76</td><td>0.04</td><td>2.3</td><td>0.092</td><td>15</td><td>54</td><td>0.9970</td><td>3.26</td><td>0.65</td><td>9.8</td><td>5</td><td>2</td></tr>\n",
       "\t<tr><th scope=row>4</th><td>11.2</td><td>0.28</td><td>0.56</td><td>1.9</td><td>0.075</td><td>17</td><td>60</td><td>0.9980</td><td>3.16</td><td>0.58</td><td>9.8</td><td>6</td><td>3</td></tr>\n",
       "\t<tr><th scope=row>5</th><td> 7.4</td><td>0.70</td><td>0.00</td><td>1.9</td><td>0.076</td><td>11</td><td>34</td><td>0.9978</td><td>3.51</td><td>0.56</td><td>9.4</td><td>5</td><td>4</td></tr>\n",
       "\t<tr><th scope=row>6</th><td> 7.4</td><td>0.66</td><td>0.00</td><td>1.8</td><td>0.075</td><td>13</td><td>40</td><td>0.9978</td><td>3.51</td><td>0.56</td><td>9.4</td><td>5</td><td>5</td></tr>\n",
       "</tbody>\n",
       "</table>\n"
      ],
      "text/latex": [
       "A data.frame: 6 × 13\n",
       "\\begin{tabular}{r|lllllllllllll}\n",
       "  & fixed.acidity & volatile.acidity & citric.acid & residual.sugar & chlorides & free.sulfur.dioxide & total.sulfur.dioxide & density & pH & sulphates & alcohol & quality & Id\\\\\n",
       "  & <dbl> & <dbl> & <dbl> & <dbl> & <dbl> & <dbl> & <dbl> & <dbl> & <dbl> & <dbl> & <dbl> & <int> & <int>\\\\\n",
       "\\hline\n",
       "\t1 &  7.4 & 0.70 & 0.00 & 1.9 & 0.076 & 11 & 34 & 0.9978 & 3.51 & 0.56 & 9.4 & 5 & 0\\\\\n",
       "\t2 &  7.8 & 0.88 & 0.00 & 2.6 & 0.098 & 25 & 67 & 0.9968 & 3.20 & 0.68 & 9.8 & 5 & 1\\\\\n",
       "\t3 &  7.8 & 0.76 & 0.04 & 2.3 & 0.092 & 15 & 54 & 0.9970 & 3.26 & 0.65 & 9.8 & 5 & 2\\\\\n",
       "\t4 & 11.2 & 0.28 & 0.56 & 1.9 & 0.075 & 17 & 60 & 0.9980 & 3.16 & 0.58 & 9.8 & 6 & 3\\\\\n",
       "\t5 &  7.4 & 0.70 & 0.00 & 1.9 & 0.076 & 11 & 34 & 0.9978 & 3.51 & 0.56 & 9.4 & 5 & 4\\\\\n",
       "\t6 &  7.4 & 0.66 & 0.00 & 1.8 & 0.075 & 13 & 40 & 0.9978 & 3.51 & 0.56 & 9.4 & 5 & 5\\\\\n",
       "\\end{tabular}\n"
      ],
      "text/markdown": [
       "\n",
       "A data.frame: 6 × 13\n",
       "\n",
       "| <!--/--> | fixed.acidity &lt;dbl&gt; | volatile.acidity &lt;dbl&gt; | citric.acid &lt;dbl&gt; | residual.sugar &lt;dbl&gt; | chlorides &lt;dbl&gt; | free.sulfur.dioxide &lt;dbl&gt; | total.sulfur.dioxide &lt;dbl&gt; | density &lt;dbl&gt; | pH &lt;dbl&gt; | sulphates &lt;dbl&gt; | alcohol &lt;dbl&gt; | quality &lt;int&gt; | Id &lt;int&gt; |\n",
       "|---|---|---|---|---|---|---|---|---|---|---|---|---|---|\n",
       "| 1 |  7.4 | 0.70 | 0.00 | 1.9 | 0.076 | 11 | 34 | 0.9978 | 3.51 | 0.56 | 9.4 | 5 | 0 |\n",
       "| 2 |  7.8 | 0.88 | 0.00 | 2.6 | 0.098 | 25 | 67 | 0.9968 | 3.20 | 0.68 | 9.8 | 5 | 1 |\n",
       "| 3 |  7.8 | 0.76 | 0.04 | 2.3 | 0.092 | 15 | 54 | 0.9970 | 3.26 | 0.65 | 9.8 | 5 | 2 |\n",
       "| 4 | 11.2 | 0.28 | 0.56 | 1.9 | 0.075 | 17 | 60 | 0.9980 | 3.16 | 0.58 | 9.8 | 6 | 3 |\n",
       "| 5 |  7.4 | 0.70 | 0.00 | 1.9 | 0.076 | 11 | 34 | 0.9978 | 3.51 | 0.56 | 9.4 | 5 | 4 |\n",
       "| 6 |  7.4 | 0.66 | 0.00 | 1.8 | 0.075 | 13 | 40 | 0.9978 | 3.51 | 0.56 | 9.4 | 5 | 5 |\n",
       "\n"
      ],
      "text/plain": [
       "  fixed.acidity volatile.acidity citric.acid residual.sugar chlorides\n",
       "1  7.4          0.70             0.00        1.9            0.076    \n",
       "2  7.8          0.88             0.00        2.6            0.098    \n",
       "3  7.8          0.76             0.04        2.3            0.092    \n",
       "4 11.2          0.28             0.56        1.9            0.075    \n",
       "5  7.4          0.70             0.00        1.9            0.076    \n",
       "6  7.4          0.66             0.00        1.8            0.075    \n",
       "  free.sulfur.dioxide total.sulfur.dioxide density pH   sulphates alcohol\n",
       "1 11                  34                   0.9978  3.51 0.56      9.4    \n",
       "2 25                  67                   0.9968  3.20 0.68      9.8    \n",
       "3 15                  54                   0.9970  3.26 0.65      9.8    \n",
       "4 17                  60                   0.9980  3.16 0.58      9.8    \n",
       "5 11                  34                   0.9978  3.51 0.56      9.4    \n",
       "6 13                  40                   0.9978  3.51 0.56      9.4    \n",
       "  quality Id\n",
       "1 5       0 \n",
       "2 5       1 \n",
       "3 5       2 \n",
       "4 6       3 \n",
       "5 5       4 \n",
       "6 5       5 "
      ]
     },
     "metadata": {},
     "output_type": "display_data"
    }
   ],
   "source": [
    "wine <- read.csv(\"WineQT.csv\")\n",
    "head(wine)"
   ]
  },
  {
   "cell_type": "markdown",
   "id": "cd090901",
   "metadata": {},
   "source": [
    "### View Structure of the Dataset"
   ]
  },
  {
   "cell_type": "code",
   "execution_count": 46,
   "id": "9fed2359",
   "metadata": {
    "scrolled": true,
    "vscode": {
     "languageId": "r"
    }
   },
   "outputs": [
    {
     "name": "stdout",
     "output_type": "stream",
     "text": [
      "'data.frame':\t1143 obs. of  13 variables:\n",
      " $ fixed.acidity       : num  7.4 7.8 7.8 11.2 7.4 7.4 7.9 7.3 7.8 6.7 ...\n",
      " $ volatile.acidity    : num  0.7 0.88 0.76 0.28 0.7 0.66 0.6 0.65 0.58 0.58 ...\n",
      " $ citric.acid         : num  0 0 0.04 0.56 0 0 0.06 0 0.02 0.08 ...\n",
      " $ residual.sugar      : num  1.9 2.6 2.3 1.9 1.9 1.8 1.6 1.2 2 1.8 ...\n",
      " $ chlorides           : num  0.076 0.098 0.092 0.075 0.076 0.075 0.069 0.065 0.073 0.097 ...\n",
      " $ free.sulfur.dioxide : num  11 25 15 17 11 13 15 15 9 15 ...\n",
      " $ total.sulfur.dioxide: num  34 67 54 60 34 40 59 21 18 65 ...\n",
      " $ density             : num  0.998 0.997 0.997 0.998 0.998 ...\n",
      " $ pH                  : num  3.51 3.2 3.26 3.16 3.51 3.51 3.3 3.39 3.36 3.28 ...\n",
      " $ sulphates           : num  0.56 0.68 0.65 0.58 0.56 0.56 0.46 0.47 0.57 0.54 ...\n",
      " $ alcohol             : num  9.4 9.8 9.8 9.8 9.4 9.4 9.4 10 9.5 9.2 ...\n",
      " $ quality             : int  5 5 5 6 5 5 5 7 7 5 ...\n",
      " $ Id                  : int  0 1 2 3 4 5 6 7 8 10 ...\n"
     ]
    }
   ],
   "source": [
    "str(wine)"
   ]
  },
  {
   "cell_type": "markdown",
   "id": "ff51137a",
   "metadata": {},
   "source": [
    "## Data Wrangling"
   ]
  },
  {
   "cell_type": "markdown",
   "id": "db56c57c",
   "metadata": {},
   "source": [
    "### Recode 'Quality' into Three Groups"
   ]
  },
  {
   "cell_type": "code",
   "execution_count": 47,
   "id": "69071187",
   "metadata": {
    "vscode": {
     "languageId": "r"
    }
   },
   "outputs": [],
   "source": [
    "wine$qualityR <- NA\n",
    "wine$qualityR [wine$quality==3] <- 0\n",
    "wine$qualityR [wine$quality==4] <- 0\n",
    "wine$qualityR [wine$quality==5] <- 1\n",
    "wine$qualityR [wine$quality==6] <- 1\n",
    "wine$qualityR [wine$quality==7] <- 2\n",
    "wine$qualityR [wine$quality==8] <- 2"
   ]
  },
  {
   "cell_type": "markdown",
   "id": "417778e7",
   "metadata": {},
   "source": [
    "### Remove Unnecessary Columns"
   ]
  },
  {
   "cell_type": "code",
   "execution_count": 48,
   "id": "b8e5033a",
   "metadata": {
    "scrolled": false,
    "vscode": {
     "languageId": "r"
    }
   },
   "outputs": [
    {
     "data": {
      "text/html": [
       "<table class=\"dataframe\">\n",
       "<caption>A data.frame: 6 × 5</caption>\n",
       "<thead>\n",
       "\t<tr><th></th><th scope=col>volatile.acidity</th><th scope=col>chlorides</th><th scope=col>density</th><th scope=col>pH</th><th scope=col>qualityR</th></tr>\n",
       "\t<tr><th></th><th scope=col>&lt;dbl&gt;</th><th scope=col>&lt;dbl&gt;</th><th scope=col>&lt;dbl&gt;</th><th scope=col>&lt;dbl&gt;</th><th scope=col>&lt;dbl&gt;</th></tr>\n",
       "</thead>\n",
       "<tbody>\n",
       "\t<tr><th scope=row>1</th><td>0.70</td><td>0.076</td><td>0.9978</td><td>3.51</td><td>1</td></tr>\n",
       "\t<tr><th scope=row>2</th><td>0.88</td><td>0.098</td><td>0.9968</td><td>3.20</td><td>1</td></tr>\n",
       "\t<tr><th scope=row>3</th><td>0.76</td><td>0.092</td><td>0.9970</td><td>3.26</td><td>1</td></tr>\n",
       "\t<tr><th scope=row>4</th><td>0.28</td><td>0.075</td><td>0.9980</td><td>3.16</td><td>1</td></tr>\n",
       "\t<tr><th scope=row>5</th><td>0.70</td><td>0.076</td><td>0.9978</td><td>3.51</td><td>1</td></tr>\n",
       "\t<tr><th scope=row>6</th><td>0.66</td><td>0.075</td><td>0.9978</td><td>3.51</td><td>1</td></tr>\n",
       "</tbody>\n",
       "</table>\n"
      ],
      "text/latex": [
       "A data.frame: 6 × 5\n",
       "\\begin{tabular}{r|lllll}\n",
       "  & volatile.acidity & chlorides & density & pH & qualityR\\\\\n",
       "  & <dbl> & <dbl> & <dbl> & <dbl> & <dbl>\\\\\n",
       "\\hline\n",
       "\t1 & 0.70 & 0.076 & 0.9978 & 3.51 & 1\\\\\n",
       "\t2 & 0.88 & 0.098 & 0.9968 & 3.20 & 1\\\\\n",
       "\t3 & 0.76 & 0.092 & 0.9970 & 3.26 & 1\\\\\n",
       "\t4 & 0.28 & 0.075 & 0.9980 & 3.16 & 1\\\\\n",
       "\t5 & 0.70 & 0.076 & 0.9978 & 3.51 & 1\\\\\n",
       "\t6 & 0.66 & 0.075 & 0.9978 & 3.51 & 1\\\\\n",
       "\\end{tabular}\n"
      ],
      "text/markdown": [
       "\n",
       "A data.frame: 6 × 5\n",
       "\n",
       "| <!--/--> | volatile.acidity &lt;dbl&gt; | chlorides &lt;dbl&gt; | density &lt;dbl&gt; | pH &lt;dbl&gt; | qualityR &lt;dbl&gt; |\n",
       "|---|---|---|---|---|---|\n",
       "| 1 | 0.70 | 0.076 | 0.9978 | 3.51 | 1 |\n",
       "| 2 | 0.88 | 0.098 | 0.9968 | 3.20 | 1 |\n",
       "| 3 | 0.76 | 0.092 | 0.9970 | 3.26 | 1 |\n",
       "| 4 | 0.28 | 0.075 | 0.9980 | 3.16 | 1 |\n",
       "| 5 | 0.70 | 0.076 | 0.9978 | 3.51 | 1 |\n",
       "| 6 | 0.66 | 0.075 | 0.9978 | 3.51 | 1 |\n",
       "\n"
      ],
      "text/plain": [
       "  volatile.acidity chlorides density pH   qualityR\n",
       "1 0.70             0.076     0.9978  3.51 1       \n",
       "2 0.88             0.098     0.9968  3.20 1       \n",
       "3 0.76             0.092     0.9970  3.26 1       \n",
       "4 0.28             0.075     0.9980  3.16 1       \n",
       "5 0.70             0.076     0.9978  3.51 1       \n",
       "6 0.66             0.075     0.9978  3.51 1       "
      ]
     },
     "metadata": {},
     "output_type": "display_data"
    }
   ],
   "source": [
    "wine_wrangled <- wine[, c(2,5,8,9,14)]\n",
    "head(wine_wrangled)"
   ]
  },
  {
   "cell_type": "markdown",
   "id": "54d12e66",
   "metadata": {},
   "source": [
    "### Summarizing the Dataset"
   ]
  },
  {
   "cell_type": "code",
   "execution_count": 49,
   "id": "e066bc0c",
   "metadata": {
    "scrolled": true,
    "vscode": {
     "languageId": "r"
    }
   },
   "outputs": [
    {
     "data": {
      "text/plain": [
       " volatile.acidity   chlorides          density             pH       \n",
       " Min.   :0.1200   Min.   :0.01200   Min.   :0.9901   Min.   :2.740  \n",
       " 1st Qu.:0.3925   1st Qu.:0.07000   1st Qu.:0.9956   1st Qu.:3.205  \n",
       " Median :0.5200   Median :0.07900   Median :0.9967   Median :3.310  \n",
       " Mean   :0.5313   Mean   :0.08693   Mean   :0.9967   Mean   :3.311  \n",
       " 3rd Qu.:0.6400   3rd Qu.:0.09000   3rd Qu.:0.9978   3rd Qu.:3.400  \n",
       " Max.   :1.5800   Max.   :0.61100   Max.   :1.0037   Max.   :4.010  \n",
       "    qualityR    \n",
       " Min.   :0.000  \n",
       " 1st Qu.:1.000  \n",
       " Median :1.000  \n",
       " Mean   :1.105  \n",
       " 3rd Qu.:1.000  \n",
       " Max.   :2.000  "
      ]
     },
     "metadata": {},
     "output_type": "display_data"
    }
   ],
   "source": [
    "summary(wine_wrangled)"
   ]
  },
  {
   "cell_type": "markdown",
   "id": "226c8f31",
   "metadata": {},
   "source": [
    "## Scale the Data: Scale Each Predictor Value"
   ]
  },
  {
   "cell_type": "code",
   "execution_count": 50,
   "id": "86e3a2b9",
   "metadata": {
    "vscode": {
     "languageId": "r"
    }
   },
   "outputs": [],
   "source": [
    "wine_wrangled[1:4] <- scale(wine_wrangled[1:4])"
   ]
  },
  {
   "cell_type": "markdown",
   "id": "288445c7",
   "metadata": {},
   "source": [
    "### Find the Mean of Each Predictor Value:  Mean Should == 0\n",
    "### Find the Standard Deviation of Each Predictor Value:  Standard Deviation Should == 1"
   ]
  },
  {
   "cell_type": "code",
   "execution_count": 51,
   "id": "6c3ce6db",
   "metadata": {
    "vscode": {
     "languageId": "r"
    }
   },
   "outputs": [
    {
     "data": {
      "text/html": [
       "<style>\n",
       ".dl-inline {width: auto; margin:0; padding: 0}\n",
       ".dl-inline>dt, .dl-inline>dd {float: none; width: auto; display: inline-block}\n",
       ".dl-inline>dt::after {content: \":\\0020\"; padding-right: .5ex}\n",
       ".dl-inline>dt:not(:first-of-type) {padding-left: .5ex}\n",
       "</style><dl class=dl-inline><dt>volatile.acidity</dt><dd>-1.65284676650836e-16</dd><dt>chlorides</dt><dd>-3.6624216588394e-17</dd><dt>density</dt><dd>1.03974798629694e-16</dd><dt>pH</dt><dd>-8.34781225565631e-16</dd></dl>\n"
      ],
      "text/latex": [
       "\\begin{description*}\n",
       "\\item[volatile.acidity] -1.65284676650836e-16\n",
       "\\item[chlorides] -3.6624216588394e-17\n",
       "\\item[density] 1.03974798629694e-16\n",
       "\\item[pH] -8.34781225565631e-16\n",
       "\\end{description*}\n"
      ],
      "text/markdown": [
       "volatile.acidity\n",
       ":   -1.65284676650836e-16chlorides\n",
       ":   -3.6624216588394e-17density\n",
       ":   1.03974798629694e-16pH\n",
       ":   -8.34781225565631e-16\n",
       "\n"
      ],
      "text/plain": [
       "volatile.acidity        chlorides          density               pH \n",
       "   -1.652847e-16    -3.662422e-17     1.039748e-16    -8.347812e-16 "
      ]
     },
     "metadata": {},
     "output_type": "display_data"
    },
    {
     "data": {
      "text/html": [
       "<style>\n",
       ".dl-inline {width: auto; margin:0; padding: 0}\n",
       ".dl-inline>dt, .dl-inline>dd {float: none; width: auto; display: inline-block}\n",
       ".dl-inline>dt::after {content: \":\\0020\"; padding-right: .5ex}\n",
       ".dl-inline>dt:not(:first-of-type) {padding-left: .5ex}\n",
       "</style><dl class=dl-inline><dt>volatile.acidity</dt><dd>1</dd><dt>chlorides</dt><dd>1</dd><dt>density</dt><dd>1</dd><dt>pH</dt><dd>1</dd></dl>\n"
      ],
      "text/latex": [
       "\\begin{description*}\n",
       "\\item[volatile.acidity] 1\n",
       "\\item[chlorides] 1\n",
       "\\item[density] 1\n",
       "\\item[pH] 1\n",
       "\\end{description*}\n"
      ],
      "text/markdown": [
       "volatile.acidity\n",
       ":   1chlorides\n",
       ":   1density\n",
       ":   1pH\n",
       ":   1\n",
       "\n"
      ],
      "text/plain": [
       "volatile.acidity        chlorides          density               pH \n",
       "               1                1                1                1 "
      ]
     },
     "metadata": {},
     "output_type": "display_data"
    }
   ],
   "source": [
    "apply(wine_wrangled[1:4], 2, mean)\n",
    "apply(wine_wrangled[1:4], 2, sd)"
   ]
  },
  {
   "cell_type": "markdown",
   "id": "2d5667e3",
   "metadata": {},
   "source": [
    "## Create Training and Test Samples"
   ]
  },
  {
   "cell_type": "markdown",
   "id": "11e876d9",
   "metadata": {},
   "source": [
    "### Making this Example Reproducible"
   ]
  },
  {
   "cell_type": "code",
   "execution_count": 52,
   "id": "4bbc56d7",
   "metadata": {
    "vscode": {
     "languageId": "r"
    }
   },
   "outputs": [],
   "source": [
    "set.seed(1)"
   ]
  },
  {
   "cell_type": "markdown",
   "id": "613e37c0",
   "metadata": {},
   "source": [
    "### Using 70% of Dataset as Training Set, Remaining 30% as Testing Set"
   ]
  },
  {
   "cell_type": "code",
   "execution_count": 53,
   "id": "2e2b3e44",
   "metadata": {
    "vscode": {
     "languageId": "r"
    }
   },
   "outputs": [],
   "source": [
    "sample <- sample(c(TRUE, FALSE), nrow(wine_wrangled), replace=TRUE, prob=c(0.7,0.3))\n",
    "train <- wine_wrangled[sample, ]\n",
    "test <- wine_wrangled[!sample, ]"
   ]
  },
  {
   "cell_type": "markdown",
   "id": "33e5ec8a",
   "metadata": {},
   "source": [
    "## Fit LDA Model"
   ]
  },
  {
   "cell_type": "code",
   "execution_count": 54,
   "id": "d458c79e",
   "metadata": {
    "vscode": {
     "languageId": "r"
    }
   },
   "outputs": [],
   "source": [
    "model <- lda(qualityR~., data=train)"
   ]
  },
  {
   "cell_type": "markdown",
   "id": "d0f75787",
   "metadata": {},
   "source": [
    "### View Model Output"
   ]
  },
  {
   "cell_type": "code",
   "execution_count": 55,
   "id": "200cb75a",
   "metadata": {
    "vscode": {
     "languageId": "r"
    }
   },
   "outputs": [
    {
     "data": {
      "text/plain": [
       "Call:\n",
       "lda(qualityR ~ ., data = train)\n",
       "\n",
       "Prior probabilities of groups:\n",
       "      0       1       2 \n",
       "0.03875 0.81375 0.14750 \n",
       "\n",
       "Group means:\n",
       "  volatile.acidity   chlorides      density          pH\n",
       "0       1.00446698 -0.10367361  0.005651296  0.53093655\n",
       "1       0.09140134  0.02043661  0.058451338  0.01519113\n",
       "2      -0.72265686 -0.21999832 -0.273547676 -0.19634775\n",
       "\n",
       "Coefficients of linear discriminants:\n",
       "                       LD1        LD2\n",
       "volatile.acidity 0.9106706  0.2070886\n",
       "chlorides        0.1985976 -0.7306090\n",
       "density          0.3157373 -0.5016395\n",
       "pH               0.2912990  0.1980449\n",
       "\n",
       "Proportion of trace:\n",
       "   LD1    LD2 \n",
       "0.9531 0.0469 "
      ]
     },
     "metadata": {},
     "output_type": "display_data"
    }
   ],
   "source": [
    "model"
   ]
  },
  {
   "cell_type": "markdown",
   "id": "ce13a05d",
   "metadata": {},
   "source": [
    "Prior probabilities of group: The proportions of each 'quality' rating in the training set.\n",
    "\n",
    "Group means: The mean values for each predictor variable for each 'quality' rating.\n",
    "\n",
    "Coefficients of linear discriminants: Linear combination of predictor variables used to form the decision rule of the LDA model."
   ]
  },
  {
   "cell_type": "markdown",
   "id": "cca54fc9",
   "metadata": {},
   "source": [
    "### View Model Info"
   ]
  },
  {
   "cell_type": "code",
   "execution_count": 56,
   "id": "f3a47a9b",
   "metadata": {
    "scrolled": true,
    "vscode": {
     "languageId": "r"
    }
   },
   "outputs": [
    {
     "data": {
      "text/html": [
       "<style>\n",
       ".dl-inline {width: auto; margin:0; padding: 0}\n",
       ".dl-inline>dt, .dl-inline>dd {float: none; width: auto; display: inline-block}\n",
       ".dl-inline>dt::after {content: \":\\0020\"; padding-right: .5ex}\n",
       ".dl-inline>dt:not(:first-of-type) {padding-left: .5ex}\n",
       "</style><dl class=dl-inline><dt>0</dt><dd>31</dd><dt>1</dt><dd>651</dd><dt>2</dt><dd>118</dd></dl>\n"
      ],
      "text/latex": [
       "\\begin{description*}\n",
       "\\item[0] 31\n",
       "\\item[1] 651\n",
       "\\item[2] 118\n",
       "\\end{description*}\n"
      ],
      "text/markdown": [
       "0\n",
       ":   311\n",
       ":   6512\n",
       ":   118\n",
       "\n"
      ],
      "text/plain": [
       "  0   1   2 \n",
       " 31 651 118 "
      ]
     },
     "metadata": {},
     "output_type": "display_data"
    },
    {
     "data": {
      "text/html": [
       "<style>\n",
       ".dl-inline {width: auto; margin:0; padding: 0}\n",
       ".dl-inline>dt, .dl-inline>dd {float: none; width: auto; display: inline-block}\n",
       ".dl-inline>dt::after {content: \":\\0020\"; padding-right: .5ex}\n",
       ".dl-inline>dt:not(:first-of-type) {padding-left: .5ex}\n",
       "</style><dl class=dl-inline><dt>0</dt><dd>0.03875</dd><dt>1</dt><dd>0.81375</dd><dt>2</dt><dd>0.1475</dd></dl>\n"
      ],
      "text/latex": [
       "\\begin{description*}\n",
       "\\item[0] 0.03875\n",
       "\\item[1] 0.81375\n",
       "\\item[2] 0.1475\n",
       "\\end{description*}\n"
      ],
      "text/markdown": [
       "0\n",
       ":   0.038751\n",
       ":   0.813752\n",
       ":   0.1475\n",
       "\n"
      ],
      "text/plain": [
       "      0       1       2 \n",
       "0.03875 0.81375 0.14750 "
      ]
     },
     "metadata": {},
     "output_type": "display_data"
    },
    {
     "data": {
      "text/html": [
       "<table class=\"dataframe\">\n",
       "<caption>A matrix: 4 × 2 of type dbl</caption>\n",
       "<thead>\n",
       "\t<tr><th></th><th scope=col>LD1</th><th scope=col>LD2</th></tr>\n",
       "</thead>\n",
       "<tbody>\n",
       "\t<tr><th scope=row>volatile.acidity</th><td>0.9106706</td><td> 0.2070886</td></tr>\n",
       "\t<tr><th scope=row>chlorides</th><td>0.1985976</td><td>-0.7306090</td></tr>\n",
       "\t<tr><th scope=row>density</th><td>0.3157373</td><td>-0.5016395</td></tr>\n",
       "\t<tr><th scope=row>pH</th><td>0.2912990</td><td> 0.1980449</td></tr>\n",
       "</tbody>\n",
       "</table>\n"
      ],
      "text/latex": [
       "A matrix: 4 × 2 of type dbl\n",
       "\\begin{tabular}{r|ll}\n",
       "  & LD1 & LD2\\\\\n",
       "\\hline\n",
       "\tvolatile.acidity & 0.9106706 &  0.2070886\\\\\n",
       "\tchlorides & 0.1985976 & -0.7306090\\\\\n",
       "\tdensity & 0.3157373 & -0.5016395\\\\\n",
       "\tpH & 0.2912990 &  0.1980449\\\\\n",
       "\\end{tabular}\n"
      ],
      "text/markdown": [
       "\n",
       "A matrix: 4 × 2 of type dbl\n",
       "\n",
       "| <!--/--> | LD1 | LD2 |\n",
       "|---|---|---|\n",
       "| volatile.acidity | 0.9106706 |  0.2070886 |\n",
       "| chlorides | 0.1985976 | -0.7306090 |\n",
       "| density | 0.3157373 | -0.5016395 |\n",
       "| pH | 0.2912990 |  0.1980449 |\n",
       "\n"
      ],
      "text/plain": [
       "                 LD1       LD2       \n",
       "volatile.acidity 0.9106706  0.2070886\n",
       "chlorides        0.1985976 -0.7306090\n",
       "density          0.3157373 -0.5016395\n",
       "pH               0.2912990  0.1980449"
      ]
     },
     "metadata": {},
     "output_type": "display_data"
    },
    {
     "data": {
      "text/html": [
       "<style>\n",
       ".list-inline {list-style: none; margin:0; padding: 0}\n",
       ".list-inline>li {display: inline-block}\n",
       ".list-inline>li:not(:last-child)::after {content: \"\\00b7\"; padding: 0 .5ex}\n",
       "</style>\n",
       "<ol class=list-inline><li>7.95044730356161</li><li>1.76402103328014</li></ol>\n"
      ],
      "text/latex": [
       "\\begin{enumerate*}\n",
       "\\item 7.95044730356161\n",
       "\\item 1.76402103328014\n",
       "\\end{enumerate*}\n"
      ],
      "text/markdown": [
       "1. 7.95044730356161\n",
       "2. 1.76402103328014\n",
       "\n",
       "\n"
      ],
      "text/plain": [
       "[1] 7.950447 1.764021"
      ]
     },
     "metadata": {},
     "output_type": "display_data"
    }
   ],
   "source": [
    "model$counts\n",
    "model$prior\n",
    "model$scaling\n",
    "model$svd"
   ]
  },
  {
   "cell_type": "markdown",
   "id": "dc30a1f9",
   "metadata": {},
   "source": [
    "### Store Model Means"
   ]
  },
  {
   "cell_type": "code",
   "execution_count": 57,
   "id": "4d4c0c2f",
   "metadata": {
    "vscode": {
     "languageId": "r"
    }
   },
   "outputs": [],
   "source": [
    "modelmeans <- model$means"
   ]
  },
  {
   "cell_type": "markdown",
   "id": "d76a2235",
   "metadata": {},
   "source": [
    "### Convert Matrix to a Data Frame"
   ]
  },
  {
   "cell_type": "code",
   "execution_count": 58,
   "id": "565dc9fe",
   "metadata": {
    "vscode": {
     "languageId": "r"
    }
   },
   "outputs": [
    {
     "name": "stdout",
     "output_type": "stream",
     "text": [
      "'data.frame':\t3 obs. of  4 variables:\n",
      " $ volatile.acidity: num  1.0045 0.0914 -0.7227\n",
      " $ chlorides       : num  -0.1037 0.0204 -0.22\n",
      " $ density         : num  0.00565 0.05845 -0.27355\n",
      " $ pH              : num  0.5309 0.0152 -0.1963\n"
     ]
    }
   ],
   "source": [
    "modelmeans <- as.data.frame(modelmeans)\n",
    "str(modelmeans)"
   ]
  },
  {
   "cell_type": "markdown",
   "id": "1a4ffd38",
   "metadata": {},
   "source": [
    "### Convert Row Labels to Columns"
   ]
  },
  {
   "cell_type": "code",
   "execution_count": 59,
   "id": "60c1a64e",
   "metadata": {
    "vscode": {
     "languageId": "r"
    }
   },
   "outputs": [],
   "source": [
    "modelmeans <- tibble::rownames_to_column(modelmeans, \"qualityR\")"
   ]
  },
  {
   "cell_type": "markdown",
   "id": "eb4eb76e",
   "metadata": {},
   "source": [
    "## Plot Means"
   ]
  },
  {
   "cell_type": "markdown",
   "id": "2d8fe8c9",
   "metadata": {},
   "source": [
    "### Melt Data Frame"
   ]
  },
  {
   "cell_type": "code",
   "execution_count": 60,
   "id": "dc5b8ea3",
   "metadata": {
    "vscode": {
     "languageId": "r"
    }
   },
   "outputs": [],
   "source": [
    "mmodelmeans <- melt(modelmeans, id.vars=\"qualityR\")"
   ]
  },
  {
   "cell_type": "markdown",
   "id": "e6579b0e",
   "metadata": {},
   "source": [
    "### All Variables on the Same Plot"
   ]
  },
  {
   "cell_type": "code",
   "execution_count": 61,
   "id": "e64fa060",
   "metadata": {
    "scrolled": true,
    "vscode": {
     "languageId": "r"
    }
   },
   "outputs": [
    {
     "name": "stderr",
     "output_type": "stream",
     "text": [
      "ERROR while rich displaying an object: Error in FUN(X[[i]], ...): object 'quality' not found\n",
      "\n",
      "Traceback:\n",
      "1. FUN(X[[i]], ...)\n",
      "2. tryCatch(withCallingHandlers({\n",
      " .     if (!mime %in% names(repr::mime2repr)) \n",
      " .         stop(\"No repr_* for mimetype \", mime, \" in repr::mime2repr\")\n",
      " .     rpr <- repr::mime2repr[[mime]](obj)\n",
      " .     if (is.null(rpr)) \n",
      " .         return(NULL)\n",
      " .     prepare_content(is.raw(rpr), rpr)\n",
      " . }, error = error_handler), error = outer_handler)\n",
      "3. tryCatchList(expr, classes, parentenv, handlers)\n",
      "4. tryCatchOne(expr, names, parentenv, handlers[[1L]])\n",
      "5. doTryCatch(return(expr), name, parentenv, handler)\n",
      "6. withCallingHandlers({\n",
      " .     if (!mime %in% names(repr::mime2repr)) \n",
      " .         stop(\"No repr_* for mimetype \", mime, \" in repr::mime2repr\")\n",
      " .     rpr <- repr::mime2repr[[mime]](obj)\n",
      " .     if (is.null(rpr)) \n",
      " .         return(NULL)\n",
      " .     prepare_content(is.raw(rpr), rpr)\n",
      " . }, error = error_handler)\n",
      "7. repr::mime2repr[[mime]](obj)\n",
      "8. repr_text.default(obj)\n",
      "9. paste(capture.output(print(obj)), collapse = \"\\n\")\n",
      "10. capture.output(print(obj))\n",
      "11. withVisible(...elt(i))\n",
      "12. print(obj)\n",
      "13. print.ggplot(obj)\n",
      "14. ggplot_build(x)\n",
      "15. ggplot_build.ggplot(x)\n",
      "16. by_layer(function(l, d) l$compute_aesthetics(d, plot))\n",
      "17. f(l = layers[[i]], d = data[[i]])\n",
      "18. l$compute_aesthetics(d, plot)\n",
      "19. f(..., self = self)\n",
      "20. scales_add_defaults(plot$scales, data, aesthetics, plot$plot_env)\n",
      "21. lapply(aesthetics[new_aesthetics], eval_tidy, data = data)\n",
      "22. FUN(X[[i]], ...)\n"
     ]
    },
    {
     "data": {
      "image/png": "[encoded data removed]",
      "text/plain": [
       "plot without title"
      ]
     },
     "metadata": {
      "image/png": {
       "height": 420,
       "width": 420
      }
     },
     "output_type": "display_data"
    }
   ],
   "source": [
    "ggplot(mmodelmeans, aes(quality, value, group=variable, col=variable)) + ggtitle(\"All Variables vs. Quality\")+ geom_line() + geom_point() + stat_smooth()"
   ]
  },
  {
   "cell_type": "markdown",
   "id": "4056c0e9",
   "metadata": {},
   "source": [
    "### Variables on Separate Plots"
   ]
  },
  {
   "cell_type": "code",
   "execution_count": 62,
   "id": "d48db25c",
   "metadata": {
    "scrolled": true,
    "vscode": {
     "languageId": "r"
    }
   },
   "outputs": [
    {
     "name": "stderr",
     "output_type": "stream",
     "text": [
      "ERROR while rich displaying an object: Error in FUN(X[[i]], ...): object 'quality' not found\n",
      "\n",
      "Traceback:\n",
      "1. FUN(X[[i]], ...)\n",
      "2. tryCatch(withCallingHandlers({\n",
      " .     if (!mime %in% names(repr::mime2repr)) \n",
      " .         stop(\"No repr_* for mimetype \", mime, \" in repr::mime2repr\")\n",
      " .     rpr <- repr::mime2repr[[mime]](obj)\n",
      " .     if (is.null(rpr)) \n",
      " .         return(NULL)\n",
      " .     prepare_content(is.raw(rpr), rpr)\n",
      " . }, error = error_handler), error = outer_handler)\n",
      "3. tryCatchList(expr, classes, parentenv, handlers)\n",
      "4. tryCatchOne(expr, names, parentenv, handlers[[1L]])\n",
      "5. doTryCatch(return(expr), name, parentenv, handler)\n",
      "6. withCallingHandlers({\n",
      " .     if (!mime %in% names(repr::mime2repr)) \n",
      " .         stop(\"No repr_* for mimetype \", mime, \" in repr::mime2repr\")\n",
      " .     rpr <- repr::mime2repr[[mime]](obj)\n",
      " .     if (is.null(rpr)) \n",
      " .         return(NULL)\n",
      " .     prepare_content(is.raw(rpr), rpr)\n",
      " . }, error = error_handler)\n",
      "7. repr::mime2repr[[mime]](obj)\n",
      "8. repr_text.default(obj)\n",
      "9. paste(capture.output(print(obj)), collapse = \"\\n\")\n",
      "10. capture.output(print(obj))\n",
      "11. withVisible(...elt(i))\n",
      "12. print(obj)\n",
      "13. print.ggplot(obj)\n",
      "14. ggplot_build(x)\n",
      "15. ggplot_build.ggplot(x)\n",
      "16. by_layer(function(l, d) l$compute_aesthetics(d, plot))\n",
      "17. f(l = layers[[i]], d = data[[i]])\n",
      "18. l$compute_aesthetics(d, plot)\n",
      "19. f(..., self = self)\n",
      "20. scales_add_defaults(plot$scales, data, aesthetics, plot$plot_env)\n",
      "21. lapply(aesthetics[new_aesthetics], eval_tidy, data = data)\n",
      "22. FUN(X[[i]], ...)\n"
     ]
    },
    {
     "data": {
      "image/png": "[encoded data removed]",
      "text/plain": [
       "plot without title"
      ]
     },
     "metadata": {
      "image/png": {
       "height": 420,
       "width": 420
      }
     },
     "output_type": "display_data"
    }
   ],
   "source": [
    "ggplot(mmodelmeans, aes(quality, value, group=variable, col=variable)) + ggtitle (\"Separately Plotted Variables vs. Quality\")+\n",
    "  geom_point() + \n",
    "  stat_smooth() +\n",
    "  facet_wrap(~variable)"
   ]
  },
  {
   "cell_type": "markdown",
   "id": "1b5aad42",
   "metadata": {},
   "source": [
    "## LDA model: Make Predictions on Test Data"
   ]
  },
  {
   "cell_type": "code",
   "execution_count": 63,
   "id": "27d3910a",
   "metadata": {
    "vscode": {
     "languageId": "r"
    }
   },
   "outputs": [
    {
     "data": {
      "text/html": [
       "<style>\n",
       ".list-inline {list-style: none; margin:0; padding: 0}\n",
       ".list-inline>li {display: inline-block}\n",
       ".list-inline>li:not(:last-child)::after {content: \"\\00b7\"; padding: 0 .5ex}\n",
       "</style>\n",
       "<ol class=list-inline><li>'class'</li><li>'posterior'</li><li>'x'</li></ol>\n"
      ],
      "text/latex": [
       "\\begin{enumerate*}\n",
       "\\item 'class'\n",
       "\\item 'posterior'\n",
       "\\item 'x'\n",
       "\\end{enumerate*}\n"
      ],
      "text/markdown": [
       "1. 'class'\n",
       "2. 'posterior'\n",
       "3. 'x'\n",
       "\n",
       "\n"
      ],
      "text/plain": [
       "[1] \"class\"     \"posterior\" \"x\"        "
      ]
     },
     "metadata": {},
     "output_type": "display_data"
    }
   ],
   "source": [
    "predicted <- predict(model, test)\n",
    "names(predicted)"
   ]
  },
  {
   "cell_type": "markdown",
   "id": "a53d8c35",
   "metadata": {},
   "source": [
    "### View Predicted Class (First Six Observations)"
   ]
  },
  {
   "cell_type": "code",
   "execution_count": 64,
   "id": "5a451465",
   "metadata": {
    "vscode": {
     "languageId": "r"
    }
   },
   "outputs": [
    {
     "data": {
      "text/html": [
       "<style>\n",
       ".list-inline {list-style: none; margin:0; padding: 0}\n",
       ".list-inline>li {display: inline-block}\n",
       ".list-inline>li:not(:last-child)::after {content: \"\\00b7\"; padding: 0 .5ex}\n",
       "</style>\n",
       "<ol class=list-inline><li>1</li><li>1</li><li>1</li><li>1</li><li>1</li><li>1</li></ol>\n",
       "\n",
       "<details>\n",
       "\t<summary style=display:list-item;cursor:pointer>\n",
       "\t\t<strong>Levels</strong>:\n",
       "\t</summary>\n",
       "\t<style>\n",
       "\t.list-inline {list-style: none; margin:0; padding: 0}\n",
       "\t.list-inline>li {display: inline-block}\n",
       "\t.list-inline>li:not(:last-child)::after {content: \"\\00b7\"; padding: 0 .5ex}\n",
       "\t</style>\n",
       "\t<ol class=list-inline><li>'0'</li><li>'1'</li><li>'2'</li></ol>\n",
       "</details>"
      ],
      "text/latex": [
       "\\begin{enumerate*}\n",
       "\\item 1\n",
       "\\item 1\n",
       "\\item 1\n",
       "\\item 1\n",
       "\\item 1\n",
       "\\item 1\n",
       "\\end{enumerate*}\n",
       "\n",
       "\\emph{Levels}: \\begin{enumerate*}\n",
       "\\item '0'\n",
       "\\item '1'\n",
       "\\item '2'\n",
       "\\end{enumerate*}\n"
      ],
      "text/markdown": [
       "1. 1\n",
       "2. 1\n",
       "3. 1\n",
       "4. 1\n",
       "5. 1\n",
       "6. 1\n",
       "\n",
       "\n",
       "\n",
       "**Levels**: 1. '0'\n",
       "2. '1'\n",
       "3. '2'\n",
       "\n",
       "\n"
      ],
      "text/plain": [
       "[1] 1 1 1 1 1 1\n",
       "Levels: 0 1 2"
      ]
     },
     "metadata": {},
     "output_type": "display_data"
    }
   ],
   "source": [
    "head(predicted$class)"
   ]
  },
  {
   "cell_type": "markdown",
   "id": "4d2e6474",
   "metadata": {},
   "source": [
    "### View Predicted Posterior Probability (First Six Observations)¶"
   ]
  },
  {
   "cell_type": "code",
   "execution_count": 65,
   "id": "8878c61b",
   "metadata": {
    "vscode": {
     "languageId": "r"
    }
   },
   "outputs": [
    {
     "data": {
      "text/html": [
       "<table class=\"dataframe\">\n",
       "<caption>A matrix: 6 × 3 of type dbl</caption>\n",
       "<thead>\n",
       "\t<tr><th></th><th scope=col>0</th><th scope=col>1</th><th scope=col>2</th></tr>\n",
       "</thead>\n",
       "<tbody>\n",
       "\t<tr><th scope=row>4</th><td>0.003678563</td><td>0.6901224</td><td>0.30619903</td></tr>\n",
       "\t<tr><th scope=row>6</th><td>0.075592617</td><td>0.8853544</td><td>0.03905293</td></tr>\n",
       "\t<tr><th scope=row>7</th><td>0.032025977</td><td>0.8712111</td><td>0.09676291</td></tr>\n",
       "\t<tr><th scope=row>15</th><td>0.018379246</td><td>0.8634723</td><td>0.11814842</td></tr>\n",
       "\t<tr><th scope=row>17</th><td>0.012521832</td><td>0.8269567</td><td>0.16052150</td></tr>\n",
       "\t<tr><th scope=row>18</th><td>0.014032561</td><td>0.8260119</td><td>0.15995554</td></tr>\n",
       "</tbody>\n",
       "</table>\n"
      ],
      "text/latex": [
       "A matrix: 6 × 3 of type dbl\n",
       "\\begin{tabular}{r|lll}\n",
       "  & 0 & 1 & 2\\\\\n",
       "\\hline\n",
       "\t4 & 0.003678563 & 0.6901224 & 0.30619903\\\\\n",
       "\t6 & 0.075592617 & 0.8853544 & 0.03905293\\\\\n",
       "\t7 & 0.032025977 & 0.8712111 & 0.09676291\\\\\n",
       "\t15 & 0.018379246 & 0.8634723 & 0.11814842\\\\\n",
       "\t17 & 0.012521832 & 0.8269567 & 0.16052150\\\\\n",
       "\t18 & 0.014032561 & 0.8260119 & 0.15995554\\\\\n",
       "\\end{tabular}\n"
      ],
      "text/markdown": [
       "\n",
       "A matrix: 6 × 3 of type dbl\n",
       "\n",
       "| <!--/--> | 0 | 1 | 2 |\n",
       "|---|---|---|---|\n",
       "| 4 | 0.003678563 | 0.6901224 | 0.30619903 |\n",
       "| 6 | 0.075592617 | 0.8853544 | 0.03905293 |\n",
       "| 7 | 0.032025977 | 0.8712111 | 0.09676291 |\n",
       "| 15 | 0.018379246 | 0.8634723 | 0.11814842 |\n",
       "| 17 | 0.012521832 | 0.8269567 | 0.16052150 |\n",
       "| 18 | 0.014032561 | 0.8260119 | 0.15995554 |\n",
       "\n"
      ],
      "text/plain": [
       "   0           1         2         \n",
       "4  0.003678563 0.6901224 0.30619903\n",
       "6  0.075592617 0.8853544 0.03905293\n",
       "7  0.032025977 0.8712111 0.09676291\n",
       "15 0.018379246 0.8634723 0.11814842\n",
       "17 0.012521832 0.8269567 0.16052150\n",
       "18 0.014032561 0.8260119 0.15995554"
      ]
     },
     "metadata": {},
     "output_type": "display_data"
    }
   ],
   "source": [
    "head(predicted$posterior)"
   ]
  },
  {
   "cell_type": "markdown",
   "id": "b5bc930f",
   "metadata": {},
   "source": [
    "### View Linear Discriminants (First Six Observations)¶"
   ]
  },
  {
   "cell_type": "code",
   "execution_count": 66,
   "id": "9c1c5cf0",
   "metadata": {
    "vscode": {
     "languageId": "r"
    }
   },
   "outputs": [
    {
     "data": {
      "text/html": [
       "<table class=\"dataframe\">\n",
       "<caption>A matrix: 6 × 2 of type dbl</caption>\n",
       "<thead>\n",
       "\t<tr><th></th><th scope=col>LD1</th><th scope=col>LD2</th></tr>\n",
       "</thead>\n",
       "<tbody>\n",
       "\t<tr><th scope=row>4</th><td>-1.4025657</td><td>-0.639987482</td></tr>\n",
       "\t<tr><th scope=row>6</th><td> 1.1418694</td><td> 0.292656910</td></tr>\n",
       "\t<tr><th scope=row>7</th><td> 0.1923929</td><td> 0.415575286</td></tr>\n",
       "\t<tr><th scope=row>15</th><td>-0.1133155</td><td>-0.218400689</td></tr>\n",
       "\t<tr><th scope=row>17</th><td>-0.4783555</td><td>-0.211662561</td></tr>\n",
       "\t<tr><th scope=row>18</th><td>-0.4469785</td><td>-0.002199495</td></tr>\n",
       "</tbody>\n",
       "</table>\n"
      ],
      "text/latex": [
       "A matrix: 6 × 2 of type dbl\n",
       "\\begin{tabular}{r|ll}\n",
       "  & LD1 & LD2\\\\\n",
       "\\hline\n",
       "\t4 & -1.4025657 & -0.639987482\\\\\n",
       "\t6 &  1.1418694 &  0.292656910\\\\\n",
       "\t7 &  0.1923929 &  0.415575286\\\\\n",
       "\t15 & -0.1133155 & -0.218400689\\\\\n",
       "\t17 & -0.4783555 & -0.211662561\\\\\n",
       "\t18 & -0.4469785 & -0.002199495\\\\\n",
       "\\end{tabular}\n"
      ],
      "text/markdown": [
       "\n",
       "A matrix: 6 × 2 of type dbl\n",
       "\n",
       "| <!--/--> | LD1 | LD2 |\n",
       "|---|---|---|\n",
       "| 4 | -1.4025657 | -0.639987482 |\n",
       "| 6 |  1.1418694 |  0.292656910 |\n",
       "| 7 |  0.1923929 |  0.415575286 |\n",
       "| 15 | -0.1133155 | -0.218400689 |\n",
       "| 17 | -0.4783555 | -0.211662561 |\n",
       "| 18 | -0.4469785 | -0.002199495 |\n",
       "\n"
      ],
      "text/plain": [
       "   LD1        LD2         \n",
       "4  -1.4025657 -0.639987482\n",
       "6   1.1418694  0.292656910\n",
       "7   0.1923929  0.415575286\n",
       "15 -0.1133155 -0.218400689\n",
       "17 -0.4783555 -0.211662561\n",
       "18 -0.4469785 -0.002199495"
      ]
     },
     "metadata": {},
     "output_type": "display_data"
    }
   ],
   "source": [
    "head(predicted$x)"
   ]
  },
  {
   "cell_type": "markdown",
   "id": "ad8ddefd",
   "metadata": {},
   "source": [
    "## Accuracy of the Model"
   ]
  },
  {
   "cell_type": "code",
   "execution_count": 67,
   "id": "cebea3ff",
   "metadata": {
    "vscode": {
     "languageId": "r"
    }
   },
   "outputs": [
    {
     "data": {
      "text/html": [
       "0.868804664723032"
      ],
      "text/latex": [
       "0.868804664723032"
      ],
      "text/markdown": [
       "0.868804664723032"
      ],
      "text/plain": [
       "[1] 0.8688047"
      ]
     },
     "metadata": {},
     "output_type": "display_data"
    }
   ],
   "source": [
    "mean(predicted$class==test$quality)"
   ]
  },
  {
   "cell_type": "markdown",
   "id": "0db68867",
   "metadata": {},
   "source": [
    "## Visualize the Results"
   ]
  },
  {
   "cell_type": "markdown",
   "id": "98c29904",
   "metadata": {},
   "source": [
    "### Define Data to Plot"
   ]
  },
  {
   "cell_type": "code",
   "execution_count": 68,
   "id": "fcfa62d1",
   "metadata": {
    "vscode": {
     "languageId": "r"
    }
   },
   "outputs": [],
   "source": [
    "lda_plot <- cbind(train, predict(model)$x)"
   ]
  },
  {
   "cell_type": "markdown",
   "id": "3bb43020",
   "metadata": {},
   "source": [
    "### Create Plot"
   ]
  },
  {
   "cell_type": "code",
   "execution_count": 69,
   "id": "f1eb1a8d",
   "metadata": {
    "vscode": {
     "languageId": "r"
    }
   },
   "outputs": [
    {
     "data": {
      "image/png": "[encoded data removed]",
      "text/plain": [
       "plot without title"
      ]
     },
     "metadata": {
      "image/png": {
       "height": 420,
       "width": 420
      }
     },
     "output_type": "display_data"
    }
   ],
   "source": [
    "ggplot(lda_plot, aes(LD1, LD2)) +\n",
    "  geom_point(aes(color = qualityR))"
   ]
  },
  {
   "cell_type": "markdown",
   "id": "65075fb6",
   "metadata": {},
   "source": [
    "## Identify Outliers"
   ]
  },
  {
   "cell_type": "markdown",
   "id": "3acb37c6",
   "metadata": {},
   "source": [
    "### Density"
   ]
  },
  {
   "cell_type": "code",
   "execution_count": 70,
   "id": "2e1b4083",
   "metadata": {
    "vscode": {
     "languageId": "r"
    }
   },
   "outputs": [
    {
     "data": {
      "image/png": "[encoded data removed]",
      "text/plain": [
       "plot without title"
      ]
     },
     "metadata": {
      "image/png": {
       "height": 420,
       "width": 420
      }
     },
     "output_type": "display_data"
    }
   ],
   "source": [
    "bp.density <- ggplot(wine_wrangled, aes(x = \"\", y = density)) + geom_boxplot() + xlab(\"\")\n",
    "bp.density"
   ]
  },
  {
   "cell_type": "code",
   "execution_count": 55,
   "id": "9d7c3299",
   "metadata": {
    "vscode": {
     "languageId": "r"
    }
   },
   "outputs": [
    {
     "data": {
      "text/html": [
       "<dl>\n",
       "\t<dt>$stats</dt>\n",
       "\t\t<dd><style>\n",
       ".list-inline {list-style: none; margin:0; padding: 0}\n",
       ".list-inline>li {display: inline-block}\n",
       ".list-inline>li:not(:last-child)::after {content: \"\\00b7\"; padding: 0 .5ex}\n",
       "</style>\n",
       "<ol class=list-inline><li>-2.35337829387856</li><li>-0.602789991249114</li><li>-0.0261867224306141</li><li>0.578986978626774</li><li>2.2178908643228</li></ol>\n",
       "</dd>\n",
       "\t<dt>$n</dt>\n",
       "\t\t<dd>1143</dd>\n",
       "\t<dt>$conf</dt>\n",
       "\t\t<dd><style>\n",
       ".list-inline {list-style: none; margin:0; padding: 0}\n",
       ".list-inline>li {display: inline-block}\n",
       ".list-inline>li:not(:last-child)::after {content: \"\\00b7\"; padding: 0 .5ex}\n",
       "</style>\n",
       "<ol class=list-inline><li>-0.0814160167405449</li><li>0.0290425718793166</li></ol>\n",
       "</dd>\n",
       "\t<dt>$out</dt>\n",
       "\t\t<dd><style>\n",
       ".list-inline {list-style: none; margin:0; padding: 0}\n",
       ".list-inline>li {display: inline-block}\n",
       ".list-inline>li:not(:last-child)::after {content: \"\\00b7\"; padding: 0 .5ex}\n",
       "</style>\n",
       "<ol class=list-inline><li>-2.66505573648317</li><li>-2.66505573648317</li><li>2.42567582605932</li><li>2.47762206649342</li><li>2.47762206649342</li><li>2.63346078779572</li><li>-2.87284069821963</li><li>2.84124574953213</li><li>2.84124574953213</li><li>2.42567582605932</li><li>2.42567582605932</li><li>3.36070815387325</li><li>3.04903071126853</li><li>2.42567582605932</li><li>3.33473503365614</li><li>3.33473503365614</li><li>2.78929950909802</li><li>2.78929950909802</li><li>-2.61310949604907</li><li>3.04903071126853</li><li>-2.40532453431267</li><li>-2.69622348074367</li><li>-3.16373964465063</li><li>-3.16373964465063</li><li>3.1996748085275</li><li>-2.65466648839634</li><li>-3.45983321512496</li><li>-3.3923031025607</li><li>-2.68063960861339</li><li>-3.05984716378243</li><li>-2.50402239113742</li><li>3.61524473200031</li><li>2.95552747848722</li><li>-2.55077400752814</li><li>2.95552747848722</li><li>-2.55077400752814</li></ol>\n",
       "</dd>\n",
       "</dl>\n"
      ],
      "text/latex": [
       "\\begin{description}\n",
       "\\item[\\$stats] \\begin{enumerate*}\n",
       "\\item -2.35337829387856\n",
       "\\item -0.602789991249114\n",
       "\\item -0.0261867224306141\n",
       "\\item 0.578986978626774\n",
       "\\item 2.2178908643228\n",
       "\\end{enumerate*}\n",
       "\n",
       "\\item[\\$n] 1143\n",
       "\\item[\\$conf] \\begin{enumerate*}\n",
       "\\item -0.0814160167405449\n",
       "\\item 0.0290425718793166\n",
       "\\end{enumerate*}\n",
       "\n",
       "\\item[\\$out] \\begin{enumerate*}\n",
       "\\item -2.66505573648317\n",
       "\\item -2.66505573648317\n",
       "\\item 2.42567582605932\n",
       "\\item 2.47762206649342\n",
       "\\item 2.47762206649342\n",
       "\\item 2.63346078779572\n",
       "\\item -2.87284069821963\n",
       "\\item 2.84124574953213\n",
       "\\item 2.84124574953213\n",
       "\\item 2.42567582605932\n",
       "\\item 2.42567582605932\n",
       "\\item 3.36070815387325\n",
       "\\item 3.04903071126853\n",
       "\\item 2.42567582605932\n",
       "\\item 3.33473503365614\n",
       "\\item 3.33473503365614\n",
       "\\item 2.78929950909802\n",
       "\\item 2.78929950909802\n",
       "\\item -2.61310949604907\n",
       "\\item 3.04903071126853\n",
       "\\item -2.40532453431267\n",
       "\\item -2.69622348074367\n",
       "\\item -3.16373964465063\n",
       "\\item -3.16373964465063\n",
       "\\item 3.1996748085275\n",
       "\\item -2.65466648839634\n",
       "\\item -3.45983321512496\n",
       "\\item -3.3923031025607\n",
       "\\item -2.68063960861339\n",
       "\\item -3.05984716378243\n",
       "\\item -2.50402239113742\n",
       "\\item 3.61524473200031\n",
       "\\item 2.95552747848722\n",
       "\\item -2.55077400752814\n",
       "\\item 2.95552747848722\n",
       "\\item -2.55077400752814\n",
       "\\end{enumerate*}\n",
       "\n",
       "\\end{description}\n"
      ],
      "text/markdown": [
       "$stats\n",
       ":   1. -2.35337829387856\n",
       "2. -0.602789991249114\n",
       "3. -0.0261867224306141\n",
       "4. 0.578986978626774\n",
       "5. 2.2178908643228\n",
       "\n",
       "\n",
       "\n",
       "$n\n",
       ":   1143\n",
       "$conf\n",
       ":   1. -0.0814160167405449\n",
       "2. 0.0290425718793166\n",
       "\n",
       "\n",
       "\n",
       "$out\n",
       ":   1. -2.66505573648317\n",
       "2. -2.66505573648317\n",
       "3. 2.42567582605932\n",
       "4. 2.47762206649342\n",
       "5. 2.47762206649342\n",
       "6. 2.63346078779572\n",
       "7. -2.87284069821963\n",
       "8. 2.84124574953213\n",
       "9. 2.84124574953213\n",
       "10. 2.42567582605932\n",
       "11. 2.42567582605932\n",
       "12. 3.36070815387325\n",
       "13. 3.04903071126853\n",
       "14. 2.42567582605932\n",
       "15. 3.33473503365614\n",
       "16. 3.33473503365614\n",
       "17. 2.78929950909802\n",
       "18. 2.78929950909802\n",
       "19. -2.61310949604907\n",
       "20. 3.04903071126853\n",
       "21. -2.40532453431267\n",
       "22. -2.69622348074367\n",
       "23. -3.16373964465063\n",
       "24. -3.16373964465063\n",
       "25. 3.1996748085275\n",
       "26. -2.65466648839634\n",
       "27. -3.45983321512496\n",
       "28. -3.3923031025607\n",
       "29. -2.68063960861339\n",
       "30. -3.05984716378243\n",
       "31. -2.50402239113742\n",
       "32. 3.61524473200031\n",
       "33. 2.95552747848722\n",
       "34. -2.55077400752814\n",
       "35. 2.95552747848722\n",
       "36. -2.55077400752814\n",
       "\n",
       "\n",
       "\n",
       "\n",
       "\n"
      ],
      "text/plain": [
       "$stats\n",
       "[1] -2.35337829 -0.60278999 -0.02618672  0.57898698  2.21789086\n",
       "\n",
       "$n\n",
       "[1] 1143\n",
       "\n",
       "$conf\n",
       "[1] -0.08141602  0.02904257\n",
       "\n",
       "$out\n",
       " [1] -2.665056 -2.665056  2.425676  2.477622  2.477622  2.633461 -2.872841\n",
       " [8]  2.841246  2.841246  2.425676  2.425676  3.360708  3.049031  2.425676\n",
       "[15]  3.334735  3.334735  2.789300  2.789300 -2.613109  3.049031 -2.405325\n",
       "[22] -2.696223 -3.163740 -3.163740  3.199675 -2.654666 -3.459833 -3.392303\n",
       "[29] -2.680640 -3.059847 -2.504022  3.615245  2.955527 -2.550774  2.955527\n",
       "[36] -2.550774\n"
      ]
     },
     "metadata": {},
     "output_type": "display_data"
    }
   ],
   "source": [
    "boxplot.stats(wine_wrangled$density)"
   ]
  },
  {
   "cell_type": "markdown",
   "id": "b35b684b",
   "metadata": {},
   "source": [
    "#### Density Outlier Count: 36"
   ]
  },
  {
   "cell_type": "markdown",
   "id": "ee1a1b36",
   "metadata": {},
   "source": [
    "### Chlorides "
   ]
  },
  {
   "cell_type": "code",
   "execution_count": 71,
   "id": "77c5862c",
   "metadata": {
    "vscode": {
     "languageId": "r"
    }
   },
   "outputs": [
    {
     "data": {
      "image/png": "[encoded data removed]",
      "text/plain": [
       "plot without title"
      ]
     },
     "metadata": {
      "image/png": {
       "height": 420,
       "width": 420
      }
     },
     "output_type": "display_data"
    }
   ],
   "source": [
    "bp.chlorides <- ggplot(wine_wrangled, aes(x = \"\", y = chlorides)) + geom_boxplot() + xlab(\"\")\n",
    "bp.chlorides"
   ]
  },
  {
   "cell_type": "code",
   "execution_count": 47,
   "id": "5b143835",
   "metadata": {
    "vscode": {
     "languageId": "r"
    }
   },
   "outputs": [
    {
     "data": {
      "text/html": [
       "<dl>\n",
       "\t<dt>$stats</dt>\n",
       "\t\t<dd><style>\n",
       ".list-inline {list-style: none; margin:0; padding: 0}\n",
       ".list-inline>li {display: inline-block}\n",
       ".list-inline>li:not(:last-child)::after {content: \"\\00b7\"; padding: 0 .5ex}\n",
       "</style>\n",
       "<ol class=list-inline><li>-0.971762646483227</li><li>-0.358231162454741</li><li>-0.167824839825211</li><li>0.0648939989442141</li><li>0.6784254829727</li></ol>\n",
       "</dd>\n",
       "\t<dt>$n</dt>\n",
       "\t\t<dd>1143</dd>\n",
       "\t<dt>$conf</dt>\n",
       "\t\t<dd><style>\n",
       ".list-inline {list-style: none; margin:0; padding: 0}\n",
       ".list-inline>li {display: inline-block}\n",
       ".list-inline>li:not(:last-child)::after {content: \"\\00b7\"; padding: 0 .5ex}\n",
       "</style>\n",
       "<ol class=list-inline><li>-0.187599217448507</li><li>-0.148050462201916</li></ol>\n",
       "</dd>\n",
       "\t<dt>$out</dt>\n",
       "\t\t<dd><style>\n",
       ".list-inline {list-style: none; margin:0; padding: 0}\n",
       ".list-inline>li {display: inline-block}\n",
       ".list-inline>li:not(:last-child)::after {content: \"\\00b7\"; padding: 0 .5ex}\n",
       "</style>\n",
       "<ol class=list-inline><li>5.3751147745011</li><li>5.18470845187158</li><li>8.04080329131452</li><li>1.92664470909962</li><li>11.0661481953171</li><li>3.87302045153481</li><li>-1.01407516262312</li><li>5.29048974222131</li><li>3.72492664504518</li><li>11.087304453387</li><li>5.73477116169022</li><li>2.66711374154779</li><li>2.68826999961774</li><li>0.720737999112595</li><li>0.86883180560223</li><li>0.699581741042647</li><li>0.741894257182543</li><li>0.741894257182543</li><li>0.720737999112595</li><li>0.847675547532282</li><li>1.37658199928098</li><li>0.805363031392386</li><li>0.741894257182543</li><li>2.39208238663847</li><li>2.94214509645711</li><li>3.44989529013586</li><li>0.784206773322438</li><li>2.85752006417732</li><li>-1.01407516262312</li><li>1.48236328963071</li><li>7.08877167816688</li><li>-1.11985645297286</li><li>6.3483026457187</li><li>6.94067787167724</li><li>1.48236328963071</li><li>3.25948896750633</li><li>2.18051980593899</li><li>0.953456837882021</li><li>0.826519289462334</li><li>-1.03523142069307</li><li>1.6516133541903</li><li>1.27080070893124</li><li>-1.58529413051171</li><li>-1.58529413051171</li><li>2.26514483821878</li><li>0.953456837882021</li><li>1.56698832191051</li><li>0.699581741042647</li><li>0.699581741042647</li><li>0.763050515252491</li><li>0.763050515252491</li><li>6.91952161360729</li><li>1.77855090260998</li><li>1.92664470909962</li><li>1.67276961226024</li><li>1.03808187016181</li><li>0.953456837882021</li><li>0.953456837882021</li><li>0.763050515252491</li><li>0.763050515252491</li><li>6.68680277483787</li><li>1.05923812823176</li><li>6.91952161360729</li><li>1.67276961226024</li><li>1.71508212840014</li><li>6.94067787167724</li><li>1.39773825735092</li><li>6.94067787167724</li><li>0.763050515252491</li><li>2.68826999961774</li><li>1.73623838647009</li><li>2.49786367698821</li><li>2.49786367698821</li><li>-1.01407516262312</li><li>3.13255141908664</li><li>3.0267701287369</li><li>-1.03523142069307</li></ol>\n",
       "</dd>\n",
       "</dl>\n"
      ],
      "text/latex": [
       "\\begin{description}\n",
       "\\item[\\$stats] \\begin{enumerate*}\n",
       "\\item -0.971762646483227\n",
       "\\item -0.358231162454741\n",
       "\\item -0.167824839825211\n",
       "\\item 0.0648939989442141\n",
       "\\item 0.6784254829727\n",
       "\\end{enumerate*}\n",
       "\n",
       "\\item[\\$n] 1143\n",
       "\\item[\\$conf] \\begin{enumerate*}\n",
       "\\item -0.187599217448507\n",
       "\\item -0.148050462201916\n",
       "\\end{enumerate*}\n",
       "\n",
       "\\item[\\$out] \\begin{enumerate*}\n",
       "\\item 5.3751147745011\n",
       "\\item 5.18470845187158\n",
       "\\item 8.04080329131452\n",
       "\\item 1.92664470909962\n",
       "\\item 11.0661481953171\n",
       "\\item 3.87302045153481\n",
       "\\item -1.01407516262312\n",
       "\\item 5.29048974222131\n",
       "\\item 3.72492664504518\n",
       "\\item 11.087304453387\n",
       "\\item 5.73477116169022\n",
       "\\item 2.66711374154779\n",
       "\\item 2.68826999961774\n",
       "\\item 0.720737999112595\n",
       "\\item 0.86883180560223\n",
       "\\item 0.699581741042647\n",
       "\\item 0.741894257182543\n",
       "\\item 0.741894257182543\n",
       "\\item 0.720737999112595\n",
       "\\item 0.847675547532282\n",
       "\\item 1.37658199928098\n",
       "\\item 0.805363031392386\n",
       "\\item 0.741894257182543\n",
       "\\item 2.39208238663847\n",
       "\\item 2.94214509645711\n",
       "\\item 3.44989529013586\n",
       "\\item 0.784206773322438\n",
       "\\item 2.85752006417732\n",
       "\\item -1.01407516262312\n",
       "\\item 1.48236328963071\n",
       "\\item 7.08877167816688\n",
       "\\item -1.11985645297286\n",
       "\\item 6.3483026457187\n",
       "\\item 6.94067787167724\n",
       "\\item 1.48236328963071\n",
       "\\item 3.25948896750633\n",
       "\\item 2.18051980593899\n",
       "\\item 0.953456837882021\n",
       "\\item 0.826519289462334\n",
       "\\item -1.03523142069307\n",
       "\\item 1.6516133541903\n",
       "\\item 1.27080070893124\n",
       "\\item -1.58529413051171\n",
       "\\item -1.58529413051171\n",
       "\\item 2.26514483821878\n",
       "\\item 0.953456837882021\n",
       "\\item 1.56698832191051\n",
       "\\item 0.699581741042647\n",
       "\\item 0.699581741042647\n",
       "\\item 0.763050515252491\n",
       "\\item 0.763050515252491\n",
       "\\item 6.91952161360729\n",
       "\\item 1.77855090260998\n",
       "\\item 1.92664470909962\n",
       "\\item 1.67276961226024\n",
       "\\item 1.03808187016181\n",
       "\\item 0.953456837882021\n",
       "\\item 0.953456837882021\n",
       "\\item 0.763050515252491\n",
       "\\item 0.763050515252491\n",
       "\\item 6.68680277483787\n",
       "\\item 1.05923812823176\n",
       "\\item 6.91952161360729\n",
       "\\item 1.67276961226024\n",
       "\\item 1.71508212840014\n",
       "\\item 6.94067787167724\n",
       "\\item 1.39773825735092\n",
       "\\item 6.94067787167724\n",
       "\\item 0.763050515252491\n",
       "\\item 2.68826999961774\n",
       "\\item 1.73623838647009\n",
       "\\item 2.49786367698821\n",
       "\\item 2.49786367698821\n",
       "\\item -1.01407516262312\n",
       "\\item 3.13255141908664\n",
       "\\item 3.0267701287369\n",
       "\\item -1.03523142069307\n",
       "\\end{enumerate*}\n",
       "\n",
       "\\end{description}\n"
      ],
      "text/markdown": [
       "$stats\n",
       ":   1. -0.971762646483227\n",
       "2. -0.358231162454741\n",
       "3. -0.167824839825211\n",
       "4. 0.0648939989442141\n",
       "5. 0.6784254829727\n",
       "\n",
       "\n",
       "\n",
       "$n\n",
       ":   1143\n",
       "$conf\n",
       ":   1. -0.187599217448507\n",
       "2. -0.148050462201916\n",
       "\n",
       "\n",
       "\n",
       "$out\n",
       ":   1. 5.3751147745011\n",
       "2. 5.18470845187158\n",
       "3. 8.04080329131452\n",
       "4. 1.92664470909962\n",
       "5. 11.0661481953171\n",
       "6. 3.87302045153481\n",
       "7. -1.01407516262312\n",
       "8. 5.29048974222131\n",
       "9. 3.72492664504518\n",
       "10. 11.087304453387\n",
       "11. 5.73477116169022\n",
       "12. 2.66711374154779\n",
       "13. 2.68826999961774\n",
       "14. 0.720737999112595\n",
       "15. 0.86883180560223\n",
       "16. 0.699581741042647\n",
       "17. 0.741894257182543\n",
       "18. 0.741894257182543\n",
       "19. 0.720737999112595\n",
       "20. 0.847675547532282\n",
       "21. 1.37658199928098\n",
       "22. 0.805363031392386\n",
       "23. 0.741894257182543\n",
       "24. 2.39208238663847\n",
       "25. 2.94214509645711\n",
       "26. 3.44989529013586\n",
       "27. 0.784206773322438\n",
       "28. 2.85752006417732\n",
       "29. -1.01407516262312\n",
       "30. 1.48236328963071\n",
       "31. 7.08877167816688\n",
       "32. -1.11985645297286\n",
       "33. 6.3483026457187\n",
       "34. 6.94067787167724\n",
       "35. 1.48236328963071\n",
       "36. 3.25948896750633\n",
       "37. 2.18051980593899\n",
       "38. 0.953456837882021\n",
       "39. 0.826519289462334\n",
       "40. -1.03523142069307\n",
       "41. 1.6516133541903\n",
       "42. 1.27080070893124\n",
       "43. -1.58529413051171\n",
       "44. -1.58529413051171\n",
       "45. 2.26514483821878\n",
       "46. 0.953456837882021\n",
       "47. 1.56698832191051\n",
       "48. 0.699581741042647\n",
       "49. 0.699581741042647\n",
       "50. 0.763050515252491\n",
       "51. 0.763050515252491\n",
       "52. 6.91952161360729\n",
       "53. 1.77855090260998\n",
       "54. 1.92664470909962\n",
       "55. 1.67276961226024\n",
       "56. 1.03808187016181\n",
       "57. 0.953456837882021\n",
       "58. 0.953456837882021\n",
       "59. 0.763050515252491\n",
       "60. 0.763050515252491\n",
       "61. 6.68680277483787\n",
       "62. 1.05923812823176\n",
       "63. 6.91952161360729\n",
       "64. 1.67276961226024\n",
       "65. 1.71508212840014\n",
       "66. 6.94067787167724\n",
       "67. 1.39773825735092\n",
       "68. 6.94067787167724\n",
       "69. 0.763050515252491\n",
       "70. 2.68826999961774\n",
       "71. 1.73623838647009\n",
       "72. 2.49786367698821\n",
       "73. 2.49786367698821\n",
       "74. -1.01407516262312\n",
       "75. 3.13255141908664\n",
       "76. 3.0267701287369\n",
       "77. -1.03523142069307\n",
       "\n",
       "\n",
       "\n",
       "\n",
       "\n"
      ],
      "text/plain": [
       "$stats\n",
       "[1] -0.9717626 -0.3582312 -0.1678248  0.0648940  0.6784255\n",
       "\n",
       "$n\n",
       "[1] 1143\n",
       "\n",
       "$conf\n",
       "[1] -0.1875992 -0.1480505\n",
       "\n",
       "$out\n",
       " [1]  5.3751148  5.1847085  8.0408033  1.9266447 11.0661482  3.8730205\n",
       " [7] -1.0140752  5.2904897  3.7249266 11.0873045  5.7347712  2.6671137\n",
       "[13]  2.6882700  0.7207380  0.8688318  0.6995817  0.7418943  0.7418943\n",
       "[19]  0.7207380  0.8476755  1.3765820  0.8053630  0.7418943  2.3920824\n",
       "[25]  2.9421451  3.4498953  0.7842068  2.8575201 -1.0140752  1.4823633\n",
       "[31]  7.0887717 -1.1198565  6.3483026  6.9406779  1.4823633  3.2594890\n",
       "[37]  2.1805198  0.9534568  0.8265193 -1.0352314  1.6516134  1.2708007\n",
       "[43] -1.5852941 -1.5852941  2.2651448  0.9534568  1.5669883  0.6995817\n",
       "[49]  0.6995817  0.7630505  0.7630505  6.9195216  1.7785509  1.9266447\n",
       "[55]  1.6727696  1.0380819  0.9534568  0.9534568  0.7630505  0.7630505\n",
       "[61]  6.6868028  1.0592381  6.9195216  1.6727696  1.7150821  6.9406779\n",
       "[67]  1.3977383  6.9406779  0.7630505  2.6882700  1.7362384  2.4978637\n",
       "[73]  2.4978637 -1.0140752  3.1325514  3.0267701 -1.0352314\n"
      ]
     },
     "metadata": {},
     "output_type": "display_data"
    }
   ],
   "source": [
    "boxplot.stats(wine_wrangled$chlorides)"
   ]
  },
  {
   "cell_type": "markdown",
   "id": "7999a9db",
   "metadata": {},
   "source": [
    "#### Chlorides Outlier Count: 77"
   ]
  },
  {
   "cell_type": "markdown",
   "id": "7d6eeaac",
   "metadata": {},
   "source": [
    "### Volatile Acidity"
   ]
  },
  {
   "cell_type": "code",
   "execution_count": 72,
   "id": "e5035ffa",
   "metadata": {
    "vscode": {
     "languageId": "r"
    }
   },
   "outputs": [
    {
     "data": {
      "image/png": "[encoded data removed]",
      "text/plain": [
       "plot without title"
      ]
     },
     "metadata": {
      "image/png": {
       "height": 420,
       "width": 420
      }
     },
     "output_type": "display_data"
    }
   ],
   "source": [
    "bp.volatile.acidity <- ggplot(wine_wrangled, aes(x = \"\", y = volatile.acidity)) + geom_boxplot() + xlab(\"\")\n",
    "bp.volatile.acidity"
   ]
  },
  {
   "cell_type": "code",
   "execution_count": 29,
   "id": "42f4747f",
   "metadata": {
    "vscode": {
     "languageId": "r"
    }
   },
   "outputs": [
    {
     "data": {
      "text/html": [
       "<dl>\n",
       "\t<dt>$stats</dt>\n",
       "\t\t<dd><style>\n",
       ".list-inline {list-style: none; margin:0; padding: 0}\n",
       ".list-inline>li {display: inline-block}\n",
       ".list-inline>li:not(:last-child)::after {content: \"\\00b7\"; padding: 0 .5ex}\n",
       "</style>\n",
       "<ol class=list-inline><li>-2.28988070498523</li><li>-0.772900488718453</li><li>-0.0631207545018899</li><li>0.604907230643111</li><li>2.63682568545915</li></ol>\n",
       "</dd>\n",
       "\t<dt>$n</dt>\n",
       "\t\t<dd>1143</dd>\n",
       "\t<dt>$conf</dt>\n",
       "\t\t<dd><style>\n",
       ".list-inline {list-style: none; margin:0; padding: 0}\n",
       ".list-inline>li {display: inline-block}\n",
       ".list-inline>li:not(:last-child)::after {content: \"\\00b7\"; padding: 0 .5ex}\n",
       "</style>\n",
       "<ol class=list-inline><li>-0.127511371322851</li><li>0.00126986231907082</li></ol>\n",
       "</dd>\n",
       "\t<dt>$out</dt>\n",
       "\t\t<dd><style>\n",
       ".list-inline {list-style: none; margin:0; padding: 0}\n",
       ".list-inline>li {display: inline-block}\n",
       ".list-inline>li:not(:last-child)::after {content: \"\\00b7\"; padding: 0 .5ex}\n",
       "</style>\n",
       "<ol class=list-inline><li>2.72032918360228</li><li>2.9986741774127</li><li>4.44606814522686</li><li>4.44606814522686</li><li>2.83166718112645</li><li>3.11001217493686</li><li>2.83166718112645</li><li>2.72032918360228</li><li>2.8038326817454</li><li>2.74816368298332</li><li>2.72032918360228</li><li>5.83779311427895</li><li>3.61103316379561</li><li>2.83166718112645</li></ol>\n",
       "</dd>\n",
       "</dl>\n"
      ],
      "text/latex": [
       "\\begin{description}\n",
       "\\item[\\$stats] \\begin{enumerate*}\n",
       "\\item -2.28988070498523\n",
       "\\item -0.772900488718453\n",
       "\\item -0.0631207545018899\n",
       "\\item 0.604907230643111\n",
       "\\item 2.63682568545915\n",
       "\\end{enumerate*}\n",
       "\n",
       "\\item[\\$n] 1143\n",
       "\\item[\\$conf] \\begin{enumerate*}\n",
       "\\item -0.127511371322851\n",
       "\\item 0.00126986231907082\n",
       "\\end{enumerate*}\n",
       "\n",
       "\\item[\\$out] \\begin{enumerate*}\n",
       "\\item 2.72032918360228\n",
       "\\item 2.9986741774127\n",
       "\\item 4.44606814522686\n",
       "\\item 4.44606814522686\n",
       "\\item 2.83166718112645\n",
       "\\item 3.11001217493686\n",
       "\\item 2.83166718112645\n",
       "\\item 2.72032918360228\n",
       "\\item 2.8038326817454\n",
       "\\item 2.74816368298332\n",
       "\\item 2.72032918360228\n",
       "\\item 5.83779311427895\n",
       "\\item 3.61103316379561\n",
       "\\item 2.83166718112645\n",
       "\\end{enumerate*}\n",
       "\n",
       "\\end{description}\n"
      ],
      "text/markdown": [
       "$stats\n",
       ":   1. -2.28988070498523\n",
       "2. -0.772900488718453\n",
       "3. -0.0631207545018899\n",
       "4. 0.604907230643111\n",
       "5. 2.63682568545915\n",
       "\n",
       "\n",
       "\n",
       "$n\n",
       ":   1143\n",
       "$conf\n",
       ":   1. -0.127511371322851\n",
       "2. 0.00126986231907082\n",
       "\n",
       "\n",
       "\n",
       "$out\n",
       ":   1. 2.72032918360228\n",
       "2. 2.9986741774127\n",
       "3. 4.44606814522686\n",
       "4. 4.44606814522686\n",
       "5. 2.83166718112645\n",
       "6. 3.11001217493686\n",
       "7. 2.83166718112645\n",
       "8. 2.72032918360228\n",
       "9. 2.8038326817454\n",
       "10. 2.74816368298332\n",
       "11. 2.72032918360228\n",
       "12. 5.83779311427895\n",
       "13. 3.61103316379561\n",
       "14. 2.83166718112645\n",
       "\n",
       "\n",
       "\n",
       "\n",
       "\n"
      ],
      "text/plain": [
       "$stats\n",
       "[1] -2.28988070 -0.77290049 -0.06312075  0.60490723  2.63682569\n",
       "\n",
       "$n\n",
       "[1] 1143\n",
       "\n",
       "$conf\n",
       "[1] -0.127511371  0.001269862\n",
       "\n",
       "$out\n",
       " [1] 2.720329 2.998674 4.446068 4.446068 2.831667 3.110012 2.831667 2.720329\n",
       " [9] 2.803833 2.748164 2.720329 5.837793 3.611033 2.831667\n"
      ]
     },
     "metadata": {},
     "output_type": "display_data"
    }
   ],
   "source": [
    "boxplot.stats(wine_wrangled$volatile.acidity)"
   ]
  },
  {
   "cell_type": "markdown",
   "id": "3a596dbc",
   "metadata": {},
   "source": [
    "#### Volatile Acidity Outliers Count: 14"
   ]
  },
  {
   "cell_type": "markdown",
   "id": "c8dc8d57",
   "metadata": {},
   "source": [
    "### pH"
   ]
  },
  {
   "cell_type": "code",
   "execution_count": 73,
   "id": "b7700a18",
   "metadata": {
    "vscode": {
     "languageId": "r"
    }
   },
   "outputs": [
    {
     "data": {
      "image/png": "[encoded data removed]",
      "text/plain": [
       "plot without title"
      ]
     },
     "metadata": {
      "image/png": {
       "height": 420,
       "width": 420
      }
     },
     "output_type": "display_data"
    }
   ],
   "source": [
    "bp.ph <- ggplot(wine_wrangled, aes(x = \"\", y = pH)) + geom_boxplot() + xlab(\"\")\n",
    "bp.ph"
   ]
  },
  {
   "cell_type": "code",
   "execution_count": 116,
   "id": "279b8dcd",
   "metadata": {
    "vscode": {
     "languageId": "r"
    }
   },
   "outputs": [
    {
     "data": {
      "text/html": [
       "<dl>\n",
       "\t<dt>$stats</dt>\n",
       "\t\t<dd><style>\n",
       ".list-inline {list-style: none; margin:0; padding: 0}\n",
       ".list-inline>li {display: inline-block}\n",
       ".list-inline>li:not(:last-child)::after {content: \"\\00b7\"; padding: 0 .5ex}\n",
       "</style>\n",
       "<ol class=list-inline><li>-2.495881146627</li><li>-0.676701939772508</li><li>-0.00647802145769478</li><li>0.567999622812145</li><li>2.4190942543483</li></ol>\n",
       "</dd>\n",
       "\t<dt>$n</dt>\n",
       "\t\t<dd>1143</dd>\n",
       "\t<dt>$conf</dt>\n",
       "\t\t<dd><style>\n",
       ".list-inline {list-style: none; margin:0; padding: 0}\n",
       ".list-inline>li {display: inline-block}\n",
       ".list-inline>li:not(:last-child)::after {content: \"\\00b7\"; padding: 0 .5ex}\n",
       "</style>\n",
       "<ol class=list-inline><li>-0.0646480405732629</li><li>0.0516919976578733</li></ol>\n",
       "</dd>\n",
       "\t<dt>$out</dt>\n",
       "\t\t<dd><style>\n",
       ".list-inline {list-style: none; margin:0; padding: 0}\n",
       ".list-inline>li {display: inline-block}\n",
       ".list-inline>li:not(:last-child)::after {content: \"\\00b7\"; padding: 0 .5ex}\n",
       "</style>\n",
       "<ol class=list-inline><li>3.75954209097792</li><li>2.80207935052819</li><li>-3.64483643516668</li><li>-2.75120454408027</li><li>-2.8788662428069</li><li>2.73824850116488</li><li>2.61058680243825</li><li>-2.68737369471695</li><li>-2.68737369471695</li><li>3.75954209097792</li><li>2.54675595307493</li><li>-2.68737369471695</li><li>2.99357189861814</li><li>2.48292510371161</li><li>2.99357189861814</li><li>4.4616814339744</li><li>-2.62354284535364</li><li>4.4616814339744</li><li>-2.75120454408027</li><li>2.61058680243825</li></ol>\n",
       "</dd>\n",
       "</dl>\n"
      ],
      "text/latex": [
       "\\begin{description}\n",
       "\\item[\\$stats] \\begin{enumerate*}\n",
       "\\item -2.495881146627\n",
       "\\item -0.676701939772508\n",
       "\\item -0.00647802145769478\n",
       "\\item 0.567999622812145\n",
       "\\item 2.4190942543483\n",
       "\\end{enumerate*}\n",
       "\n",
       "\\item[\\$n] 1143\n",
       "\\item[\\$conf] \\begin{enumerate*}\n",
       "\\item -0.0646480405732629\n",
       "\\item 0.0516919976578733\n",
       "\\end{enumerate*}\n",
       "\n",
       "\\item[\\$out] \\begin{enumerate*}\n",
       "\\item 3.75954209097792\n",
       "\\item 2.80207935052819\n",
       "\\item -3.64483643516668\n",
       "\\item -2.75120454408027\n",
       "\\item -2.8788662428069\n",
       "\\item 2.73824850116488\n",
       "\\item 2.61058680243825\n",
       "\\item -2.68737369471695\n",
       "\\item -2.68737369471695\n",
       "\\item 3.75954209097792\n",
       "\\item 2.54675595307493\n",
       "\\item -2.68737369471695\n",
       "\\item 2.99357189861814\n",
       "\\item 2.48292510371161\n",
       "\\item 2.99357189861814\n",
       "\\item 4.4616814339744\n",
       "\\item -2.62354284535364\n",
       "\\item 4.4616814339744\n",
       "\\item -2.75120454408027\n",
       "\\item 2.61058680243825\n",
       "\\end{enumerate*}\n",
       "\n",
       "\\end{description}\n"
      ],
      "text/markdown": [
       "$stats\n",
       ":   1. -2.495881146627\n",
       "2. -0.676701939772508\n",
       "3. -0.00647802145769478\n",
       "4. 0.567999622812145\n",
       "5. 2.4190942543483\n",
       "\n",
       "\n",
       "\n",
       "$n\n",
       ":   1143\n",
       "$conf\n",
       ":   1. -0.0646480405732629\n",
       "2. 0.0516919976578733\n",
       "\n",
       "\n",
       "\n",
       "$out\n",
       ":   1. 3.75954209097792\n",
       "2. 2.80207935052819\n",
       "3. -3.64483643516668\n",
       "4. -2.75120454408027\n",
       "5. -2.8788662428069\n",
       "6. 2.73824850116488\n",
       "7. 2.61058680243825\n",
       "8. -2.68737369471695\n",
       "9. -2.68737369471695\n",
       "10. 3.75954209097792\n",
       "11. 2.54675595307493\n",
       "12. -2.68737369471695\n",
       "13. 2.99357189861814\n",
       "14. 2.48292510371161\n",
       "15. 2.99357189861814\n",
       "16. 4.4616814339744\n",
       "17. -2.62354284535364\n",
       "18. 4.4616814339744\n",
       "19. -2.75120454408027\n",
       "20. 2.61058680243825\n",
       "\n",
       "\n",
       "\n",
       "\n",
       "\n"
      ],
      "text/plain": [
       "$stats\n",
       "[1] -2.495881147 -0.676701940 -0.006478021  0.567999623  2.419094254\n",
       "\n",
       "$n\n",
       "[1] 1143\n",
       "\n",
       "$conf\n",
       "[1] -0.06464804  0.05169200\n",
       "\n",
       "$out\n",
       " [1]  3.759542  2.802079 -3.644836 -2.751205 -2.878866  2.738249  2.610587\n",
       " [8] -2.687374 -2.687374  3.759542  2.546756 -2.687374  2.993572  2.482925\n",
       "[15]  2.993572  4.461681 -2.623543  4.461681 -2.751205  2.610587\n"
      ]
     },
     "metadata": {},
     "output_type": "display_data"
    }
   ],
   "source": [
    "boxplot.stats(wine_wrangled$pH)"
   ]
  },
  {
   "cell_type": "markdown",
   "id": "ae32acb9",
   "metadata": {},
   "source": [
    "#### pH Outliers Count: 20"
   ]
  },
  {
   "cell_type": "markdown",
   "id": "b86eb5a2",
   "metadata": {},
   "source": [
    "## Graphing the Relationship of the Variables with Quality"
   ]
  },
  {
   "cell_type": "code",
   "execution_count": 74,
   "id": "917e6efb",
   "metadata": {
    "vscode": {
     "languageId": "r"
    }
   },
   "outputs": [
    {
     "data": {
      "text/html": [
       "<table class=\"dataframe\">\n",
       "<caption>A data.frame: 3 × 2</caption>\n",
       "<thead>\n",
       "\t<tr><th scope=col>Group.1</th><th scope=col>x</th></tr>\n",
       "\t<tr><th scope=col>&lt;dbl&gt;</th><th scope=col>&lt;dbl&gt;</th></tr>\n",
       "</thead>\n",
       "<tbody>\n",
       "\t<tr><td>0</td><td> 1.10806933</td></tr>\n",
       "\t<tr><td>1</td><td> 0.08167755</td></tr>\n",
       "\t<tr><td>2</td><td>-0.75723264</td></tr>\n",
       "</tbody>\n",
       "</table>\n"
      ],
      "text/latex": [
       "A data.frame: 3 × 2\n",
       "\\begin{tabular}{ll}\n",
       " Group.1 & x\\\\\n",
       " <dbl> & <dbl>\\\\\n",
       "\\hline\n",
       "\t 0 &  1.10806933\\\\\n",
       "\t 1 &  0.08167755\\\\\n",
       "\t 2 & -0.75723264\\\\\n",
       "\\end{tabular}\n"
      ],
      "text/markdown": [
       "\n",
       "A data.frame: 3 × 2\n",
       "\n",
       "| Group.1 &lt;dbl&gt; | x &lt;dbl&gt; |\n",
       "|---|---|\n",
       "| 0 |  1.10806933 |\n",
       "| 1 |  0.08167755 |\n",
       "| 2 | -0.75723264 |\n",
       "\n"
      ],
      "text/plain": [
       "  Group.1 x          \n",
       "1 0        1.10806933\n",
       "2 1        0.08167755\n",
       "3 2       -0.75723264"
      ]
     },
     "metadata": {},
     "output_type": "display_data"
    }
   ],
   "source": [
    "aggregate(x = wine_wrangled$volatile.acidity, by = list(wine_wrangled$quality), FUN = mean) "
   ]
  },
  {
   "cell_type": "code",
   "execution_count": 75,
   "id": "0e16130b",
   "metadata": {
    "scrolled": true,
    "vscode": {
     "languageId": "r"
    }
   },
   "outputs": [
    {
     "data": {
      "image/png": "[encoded data removed]",
      "text/plain": [
       "plot without title"
      ]
     },
     "metadata": {
      "image/png": {
       "height": 420,
       "width": 420
      }
     },
     "output_type": "display_data"
    }
   ],
   "source": [
    "boxplot(wine_wrangled)"
   ]
  },
  {
   "cell_type": "code",
   "execution_count": 76,
   "id": "67d79dfb",
   "metadata": {
    "vscode": {
     "languageId": "r"
    }
   },
   "outputs": [
    {
     "data": {
      "image/png": "[encoded data removed]",
      "text/plain": [
       "plot without title"
      ]
     },
     "metadata": {
      "image/png": {
       "height": 420,
       "width": 420
      }
     },
     "output_type": "display_data"
    }
   ],
   "source": [
    "ggplot(stack(wine_wrangled), aes(x = ind, y = values))+\n",
    "  geom_boxplot(fill='rosybrown', color=\"darkred\") +\n",
    "  coord_flip()"
   ]
  },
  {
   "cell_type": "markdown",
   "id": "ccde3166",
   "metadata": {},
   "source": [
    "## Remove Outliers"
   ]
  },
  {
   "cell_type": "markdown",
   "id": "0ba3a777",
   "metadata": {},
   "source": [
    "### Chlorides"
   ]
  },
  {
   "cell_type": "code",
   "execution_count": 77,
   "id": "7d2b8bc8",
   "metadata": {
    "vscode": {
     "languageId": "r"
    }
   },
   "outputs": [],
   "source": [
    "chloride.Q1 <- quantile(wine_wrangled$chlorides, .25)\n",
    "chloride.Q3 <- quantile(wine_wrangled$chlorides, .75)\n",
    "chloride.IQR <- IQR(wine_wrangled$chlorides)"
   ]
  },
  {
   "cell_type": "code",
   "execution_count": 78,
   "id": "823443f7",
   "metadata": {
    "vscode": {
     "languageId": "r"
    }
   },
   "outputs": [],
   "source": [
    "no.chlorides.outliers <- subset(wine_wrangled, wine_wrangled$chlorides > (chloride.Q1 - 1.5*chloride.IQR) \n",
    "                                & wine_wrangled$chlorides < (chloride.Q3 + 1.5*chloride.IQR))"
   ]
  },
  {
   "cell_type": "code",
   "execution_count": 79,
   "id": "7a97dfb2",
   "metadata": {
    "vscode": {
     "languageId": "r"
    }
   },
   "outputs": [
    {
     "data": {
      "image/png": "[encoded data removed]",
      "text/plain": [
       "plot without title"
      ]
     },
     "metadata": {
      "image/png": {
       "height": 420,
       "width": 420
      }
     },
     "output_type": "display_data"
    }
   ],
   "source": [
    "boxplot(no.chlorides.outliers)"
   ]
  },
  {
   "cell_type": "markdown",
   "id": "7f8f000a",
   "metadata": {},
   "source": [
    "### Recheck Outlier Count"
   ]
  },
  {
   "cell_type": "markdown",
   "id": "0082b93b",
   "metadata": {},
   "source": [
    "#### pH"
   ]
  },
  {
   "cell_type": "code",
   "execution_count": 80,
   "id": "06a4cf31",
   "metadata": {
    "vscode": {
     "languageId": "r"
    }
   },
   "outputs": [
    {
     "data": {
      "text/html": [
       "<dl>\n",
       "\t<dt>$stats</dt>\n",
       "\t\t<dd><style>\n",
       ".list-inline {list-style: none; margin:0; padding: 0}\n",
       ".list-inline>li {display: inline-block}\n",
       ".list-inline>li:not(:last-child)::after {content: \"\\00b7\"; padding: 0 .5ex}\n",
       "</style>\n",
       "<ol class=list-inline><li>-2.43205029726369</li><li>-0.644786515090851</li><li>0.0573528279056195</li><li>0.567999622812145</li><li>2.35526340498498</li></ol>\n",
       "</dd>\n",
       "\t<dt>$n</dt>\n",
       "\t\t<dd>1066</dd>\n",
       "\t<dt>$conf</dt>\n",
       "\t\t<dd><style>\n",
       ".list-inline {list-style: none; margin:0; padding: 0}\n",
       ".list-inline>li {display: inline-block}\n",
       ".list-inline>li:not(:last-child)::after {content: \"\\00b7\"; padding: 0 .5ex}\n",
       "</style>\n",
       "<ol class=list-inline><li>-0.00133698282525775</li><li>0.116042638636497</li></ol>\n",
       "</dd>\n",
       "\t<dt>$out</dt>\n",
       "\t\t<dd><style>\n",
       ".list-inline {list-style: none; margin:0; padding: 0}\n",
       ".list-inline>li {display: inline-block}\n",
       ".list-inline>li:not(:last-child)::after {content: \"\\00b7\"; padding: 0 .5ex}\n",
       "</style>\n",
       "<ol class=list-inline><li>3.75954209097792</li><li>2.80207935052819</li><li>2.4190942543483</li><li>2.4190942543483</li><li>-2.75120454408027</li><li>-2.8788662428069</li><li>2.73824850116488</li><li>-2.495881146627</li><li>-2.495881146627</li><li>2.61058680243825</li><li>-2.68737369471695</li><li>-2.68737369471695</li><li>-2.495881146627</li><li>2.54675595307493</li><li>2.4190942543483</li><li>-2.68737369471695</li><li>2.99357189861814</li><li>2.48292510371161</li><li>2.99357189861814</li><li>4.4616814339744</li><li>4.4616814339744</li><li>-2.75120454408027</li><li>2.61058680243825</li></ol>\n",
       "</dd>\n",
       "</dl>\n"
      ],
      "text/latex": [
       "\\begin{description}\n",
       "\\item[\\$stats] \\begin{enumerate*}\n",
       "\\item -2.43205029726369\n",
       "\\item -0.644786515090851\n",
       "\\item 0.0573528279056195\n",
       "\\item 0.567999622812145\n",
       "\\item 2.35526340498498\n",
       "\\end{enumerate*}\n",
       "\n",
       "\\item[\\$n] 1066\n",
       "\\item[\\$conf] \\begin{enumerate*}\n",
       "\\item -0.00133698282525775\n",
       "\\item 0.116042638636497\n",
       "\\end{enumerate*}\n",
       "\n",
       "\\item[\\$out] \\begin{enumerate*}\n",
       "\\item 3.75954209097792\n",
       "\\item 2.80207935052819\n",
       "\\item 2.4190942543483\n",
       "\\item 2.4190942543483\n",
       "\\item -2.75120454408027\n",
       "\\item -2.8788662428069\n",
       "\\item 2.73824850116488\n",
       "\\item -2.495881146627\n",
       "\\item -2.495881146627\n",
       "\\item 2.61058680243825\n",
       "\\item -2.68737369471695\n",
       "\\item -2.68737369471695\n",
       "\\item -2.495881146627\n",
       "\\item 2.54675595307493\n",
       "\\item 2.4190942543483\n",
       "\\item -2.68737369471695\n",
       "\\item 2.99357189861814\n",
       "\\item 2.48292510371161\n",
       "\\item 2.99357189861814\n",
       "\\item 4.4616814339744\n",
       "\\item 4.4616814339744\n",
       "\\item -2.75120454408027\n",
       "\\item 2.61058680243825\n",
       "\\end{enumerate*}\n",
       "\n",
       "\\end{description}\n"
      ],
      "text/markdown": [
       "$stats\n",
       ":   1. -2.43205029726369\n",
       "2. -0.644786515090851\n",
       "3. 0.0573528279056195\n",
       "4. 0.567999622812145\n",
       "5. 2.35526340498498\n",
       "\n",
       "\n",
       "\n",
       "$n\n",
       ":   1066\n",
       "$conf\n",
       ":   1. -0.00133698282525775\n",
       "2. 0.116042638636497\n",
       "\n",
       "\n",
       "\n",
       "$out\n",
       ":   1. 3.75954209097792\n",
       "2. 2.80207935052819\n",
       "3. 2.4190942543483\n",
       "4. 2.4190942543483\n",
       "5. -2.75120454408027\n",
       "6. -2.8788662428069\n",
       "7. 2.73824850116488\n",
       "8. -2.495881146627\n",
       "9. -2.495881146627\n",
       "10. 2.61058680243825\n",
       "11. -2.68737369471695\n",
       "12. -2.68737369471695\n",
       "13. -2.495881146627\n",
       "14. 2.54675595307493\n",
       "15. 2.4190942543483\n",
       "16. -2.68737369471695\n",
       "17. 2.99357189861814\n",
       "18. 2.48292510371161\n",
       "19. 2.99357189861814\n",
       "20. 4.4616814339744\n",
       "21. 4.4616814339744\n",
       "22. -2.75120454408027\n",
       "23. 2.61058680243825\n",
       "\n",
       "\n",
       "\n",
       "\n",
       "\n"
      ],
      "text/plain": [
       "$stats\n",
       "[1] -2.43205030 -0.64478652  0.05735283  0.56799962  2.35526340\n",
       "\n",
       "$n\n",
       "[1] 1066\n",
       "\n",
       "$conf\n",
       "[1] -0.001336983  0.116042639\n",
       "\n",
       "$out\n",
       " [1]  3.759542  2.802079  2.419094  2.419094 -2.751205 -2.878866  2.738249\n",
       " [8] -2.495881 -2.495881  2.610587 -2.687374 -2.687374 -2.495881  2.546756\n",
       "[15]  2.419094 -2.687374  2.993572  2.482925  2.993572  4.461681  4.461681\n",
       "[22] -2.751205  2.610587\n"
      ]
     },
     "metadata": {},
     "output_type": "display_data"
    }
   ],
   "source": [
    "boxplot.stats(no.chlorides.outliers$pH)"
   ]
  },
  {
   "cell_type": "markdown",
   "id": "d5266b8b",
   "metadata": {},
   "source": [
    "#### Volatile Acidity"
   ]
  },
  {
   "cell_type": "code",
   "execution_count": 38,
   "id": "ff7cf1d4",
   "metadata": {
    "vscode": {
     "languageId": "r"
    }
   },
   "outputs": [
    {
     "data": {
      "text/html": [
       "<dl>\n",
       "\t<dt>$stats</dt>\n",
       "\t\t<dd><style>\n",
       ".list-inline {list-style: none; margin:0; padding: 0}\n",
       ".list-inline>li {display: inline-block}\n",
       ".list-inline>li:not(:last-child)::after {content: \"\\00b7\"; padding: 0 .5ex}\n",
       "</style>\n",
       "<ol class=list-inline><li>-2.28988070498523</li><li>-0.786817738408974</li><li>-0.0631207545018899</li><li>0.604907230643111</li><li>2.63682568545915</li></ol>\n",
       "</dd>\n",
       "\t<dt>$n</dt>\n",
       "\t\t<dd>1066</dd>\n",
       "\t<dt>$conf</dt>\n",
       "\t\t<dd><style>\n",
       ".list-inline {list-style: none; margin:0; padding: 0}\n",
       ".list-inline>li {display: inline-block}\n",
       ".list-inline>li:not(:last-child)::after {content: \"\\00b7\"; padding: 0 .5ex}\n",
       "</style>\n",
       "<ol class=list-inline><li>-0.130469871110639</li><li>0.00422836210685877</li></ol>\n",
       "</dd>\n",
       "\t<dt>$out</dt>\n",
       "\t\t<dd><style>\n",
       ".list-inline {list-style: none; margin:0; padding: 0}\n",
       ".list-inline>li {display: inline-block}\n",
       ".list-inline>li:not(:last-child)::after {content: \"\\00b7\"; padding: 0 .5ex}\n",
       "</style>\n",
       "<ol class=list-inline><li>2.72032918360228</li><li>4.44606814522686</li><li>4.44606814522686</li><li>2.83166718112645</li><li>3.11001217493686</li><li>2.83166718112645</li><li>2.72032918360228</li><li>2.8038326817454</li><li>2.74816368298332</li><li>2.72032918360228</li><li>3.61103316379561</li><li>2.83166718112645</li></ol>\n",
       "</dd>\n",
       "</dl>\n"
      ],
      "text/latex": [
       "\\begin{description}\n",
       "\\item[\\$stats] \\begin{enumerate*}\n",
       "\\item -2.28988070498523\n",
       "\\item -0.786817738408974\n",
       "\\item -0.0631207545018899\n",
       "\\item 0.604907230643111\n",
       "\\item 2.63682568545915\n",
       "\\end{enumerate*}\n",
       "\n",
       "\\item[\\$n] 1066\n",
       "\\item[\\$conf] \\begin{enumerate*}\n",
       "\\item -0.130469871110639\n",
       "\\item 0.00422836210685877\n",
       "\\end{enumerate*}\n",
       "\n",
       "\\item[\\$out] \\begin{enumerate*}\n",
       "\\item 2.72032918360228\n",
       "\\item 4.44606814522686\n",
       "\\item 4.44606814522686\n",
       "\\item 2.83166718112645\n",
       "\\item 3.11001217493686\n",
       "\\item 2.83166718112645\n",
       "\\item 2.72032918360228\n",
       "\\item 2.8038326817454\n",
       "\\item 2.74816368298332\n",
       "\\item 2.72032918360228\n",
       "\\item 3.61103316379561\n",
       "\\item 2.83166718112645\n",
       "\\end{enumerate*}\n",
       "\n",
       "\\end{description}\n"
      ],
      "text/markdown": [
       "$stats\n",
       ":   1. -2.28988070498523\n",
       "2. -0.786817738408974\n",
       "3. -0.0631207545018899\n",
       "4. 0.604907230643111\n",
       "5. 2.63682568545915\n",
       "\n",
       "\n",
       "\n",
       "$n\n",
       ":   1066\n",
       "$conf\n",
       ":   1. -0.130469871110639\n",
       "2. 0.00422836210685877\n",
       "\n",
       "\n",
       "\n",
       "$out\n",
       ":   1. 2.72032918360228\n",
       "2. 4.44606814522686\n",
       "3. 4.44606814522686\n",
       "4. 2.83166718112645\n",
       "5. 3.11001217493686\n",
       "6. 2.83166718112645\n",
       "7. 2.72032918360228\n",
       "8. 2.8038326817454\n",
       "9. 2.74816368298332\n",
       "10. 2.72032918360228\n",
       "11. 3.61103316379561\n",
       "12. 2.83166718112645\n",
       "\n",
       "\n",
       "\n",
       "\n",
       "\n"
      ],
      "text/plain": [
       "$stats\n",
       "[1] -2.28988070 -0.78681774 -0.06312075  0.60490723  2.63682569\n",
       "\n",
       "$n\n",
       "[1] 1066\n",
       "\n",
       "$conf\n",
       "[1] -0.130469871  0.004228362\n",
       "\n",
       "$out\n",
       " [1] 2.720329 4.446068 4.446068 2.831667 3.110012 2.831667 2.720329 2.803833\n",
       " [9] 2.748164 2.720329 3.611033 2.831667\n"
      ]
     },
     "metadata": {},
     "output_type": "display_data"
    }
   ],
   "source": [
    "boxplot.stats(no.chlorides.outliers$volatile.acidity)"
   ]
  },
  {
   "cell_type": "markdown",
   "id": "9046d3ce",
   "metadata": {},
   "source": [
    "#### Density"
   ]
  },
  {
   "cell_type": "code",
   "execution_count": 81,
   "id": "5e9cd89c",
   "metadata": {
    "vscode": {
     "languageId": "r"
    }
   },
   "outputs": [],
   "source": [
    "density_Q1 <- quantile(no.chlorides.outliers$density, .25)\n",
    "density_Q3 <- quantile(no.chlorides.outliers$density, .75)\n",
    "density_IQR <- IQR(no.chlorides.outliers$density)"
   ]
  },
  {
   "cell_type": "code",
   "execution_count": 82,
   "id": "f4a3e988",
   "metadata": {
    "vscode": {
     "languageId": "r"
    }
   },
   "outputs": [],
   "source": [
    "no_outliers_cd <- subset(no.chlorides.outliers, no.chlorides.outliers$density > (density_Q1 - 1.5*density_IQR) & \n",
    "                         no.chlorides.outliers$density < (density_Q3 + 1.5*density_IQR))"
   ]
  },
  {
   "cell_type": "code",
   "execution_count": 41,
   "id": "8c24a921",
   "metadata": {
    "vscode": {
     "languageId": "r"
    }
   },
   "outputs": [
    {
     "data": {
      "image/png": "[encoded data removed]",
      "text/plain": [
       "plot without title"
      ]
     },
     "metadata": {
      "image/png": {
       "height": 420,
       "width": 420
      }
     },
     "output_type": "display_data"
    }
   ],
   "source": [
    "boxplot(no_outliers_cd)"
   ]
  },
  {
   "cell_type": "markdown",
   "id": "ecc20435",
   "metadata": {},
   "source": [
    "### Recount Outliers"
   ]
  },
  {
   "cell_type": "code",
   "execution_count": 83,
   "id": "c786fed7",
   "metadata": {
    "vscode": {
     "languageId": "r"
    }
   },
   "outputs": [
    {
     "data": {
      "text/html": [
       "<dl>\n",
       "\t<dt>$stats</dt>\n",
       "\t\t<dd><style>\n",
       ".list-inline {list-style: none; margin:0; padding: 0}\n",
       ".list-inline>li {display: inline-block}\n",
       ".list-inline>li:not(:last-child)::after {content: \"\\00b7\"; padding: 0 .5ex}\n",
       "</style>\n",
       "<ol class=list-inline><li>-2.28988070498523</li><li>-0.786817738408974</li><li>-0.0631207545018899</li><li>0.604907230643111</li><li>2.63682568545915</li></ol>\n",
       "</dd>\n",
       "\t<dt>$n</dt>\n",
       "\t\t<dd>1037</dd>\n",
       "\t<dt>$conf</dt>\n",
       "\t\t<dd><style>\n",
       ".list-inline {list-style: none; margin:0; padding: 0}\n",
       ".list-inline>li {display: inline-block}\n",
       ".list-inline>li:not(:last-child)::after {content: \"\\00b7\"; padding: 0 .5ex}\n",
       "</style>\n",
       "<ol class=list-inline><li>-0.131405096337541</li><li>0.00516358733376149</li></ol>\n",
       "</dd>\n",
       "\t<dt>$out</dt>\n",
       "\t\t<dd><style>\n",
       ".list-inline {list-style: none; margin:0; padding: 0}\n",
       ".list-inline>li {display: inline-block}\n",
       ".list-inline>li:not(:last-child)::after {content: \"\\00b7\"; padding: 0 .5ex}\n",
       "</style>\n",
       "<ol class=list-inline><li>2.72032918360228</li><li>4.44606814522686</li><li>4.44606814522686</li><li>2.83166718112645</li><li>3.11001217493686</li><li>2.83166718112645</li><li>2.72032918360228</li><li>2.8038326817454</li><li>2.74816368298332</li><li>2.72032918360228</li><li>3.61103316379561</li><li>2.83166718112645</li></ol>\n",
       "</dd>\n",
       "</dl>\n"
      ],
      "text/latex": [
       "\\begin{description}\n",
       "\\item[\\$stats] \\begin{enumerate*}\n",
       "\\item -2.28988070498523\n",
       "\\item -0.786817738408974\n",
       "\\item -0.0631207545018899\n",
       "\\item 0.604907230643111\n",
       "\\item 2.63682568545915\n",
       "\\end{enumerate*}\n",
       "\n",
       "\\item[\\$n] 1037\n",
       "\\item[\\$conf] \\begin{enumerate*}\n",
       "\\item -0.131405096337541\n",
       "\\item 0.00516358733376149\n",
       "\\end{enumerate*}\n",
       "\n",
       "\\item[\\$out] \\begin{enumerate*}\n",
       "\\item 2.72032918360228\n",
       "\\item 4.44606814522686\n",
       "\\item 4.44606814522686\n",
       "\\item 2.83166718112645\n",
       "\\item 3.11001217493686\n",
       "\\item 2.83166718112645\n",
       "\\item 2.72032918360228\n",
       "\\item 2.8038326817454\n",
       "\\item 2.74816368298332\n",
       "\\item 2.72032918360228\n",
       "\\item 3.61103316379561\n",
       "\\item 2.83166718112645\n",
       "\\end{enumerate*}\n",
       "\n",
       "\\end{description}\n"
      ],
      "text/markdown": [
       "$stats\n",
       ":   1. -2.28988070498523\n",
       "2. -0.786817738408974\n",
       "3. -0.0631207545018899\n",
       "4. 0.604907230643111\n",
       "5. 2.63682568545915\n",
       "\n",
       "\n",
       "\n",
       "$n\n",
       ":   1037\n",
       "$conf\n",
       ":   1. -0.131405096337541\n",
       "2. 0.00516358733376149\n",
       "\n",
       "\n",
       "\n",
       "$out\n",
       ":   1. 2.72032918360228\n",
       "2. 4.44606814522686\n",
       "3. 4.44606814522686\n",
       "4. 2.83166718112645\n",
       "5. 3.11001217493686\n",
       "6. 2.83166718112645\n",
       "7. 2.72032918360228\n",
       "8. 2.8038326817454\n",
       "9. 2.74816368298332\n",
       "10. 2.72032918360228\n",
       "11. 3.61103316379561\n",
       "12. 2.83166718112645\n",
       "\n",
       "\n",
       "\n",
       "\n",
       "\n"
      ],
      "text/plain": [
       "$stats\n",
       "[1] -2.28988070 -0.78681774 -0.06312075  0.60490723  2.63682569\n",
       "\n",
       "$n\n",
       "[1] 1037\n",
       "\n",
       "$conf\n",
       "[1] -0.131405096  0.005163587\n",
       "\n",
       "$out\n",
       " [1] 2.720329 4.446068 4.446068 2.831667 3.110012 2.831667 2.720329 2.803833\n",
       " [9] 2.748164 2.720329 3.611033 2.831667\n"
      ]
     },
     "metadata": {},
     "output_type": "display_data"
    }
   ],
   "source": [
    "boxplot.stats(no_outliers_cd$volatile.acidity)"
   ]
  },
  {
   "cell_type": "code",
   "execution_count": 84,
   "id": "5756296b",
   "metadata": {
    "vscode": {
     "languageId": "r"
    }
   },
   "outputs": [
    {
     "data": {
      "text/html": [
       "<dl>\n",
       "\t<dt>$stats</dt>\n",
       "\t\t<dd><style>\n",
       ".list-inline {list-style: none; margin:0; padding: 0}\n",
       ".list-inline>li {display: inline-block}\n",
       ".list-inline>li:not(:last-child)::after {content: \"\\00b7\"; padding: 0 .5ex}\n",
       "</style>\n",
       "<ol class=list-inline><li>-2.43205029726369</li><li>-0.644786515090851</li><li>0.0573528279056195</li><li>0.567999622812145</li><li>2.35526340498498</li></ol>\n",
       "</dd>\n",
       "\t<dt>$n</dt>\n",
       "\t\t<dd>1037</dd>\n",
       "\t<dt>$conf</dt>\n",
       "\t\t<dd><style>\n",
       ".list-inline {list-style: none; margin:0; padding: 0}\n",
       ".list-inline>li {display: inline-block}\n",
       ".list-inline>li:not(:last-child)::after {content: \"\\00b7\"; padding: 0 .5ex}\n",
       "</style>\n",
       "<ol class=list-inline><li>-0.00215196295152317</li><li>0.116857618762762</li></ol>\n",
       "</dd>\n",
       "\t<dt>$out</dt>\n",
       "\t\t<dd><style>\n",
       ".list-inline {list-style: none; margin:0; padding: 0}\n",
       ".list-inline>li {display: inline-block}\n",
       ".list-inline>li:not(:last-child)::after {content: \"\\00b7\"; padding: 0 .5ex}\n",
       "</style>\n",
       "<ol class=list-inline><li>3.75954209097792</li><li>2.80207935052819</li><li>2.4190942543483</li><li>2.4190942543483</li><li>-2.75120454408027</li><li>-2.8788662428069</li><li>2.73824850116488</li><li>-2.68737369471695</li><li>-2.68737369471695</li><li>-2.495881146627</li><li>2.4190942543483</li><li>2.99357189861814</li><li>2.99357189861814</li><li>4.4616814339744</li><li>4.4616814339744</li><li>-2.75120454408027</li><li>2.61058680243825</li></ol>\n",
       "</dd>\n",
       "</dl>\n"
      ],
      "text/latex": [
       "\\begin{description}\n",
       "\\item[\\$stats] \\begin{enumerate*}\n",
       "\\item -2.43205029726369\n",
       "\\item -0.644786515090851\n",
       "\\item 0.0573528279056195\n",
       "\\item 0.567999622812145\n",
       "\\item 2.35526340498498\n",
       "\\end{enumerate*}\n",
       "\n",
       "\\item[\\$n] 1037\n",
       "\\item[\\$conf] \\begin{enumerate*}\n",
       "\\item -0.00215196295152317\n",
       "\\item 0.116857618762762\n",
       "\\end{enumerate*}\n",
       "\n",
       "\\item[\\$out] \\begin{enumerate*}\n",
       "\\item 3.75954209097792\n",
       "\\item 2.80207935052819\n",
       "\\item 2.4190942543483\n",
       "\\item 2.4190942543483\n",
       "\\item -2.75120454408027\n",
       "\\item -2.8788662428069\n",
       "\\item 2.73824850116488\n",
       "\\item -2.68737369471695\n",
       "\\item -2.68737369471695\n",
       "\\item -2.495881146627\n",
       "\\item 2.4190942543483\n",
       "\\item 2.99357189861814\n",
       "\\item 2.99357189861814\n",
       "\\item 4.4616814339744\n",
       "\\item 4.4616814339744\n",
       "\\item -2.75120454408027\n",
       "\\item 2.61058680243825\n",
       "\\end{enumerate*}\n",
       "\n",
       "\\end{description}\n"
      ],
      "text/markdown": [
       "$stats\n",
       ":   1. -2.43205029726369\n",
       "2. -0.644786515090851\n",
       "3. 0.0573528279056195\n",
       "4. 0.567999622812145\n",
       "5. 2.35526340498498\n",
       "\n",
       "\n",
       "\n",
       "$n\n",
       ":   1037\n",
       "$conf\n",
       ":   1. -0.00215196295152317\n",
       "2. 0.116857618762762\n",
       "\n",
       "\n",
       "\n",
       "$out\n",
       ":   1. 3.75954209097792\n",
       "2. 2.80207935052819\n",
       "3. 2.4190942543483\n",
       "4. 2.4190942543483\n",
       "5. -2.75120454408027\n",
       "6. -2.8788662428069\n",
       "7. 2.73824850116488\n",
       "8. -2.68737369471695\n",
       "9. -2.68737369471695\n",
       "10. -2.495881146627\n",
       "11. 2.4190942543483\n",
       "12. 2.99357189861814\n",
       "13. 2.99357189861814\n",
       "14. 4.4616814339744\n",
       "15. 4.4616814339744\n",
       "16. -2.75120454408027\n",
       "17. 2.61058680243825\n",
       "\n",
       "\n",
       "\n",
       "\n",
       "\n"
      ],
      "text/plain": [
       "$stats\n",
       "[1] -2.43205030 -0.64478652  0.05735283  0.56799962  2.35526340\n",
       "\n",
       "$n\n",
       "[1] 1037\n",
       "\n",
       "$conf\n",
       "[1] -0.002151963  0.116857619\n",
       "\n",
       "$out\n",
       " [1]  3.759542  2.802079  2.419094  2.419094 -2.751205 -2.878866  2.738249\n",
       " [8] -2.687374 -2.687374 -2.495881  2.419094  2.993572  2.993572  4.461681\n",
       "[15]  4.461681 -2.751205  2.610587\n"
      ]
     },
     "metadata": {},
     "output_type": "display_data"
    }
   ],
   "source": [
    "boxplot.stats(no_outliers_cd$pH)"
   ]
  }
 ],
 "metadata": {
  "kernelspec": {
   "display_name": "R",
   "language": "R",
   "name": "ir"
  },
  "language_info": {
   "codemirror_mode": "r",
   "file_extension": ".r",
   "mimetype": "text/x-r-source",
   "name": "R",
   "pygments_lexer": "r",
   "version": "4.1.1"
  }
 },
 "nbformat": 4,
 "nbformat_minor": 5
}
