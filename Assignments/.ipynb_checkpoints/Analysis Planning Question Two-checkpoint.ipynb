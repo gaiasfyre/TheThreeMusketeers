{
 "cells": [
  {
   "cell_type": "markdown",
   "id": "9aa9b8ad-ac78-4bf3-9206-60a6bb364456",
   "metadata": {},
   "source": [
    "# Analysis Planning Worksheet\n",
    "\n",
    "---\n",
    "### Second Evaluation Question: *** To be Reviewed ***\n",
    "* Having identified the physiochemical properties that influence wine quality, individually, how do they affect the quality? (i.e. does a lower residual sugar content lead to a lower quality score?)\n",
    "\n",
    "---\n",
    "### Methodology: *** To be Reviewed ***\n",
    "\n",
    "* To answer this question, we will attempt to run a _________. (K-Means) \n",
    "* Our Dependent Variable for this analysis will be Quality\n",
    "* Our Independent Variables will be selected in accordance with the results of our first analysis.\n",
    "\n",
    "\n",
    "\n"
   ]
  },
  {
   "cell_type": "code",
   "execution_count": null,
   "id": "ce416b78-ef91-4c85-9e94-09c16925c49b",
   "metadata": {},
   "outputs": [],
   "source": []
  }
 ],
 "metadata": {
  "kernelspec": {
   "display_name": "Python 3 (ipykernel)",
   "language": "python",
   "name": "python3"
  },
  "language_info": {
   "codemirror_mode": {
    "name": "ipython",
    "version": 3
   },
   "file_extension": ".py",
   "mimetype": "text/x-python",
   "name": "python",
   "nbconvert_exporter": "python",
   "pygments_lexer": "ipython3",
   "version": "3.9.7"
  }
 },
 "nbformat": 4,
 "nbformat_minor": 5
}
